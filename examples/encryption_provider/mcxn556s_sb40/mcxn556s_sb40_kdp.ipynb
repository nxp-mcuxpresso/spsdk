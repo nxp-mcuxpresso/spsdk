{
 "cells": [
  {
   "cell_type": "markdown",
   "id": "76b01428",
   "metadata": {},
   "source": [
    "# Encrypting SB40 file using KDP (Key Derivation Provider)"
   ]
  },
  {
   "cell_type": "markdown",
   "id": "5944eba2",
   "metadata": {},
   "source": [
    "## 1. Prerequisites\n",
    "- SPSDK is needed with examples extension. `pip install spsdk[examples]` (Please refer to the [installation](../../_knowledge_base/installation_guide.rst) documentation.)"
   ]
  },
  {
   "cell_type": "markdown",
   "id": "1afae061",
   "metadata": {},
   "source": [
    "## 2. Key Derivation plugin Setup\n",
    "\n",
    "First, we need to setup the Key Derivation Plugin (KDP) and start a custom HSM. To do that please go to [Key Derivation Plugin](../_common/sb_key_derivation_provider.ipynb) and follow the steps there. Once completed, you can continue with this example."
   ]
  },
  {
   "cell_type": "markdown",
   "id": "9e656f5b",
   "metadata": {},
   "source": [
    "## 3. Preparing configuration file\n",
    "\n",
    "For demonstration purposes will be creating an SB4.0 file for mcxn556s. There's nothing special about mcxn556s, this example will work exactly the same for every device which support SB3.1 or SB4.0.\n",
    "\n",
    "There's a prepared [configuration file](sb40_config.yaml) for this specific example.\n",
    "\n",
    "Let's examine portions of the configuration relevant for encryption (and usage of Key Derivation Provider):\n",
    "\n",
    "```yaml\n",
    "containerKeyBlobEncryptionKey: type=mysbkdp;key_id=0\n",
    "```\n",
    "\n",
    "Normally, this setting would point to a CUST_MK_SK (PCK) file located on the computer.\n",
    "\n",
    "Here, the `type` refers to a concrete Key Derivation plugin. This identifier is used to select a specific encryption provider. \n",
    "(For reference see line #15 [demo plugin implementation](../_common/plugins/spsdk_sbkdp/spsdk_sbkdp/provider.py))\n",
    "\n",
    "The `key_id` is just a internal reference to a key stored in the HSM."
   ]
  },
  {
   "cell_type": "markdown",
   "id": "b88d8a23",
   "metadata": {},
   "source": [
    "## 4. Generating the SB file"
   ]
  },
  {
   "cell_type": "code",
   "execution_count": 6,
   "id": "87eb744b",
   "metadata": {
    "tags": [
     "remove-cell"
    ]
   },
   "outputs": [
    {
     "name": "stdout",
     "output_type": "stream",
     "text": [
      "env: JUPYTER_SPSDK=1\n",
      "Created `%!` as an alias for `%execute`.\n"
     ]
    }
   ],
   "source": [
    "# This env variable sets colored logger output to STDOUT\n",
    "%env JUPYTER_SPSDK=1\n",
    "# Set a magic for command execution and echo\n",
    "%alias execute echo %l && %l\n",
    "%alias_magic ! execute"
   ]
  },
  {
   "cell_type": "code",
   "execution_count": 7,
   "id": "43e0a95b",
   "metadata": {},
   "outputs": [
    {
     "name": "stdout",
     "output_type": "stream",
     "text": [
      "\u001b[37m\u001b[1mINFO:spsdk.utils.service_provider:Loading plugins: spsdk.sb31kdp\u001b[39m\u001b[0m\n",
      "\u001b[37m\u001b[1mINFO:spsdk.utils.plugins:Plugin mysbkdp-spsdk.sb31kdp has been loaded.\u001b[39m\u001b[0m\n",
      "\u001b[37m\u001b[1mINFO:spsdk.sbfile.sb31.images:Adding list (1): [SB3.1 Command: CmdErase]\u001b[39m\u001b[0m\n",
      "\u001b[37m\u001b[1mINFO:spsdk.sbfile.sb31.images:Adding list (1): [SB3.1 Command: CmdLoad]\u001b[39m\u001b[0m\n",
      "SRKH: 412600fd846385bd8263770692fba46721d30c12aede0dc19cbaf54c5c473948179953bdaf43eb2a3cfdbfde7ae8f17bdcbb3ba79b675c2b5746c41c1f4d2d6b\n",
      "Success. (Secure binary 4.0: output/plugin.sb4 created.)\n"
     ]
    }
   ],
   "source": [
    "! nxpimage -v sb40 export -c sb40_config.yaml"
   ]
  },
  {
   "cell_type": "markdown",
   "id": "59198295",
   "metadata": {},
   "source": [
    "In the command's output you may notice the following details:\n",
    "```\n",
    "INFO:spsdk.utils.service_provider:Loading plugins: spsdk.sb31kdp\n",
    "INFO:spsdk.utils.plugins:Plugin mysbkdp-spsdk.sb31kdp has been loaded.\n",
    "```\n",
    "SPSDK loads relevant installed plugins before attempting to preform any operation that could be delegated to a plugin."
   ]
  },
  {
   "cell_type": "markdown",
   "id": "1e77f401",
   "metadata": {},
   "source": [
    "## 5. Parsing the generated SB file\n",
    "\n",
    "For parsing we'll use `nxpimage sb40 parse` command. This command normally expects the used CUST_MK_SK (PCK) key to be provided on the command line. However, we may used the same configuration string as used during generation (`type=mysbkdp;key_id=0`)."
   ]
  },
  {
   "cell_type": "code",
   "execution_count": null,
   "id": "5adef908",
   "metadata": {},
   "outputs": [
    {
     "name": "stdout",
     "output_type": "stream",
     "text": [
      "\u001b[37m\u001b[1mINFO:spsdk.utils.service_provider:Loading plugins: spsdk.sb31kdp\u001b[39m\u001b[0m\n",
      "\u001b[37m\u001b[1mINFO:spsdk.utils.plugins:Plugin mysbkdp-spsdk.sb31kdp has been loaded.\u001b[39m\u001b[0m\n",
      "Success. (SB4.0: output/plugin.sb4 has been parsed and stored into parsed/sb4_mcxn646_config.yaml.)\n"
     ]
    }
   ],
   "source": [
    "! nxpimage -v sb40 parse -f mcxn556s -b output/plugin.sb4 -k \"type=mysbkdp;key_id=0\" -o parsed"
   ]
  },
  {
   "cell_type": "markdown",
   "id": "05573811",
   "metadata": {},
   "source": [
    "As a quick check, we may compare the input binary provided in the config file with the decrypted output to verify integrity and correctness of the decryption process."
   ]
  },
  {
   "cell_type": "code",
   "execution_count": 9,
   "id": "0d93defc",
   "metadata": {},
   "outputs": [
    {
     "name": "stdout",
     "output_type": "stream",
     "text": [
      "Binary files match: True\n"
     ]
    }
   ],
   "source": [
    "import filecmp\n",
    "\n",
    "result = filecmp.cmp(\"inputs/my_binary.bin\", \"parsed/load_data_00000000.bin\")\n",
    "print(f\"Binary files match: {result}\")"
   ]
  }
 ],
 "metadata": {
  "kernelspec": {
   "display_name": "venv",
   "language": "python",
   "name": "python3"
  },
  "language_info": {
   "codemirror_mode": {
    "name": "ipython",
    "version": 3
   },
   "file_extension": ".py",
   "mimetype": "text/x-python",
   "name": "python",
   "nbconvert_exporter": "python",
   "pygments_lexer": "ipython3",
   "version": "3.12.2"
  }
 },
 "nbformat": 4,
 "nbformat_minor": 5
}
