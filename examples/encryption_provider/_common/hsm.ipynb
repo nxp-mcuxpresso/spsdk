{
 "cells": [
  {
   "cell_type": "markdown",
   "id": "6b9ee188",
   "metadata": {},
   "source": [
    "# Custom HSM\n",
    "\n",
    "To support secure storage of the encryption key when encrypting SB3.1 and SB4.0 files, the HSM must support a CMAC operation.\n",
    "\n",
    "We will use a simple Flash REST API application representing the HSM.\n",
    "In our setup, the HSM has 2 AES keys already deployed. We'll accessing them using a `key_id` parameter."
   ]
  },
  {
   "cell_type": "markdown",
   "id": "dd220cbd",
   "metadata": {},
   "source": [
    "1. Setup\n",
    "\n",
    "Run the following code to start the HSM application.\n",
    "Please note that this process has to run in the background (only close/stop this notebook once you're done with the HSM operations)"
   ]
  },
  {
   "cell_type": "code",
   "execution_count": 2,
   "id": "7aaaf462",
   "metadata": {},
   "outputs": [
    {
     "name": "stdout",
     "output_type": "stream",
     "text": [
      " * Serving Flask app 'hsm.hsm'\n",
      " * Debug mode: off\n"
     ]
    },
    {
     "name": "stderr",
     "output_type": "stream",
     "text": [
      "WARNING: This is a development server. Do not use it in a production deployment. Use a production WSGI server instead.\n",
      " * Running on http://127.0.0.1:5010\n",
      "Press CTRL+C to quit\n",
      "127.0.0.1 - - [01/Aug/2025 17:09:20] \"GET /api/cmac/0 HTTP/1.1\" 200 -\n"
     ]
    }
   ],
   "source": [
    "from hsm.hsm import app\n",
    "\n",
    "app.run(host=\"127.0.0.1\", port=5010)"
   ]
  }
 ],
 "metadata": {
  "kernelspec": {
   "display_name": "venv",
   "language": "python",
   "name": "python3"
  },
  "language_info": {
   "codemirror_mode": {
    "name": "ipython",
    "version": 3
   },
   "file_extension": ".py",
   "mimetype": "text/x-python",
   "name": "python",
   "nbconvert_exporter": "python",
   "pygments_lexer": "ipython3",
   "version": "3.12.2"
  }
 },
 "nbformat": 4,
 "nbformat_minor": 5
}
