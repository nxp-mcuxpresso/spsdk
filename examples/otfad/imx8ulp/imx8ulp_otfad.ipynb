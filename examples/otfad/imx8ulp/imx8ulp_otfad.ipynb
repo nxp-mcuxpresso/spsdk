{
 "cells": [
  {
   "cell_type": "markdown",
   "metadata": {},
   "source": [
    "# i.MX8ULP OTFAD (On-The-Fly AES Decryption) Example\n",
    "\n",
    "This notebook describes how to build a bootable AHAB image that is encrypted using the i.MX 8ULP OTFAD (On-The-Fly AES Decryption) feature. The i.MX 8ULP OTFAD is a hardware accelerator that can be used to encrypt and decrypt data on-the-fly. The OTFAD is also used to decrypt the boot image when the i.MX 8ULP boots.\n",
    "\n",
    "In this example we will demonstrate how to create an OTFAD encrypted image that could be used for dual boot.\n",
    "\n"
   ]
  },
  {
   "cell_type": "markdown",
   "metadata": {},
   "source": [
    "## 1. Prerequisites\n",
    "\n",
    "- SPSDK is needed with examples extension. `pip install spsdk[examples]` (Please refer to the installation documentation.)\n",
    "- This demo was tested with i.MX8ULP EVK board\n",
    "\n"
   ]
  },
  {
   "cell_type": "code",
   "execution_count": 25,
   "metadata": {
    "tags": [
     "remove-cell"
    ]
   },
   "outputs": [
    {
     "name": "stdout",
     "output_type": "stream",
     "text": [
      "env: JUPYTER_SPSDK=1\n",
      "Created `%!` as an alias for `%execute`.\n"
     ]
    }
   ],
   "source": [
    "from spsdk.utils.jupyter_utils import YamlDiffWidget\n",
    "\n",
    "# This env variable sets colored logger output to STDOUT\n",
    "# Execute this cell to enable execution of the ! line magic\n",
    "%env JUPYTER_SPSDK=1\n",
    "%alias execute echo %l && %l\n",
    "%alias_magic ! execute"
   ]
  },
  {
   "cell_type": "markdown",
   "metadata": {},
   "source": [
    "### 1.1 Images preparation\n",
    "\n",
    "1) We use U-Boot image in this example. Prepare the U-Boot image for flexSPI flash_dualboot_m33_evk_nor.bin using the `imx-mkimage` or `nxpimage` tool or use the prebuilt image from the NXP website.\n",
    "\n",
    "2) Prepare FCB binary for the flash memory.\n",
    "\n",
    "3) Prepare bootloader for downloading the image 'imx-boot-imx8ulpevk-sd.bin'.\n",
    "\n",
    "4) Put the U-Boot image and FCB binary to the inputs directory.\n",
    "\n",
    "5) Extract image container set from the data\n",
    "\n",
    "    ```bash\n",
    "\n",
    "    nxpimage -v utils binary-image extract -b inputs/flash_dualboot_m33_evk_nor.bin -a 0x1000 -s 0 -o workspace/m33-boot.bin\n",
    "    \n",
    "    ```\n"
   ]
  },
  {
   "cell_type": "code",
   "execution_count": 26,
   "metadata": {},
   "outputs": [
    {
     "name": "stdout",
     "output_type": "stream",
     "text": [
      "nxpimage -v utils binary-image extract -b inputs/flash_dualboot_m33_evk_nor.bin -a 0x1000 -s 0 -o workspace/m33-boot.bin \n",
      "Success. (Extracted chunk: workspace/m33-boot.bin created.)\n"
     ]
    }
   ],
   "source": [
    "FILENAME = \"inputs/flash_dualboot_m33_evk_nor.bin\"\n",
    "\n",
    "%! nxpimage -v utils binary-image extract -b $FILENAME -a 0x1000 -s 0 -o workspace/m33-boot.bin"
   ]
  },
  {
   "cell_type": "markdown",
   "metadata": {},
   "source": [
    "## 2. OTFAD\n",
    "\n",
    "- The OTFAD engine includes complete hardware support for a standard AES key unwrap mechanism to decrypt a key BLOB data instruction containing the parameters needed for up to 4 unique AES contexts. Each context has a unique 128-bit key, 64-bit counter and 64-bit memory region descriptor.\n",
    "- OTFAD can only be used with flexSPI instance 0, it can’t be used for other boot medias like eMMC.\n",
    "- OTFAD will be enabled by system ROM when booting from flexSPI 0, user just need to prepare encrypted boot image and program OTFAD related fuses.\n",
    "- Please check more information about OTFAD IP from the i.8ULP security reference manual.\n",
    "\n",
    "![OTFAD structure](img/otfad_structure.png)\n",
    "\n",
    "### 2.1 OTFAD Key Scrambling\n",
    "\n",
    "Key scrambling is an encryption algorithm designed to obfuscate the secret key information. It is an optional feature. When enabled, the OTFAD engine implements a key scrambling algorithm, wherein, the input OTFAD key is scrambled and then utilized to unwrap the key blobs containing the image encryption keys.\n",
    "\n",
    "The OTFAD tool takes three inputs to scramble the OTFAD key:\n",
    "- OTFAD key: An OEM programmed input 128-bit key used to wrap/un-wrap the image encryption keys. \n",
    "- Key Scramble: An OEM programmed input 32-bit key used to scramble the input OTFAD key.\n",
    "- Key Scramble Align: An OEM programmed 8-bit key aligns value used along with Key Scramble in scrambling algorithm.\n",
    "\n",
    "\n",
    "### 2.2 OTFAD Template\n",
    "\n",
    "The following command generates the template:\n",
    "\n",
    "```bash\n",
    "nxpimage otfad get-template -f mimx8ulp -o otfad_template.yaml\n",
    "```\n",
    "\n",
    "### 2.3 Exporting the OTFAD Image\n",
    "\n",
    "The following command exports the OTFAD image\n",
    "\n",
    "```bash\n",
    "nxpimage otfad export -f mimx8ulp -c otfad_template.yaml\n",
    "```\n"
   ]
  },
  {
   "cell_type": "code",
   "execution_count": 27,
   "metadata": {
    "tags": [
     "remove-input"
    ]
   },
   "outputs": [
    {
     "name": "stdout",
     "output_type": "stream",
     "text": [
      "nxpimage otfad get-template -f mimx8ulp -o workspace/otfad_template.yaml --force \n",
      "Creating workspace/otfad_template.yaml template file.\n"
     ]
    },
    {
     "data": {
      "text/html": [
       "\n",
       "            \n",
       "            <style>\n",
       "                .yaml-diff { font-family: monospace; background-color: #f0f0f0; padding: 1em; border: 1px solid #c0c0c0; }\n",
       "                .yaml-key { color: #0000CC; font-weight: bold; }\n",
       "                .yaml-value { color: #006600; }\n",
       "                .yaml-commented-line { color: #008800; }\n",
       "                .yaml-list-item { color: #660066; }\n",
       "                .diff-removed { background-color: #ffaaaa; }\n",
       "                .diff-added { background-color: #aaffaa; }\n",
       "                .yaml-comment {\n",
       "                    background-color: #FF8C00;\n",
       "                    color: #000000;\n",
       "                    border-radius: 50%;\n",
       "                    padding: 0 0.3em;\n",
       "                    margin-left: 0.5em;\n",
       "                    font-size: 0.8em;\n",
       "                    cursor: help;\n",
       "                    font-weight: bold;\n",
       "                    text-shadow: 1px 1px 1px rgba(255, 255, 255, 0.7);\n",
       "                }\n",
       "                #toggleButton_1dd7ce194c36afb926da0884638bc463 {\n",
       "                    background-color: #4CAF50;\n",
       "                    border: none;\n",
       "                    color: white;\n",
       "                    padding: 10px 20px;\n",
       "                    text-align: center;\n",
       "                    text-decoration: none;\n",
       "                    display: inline-block;\n",
       "                    font-size: 16px;\n",
       "                    margin: 4px 2px;\n",
       "                    cursor: pointer;\n",
       "                }\n",
       "            </style>\n",
       "            \n",
       "            \n",
       "            <script>\n",
       "            function toggleView_1dd7ce194c36afb926da0884638bc463() {\n",
       "                var diffView = document.getElementById('diffView_1dd7ce194c36afb926da0884638bc463');\n",
       "                var userConfigView = document.getElementById('userConfigView_1dd7ce194c36afb926da0884638bc463');\n",
       "                var button = document.getElementById('toggleButton_1dd7ce194c36afb926da0884638bc463');\n",
       "\n",
       "                if (diffView.style.display === 'none' && userConfigView.style.display === 'none') {\n",
       "                    diffView.style.display = 'block';\n",
       "                    userConfigView.style.display = 'none';\n",
       "                    button.textContent = 'Show User Config';\n",
       "                } else if (diffView.style.display === 'block') {\n",
       "                    diffView.style.display = 'none';\n",
       "                    userConfigView.style.display = 'block';\n",
       "                    button.textContent = 'Hide';\n",
       "                } else {\n",
       "                    diffView.style.display = 'none';\n",
       "                    userConfigView.style.display = 'none';\n",
       "                    button.textContent = 'Show Diff';\n",
       "                }\n",
       "            }\n",
       "            </script>\n",
       "            \n",
       "            <div class=\"yaml-diff-container\">\n",
       "            <h3>Configuration Differences</h3>\n",
       "            <button onclick=\"toggleView_1dd7ce194c36afb926da0884638bc463()\" id=\"toggleButton_1dd7ce194c36afb926da0884638bc463\">Show Diff</button>\n",
       "            \n",
       "            <a href=\"data:text/plain;base64,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\" download=\"user_config.yaml\">\n",
       "                <button style=\"background-color: #4CAF50; border: none; color: white; padding: 10px 20px; text-align: center; text-decoration: none; display: inline-block; font-size: 16px; margin: 4px 2px; cursor: pointer;\">\n",
       "                    Download Config\n",
       "                </button>\n",
       "            </a>\n",
       "            \n",
       "            <div id=\"diffView_1dd7ce194c36afb926da0884638bc463\" class=\"yaml-diff\" style=\"display:none;\"><pre class=\"yaml-diff\"><span class=\"yaml-commented-line\"># =====================  On-The-Fly AES decryption Configuration for mimx8ulp, Revision: latest.  ======================</span><br><br><span class=\"diff-added\"></span><br><span class=\"yaml-commented-line\"># ======================================================================================================================</span><br><span class=\"yaml-commented-line\">#                                                 == General Options ==                                                 </span><br><span class=\"yaml-commented-line\"># ======================================================================================================================</span><br><span class=\"yaml-commented-line\"># -------------------------------------===== The chip family name [Required] =====--------------------------------------</span><br><span class=\"yaml-commented-line\"># Description: NXP chip family identifier.</span><br><span class=\"yaml-key\">family</span>: <span class=\"yaml-value\">mimx8ulp</span><br><span class=\"yaml-commented-line\"># -----------------------------------------===== MCU revision [Optional] =====------------------------------------------</span><br><span class=\"yaml-commented-line\"># Description: Revision of silicon. The 'latest' name, means most current revision.</span><br><span class=\"yaml-commented-line\"># Possible options: <a0, a1, a2, latest></span><br><span class=\"yaml-key\">revision</span>: <span class=\"yaml-value\">latest</span><br><span class=\"yaml-commented-line\"># ======================================================================================================================</span><br><span class=\"yaml-commented-line\">#                                                  == Basic Settings ==                                                 </span><br><span class=\"yaml-commented-line\"># ======================================================================================================================</span><br><span class=\"yaml-commented-line\"># --------------------------------------===== OTFAD output folder [Required] =====--------------------------------------</span><br><span class=\"yaml-commented-line\"># Description: Path to directory where the OTFAD output will be generated</span><br><span class=\"diff-added\"><span class=\"yaml-key\">output_folder</span>: <span class=\"yaml-value\">../workspace/encrypted</span></span><br><span class=\"diff-removed\"><span class=\"yaml-key\">output_folder</span>: <span class=\"yaml-value\">otfad_output</span> <span style=\"background-color: #FFFF00; border-radius: 5px; padding:\n",
       "2px 6px; margin-left: 5px; font-size: 0.8em;\">Change the output folder to the workspace</span></span><br><span class=\"yaml-commented-line\"># ---------------------------------===== Output binary image file name [Optional] =====---------------------------------</span><br><span class=\"yaml-commented-line\"># Description: Filename of the output image containing keyblobs and encrypted data blobs without file extension (.bin</span><br><span class=\"yaml-commented-line\"># will be appended)</span><br><span class=\"diff-removed\"><span class=\"yaml-key\">output_name</span>: <span class=\"yaml-value\">otfad_whole_image</span></span><br><span class=\"yaml-commented-line\"># ---------------------------------------===== Keyblob file name [Optional] =====---------------------------------------</span><br><span class=\"yaml-commented-line\"># Description: Filename of the keyblob without file extension (.bin will be appended)</span><br><span class=\"diff-removed\"><span class=\"yaml-key\">keyblob_name</span>: <span class=\"yaml-value\">OTFAD_Table</span></span><br><span class=\"yaml-commented-line\"># ----------------------------------------===== Encrypted name [Optional] =====-----------------------------------------</span><br><span class=\"yaml-commented-line\"># Description: filename of the encrypted datablobs without file extension (.bin will be appended)</span><br><span class=\"diff-removed\"><span class=\"yaml-key\">encrypted_name</span>: <span class=\"yaml-value\">encrypted_blob</span></span><br><span class=\"yaml-commented-line\"># --------------------------------------===== Generate readme.txt [Optional] =====--------------------------------------</span><br><span class=\"yaml-commented-line\"># Description: Readme file contains information about image layout</span><br><span class=\"diff-removed\"><span class=\"yaml-key\">generate_readme</span>: <span class=\"yaml-value\">true</span></span><br><span class=\"yaml-commented-line\"># ======================================================================================================================</span><br><span class=\"yaml-commented-line\">#                                                  == OTFAD Settings ==                                                 </span><br><span class=\"yaml-commented-line\"># ======================================================================================================================</span><br><span class=\"yaml-commented-line\"># ----------------------------------------------===== KEK [Required] =====----------------------------------------------</span><br><span class=\"yaml-commented-line\"># Description: OTFAD Key Encryption Key to encrypt OTFAD table. Might be provided as a path to binary file containing</span><br><span class=\"yaml-commented-line\"># KEK or as a string or number</span><br><span class=\"diff-removed\"><span class=\"yaml-key\">kek</span>: <span class=\"yaml-value\">my_secret_kek.bin</span> <span style=\"background-color: #FFFF00; border-radius: 5px; padding: 2px\n",
       "6px; margin-left: 5px; font-size: 0.8em;\">Define a key encryption key that will be programmed to fuses</span></span><br><span class=\"diff-added\"><span class=\"yaml-key\">kek</span>: <span class=\"yaml-value\">\"0xFFFFFFFFFFFFFFFFFFFFFFFFFFFFFFFF\"</span></span><br><span class=\"yaml-commented-line\"># ---------------------------------===== OTFAD key blobs table address [Required] =====---------------------------------</span><br><span class=\"yaml-commented-line\"># Description: The base address of key blob table, it should be aligned to 1 KB (1024 B)</span><br><span class=\"diff-removed\"><span class=\"yaml-key\">otfad_table_address</span>: <span class=\"yaml-value\">'0x40000000'</span></span><br><span class=\"diff-added\"><span class=\"yaml-key\">otfad_table_address</span>: <span class=\"yaml-value\">\"0x04000000\"</span></span><br><span class=\"yaml-commented-line\"># ----------------------------------------===== Data blobs list [Optional] =====----------------------------------------</span><br><span class=\"yaml-commented-line\"># Description: List of all data blobs included in this key blob</span><br><span class=\"yaml-key\">data_blobs</span>: <span style=\"background-color: #FFFF00; border-radius: 5px; padding: 2px 6px; margin-left: 5px; font-size:\n",
       "0.8em;\">Define the data that will be encrypted</span><br><span class=\"diff-removed\"><span class=\"yaml-key\">  -</span></span><br>    <span class=\"yaml-commented-line\"># -----------------------------------===== Plain Text data blob [Required] =====------------------------------------</span><br><span class=\"diff-added\"><span class=\"yaml-key\">  - </span><span class=\"yaml-commented-line\"># -----------------------------------===== Plain Text data blob [Required] =====------------------------------------</span></span><br>    <span class=\"yaml-commented-line\"># Description: Path to binary file with plain text data to be encrypted if desired</span><br><span class=\"diff-removed\"><span class=\"yaml-key\">    data</span>: <span class=\"yaml-value\">my_data.bin</span> <span style=\"background-color: #FFFF00; border-radius: 5px; padding: 2px\n",
       "6px; margin-left: 5px; font-size: 0.8em;\">Define the data that will be encrypted</span></span><br><span class=\"diff-added\"><span class=\"yaml-key\">    data</span>: <span class=\"yaml-value\">workspace/m33-boot.bin</span></span><br>    <span class=\"yaml-commented-line\"># -------------------------------------===== Data blob address [Required] =====-------------------------------------</span><br>    <span class=\"yaml-commented-line\"># Description: Data blob address, it could be omitted if data blob starts at start_address</span><br><span class=\"diff-removed\"><span class=\"yaml-key\">    address</span>: <span class=\"yaml-value\">'0x40001000'</span></span><br><span class=\"diff-added\"><span class=\"yaml-key\">    address</span>: <span class=\"yaml-value\">\"0x04001000\"</span></span><br><span class=\"yaml-commented-line\"># --------------------------------===== List of Key Blobs used by OTFAD [Required] =====--------------------------------</span><br><span class=\"yaml-commented-line\"># Description: The list of definition of individual key blobs including plain data. Add other array items as you need</span><br><span class=\"yaml-commented-line\"># and device allows</span><br><span class=\"yaml-key\">key_blobs</span>: <span style=\"background-color: #FFFF00; border-radius: 5px; padding: 2px 6px; margin-left: 5px; font-size:\n",
       "0.8em;\">Define up to 4 contexts for encryption</span><br><span class=\"diff-removed\"><span class=\"yaml-key\">  -</span></span><br>    <span class=\"yaml-commented-line\"># ------------------------------------------===== AES key [Required] =====------------------------------------------</span><br><span class=\"diff-added\"><span class=\"yaml-key\">  - </span><span class=\"yaml-commented-line\"># ------------------------------------------===== AES key [Required] =====------------------------------------------</span></span><br>    <span class=\"yaml-commented-line\"># Description: AES key for the key blob</span><br><span class=\"diff-removed\"><span class=\"yaml-key\">    aes_key</span>: <span class=\"yaml-value\">'0xB1A0C56AF31E98CD6936A79D9E6F829D'</span> <span style=\"background-color: #FFFF00; border-\n",
       "radius: 5px; padding: 2px 6px; margin-left: 5px; font-size: 0.8em;\">Define the AES key that will be used for encryption</span></span><br><span class=\"diff-added\"><span class=\"yaml-key\">    aes_key</span>: <span class=\"yaml-value\">\"0xB1A0C56AF31E98CD6936A79D9E6F829D\"</span></span><br>    <span class=\"yaml-commented-line\"># -------------------------------------===== AES Counter value [Required] =====-------------------------------------</span><br>    <span class=\"yaml-commented-line\"># Description: AES counter value for the key blob</span><br><span class=\"diff-removed\"><span class=\"yaml-key\">    aes_ctr</span>: <span class=\"yaml-value\">'0x5689fab8b4bfb264'</span></span><br><span class=\"diff-added\"><span class=\"yaml-key\">    aes_ctr</span>: <span class=\"yaml-value\">\"0x5689fab8b4bfb264\"</span></span><br>    <span class=\"yaml-commented-line\"># ------------------------------===== Start address of key blob data [Required] =====-------------------------------</span><br>    <span class=\"yaml-commented-line\"># Description: Start address of key blob data, it should be aligned to 1 KB (1024 B)</span><br><span class=\"diff-removed\"><span class=\"yaml-key\">    start_address</span>: <span class=\"yaml-value\">'0x40001000'</span> <span style=\"background-color: #FFFF00; border-radius: 5px;\n",
       "padding: 2px 6px; margin-left: 5px; font-size: 0.8em;\">Define the start address of the data that will be encrypted by the keyblob</span></span><br><span class=\"diff-added\"><span class=\"yaml-key\">    start_address</span>: <span class=\"yaml-value\">\"0x04001000\"</span></span><br>    <span class=\"yaml-commented-line\"># -------------------------------===== End address of key blob data [Required] =====--------------------------------</span><br>    <span class=\"yaml-commented-line\"># Description: End address of key blob data, it should be aligned to 1 KB (1024 B)</span><br><span class=\"diff-removed\"><span class=\"yaml-key\">    end_address</span>: <span class=\"yaml-value\">'0x40010000'</span></span><br><span class=\"diff-added\"><span class=\"yaml-key\">    end_address</span>: <span class=\"yaml-value\">\"0x04030000\"</span></span><br>    <span class=\"yaml-commented-line\"># --------------------------------===== AES decryption enable flag [Optional] =====---------------------------------</span><br>    <span class=\"yaml-commented-line\"># Description: For accesses hitting in a valid context, this bit indicates if the fetched data is to be decrypted or</span><br>    <span class=\"yaml-commented-line\"># simply bypassed</span><br><span class=\"yaml-key\">    aes_decryption_enable</span>: <span class=\"yaml-value\">true</span><br>    <span class=\"yaml-commented-line\"># ----------------------------------------===== Valid flag [Optional] =====-----------------------------------------</span><br>    <span class=\"yaml-commented-line\"># Description: This field signals if the context is valid or not</span><br><span class=\"yaml-key\">    valid</span>: <span class=\"yaml-value\">true</span><br>    <span class=\"yaml-commented-line\"># --------------------------------------===== Read Only flag [Optional] =====---------------------------------------</span><br>    <span class=\"yaml-commented-line\"># Description: This field signals if the context is Read only or not</span><br><span class=\"yaml-key\">    read_only</span>: <span class=\"yaml-value\">true</span><br><span class=\"yaml-commented-line\"># ======================================================================================================================</span><br><span class=\"yaml-commented-line\">#                                          == OTFAD Key Scrambling Settings ==                                          </span><br><span class=\"yaml-commented-line\"># ======================================================================================================================</span><br><span class=\"diff-removed\"><span class=\"yaml-key\">key_scramble</span>: <span style=\"background-color: #FFFF00; border-radius: 5px; padding: 2px 6px; margin-left: 5px; font-size:\n",
       "0.8em;\">This might be removed if you don't want to use key scrambling</span></span><br>  <span class=\"yaml-commented-line\"># ----------------------------------------===== Key Scramble [Required] =====-----------------------------------------</span><br>  <span class=\"yaml-commented-line\"># Description: OTFAD Key Scramble mask (4 bytes size)</span><br><span class=\"diff-removed\"><span class=\"yaml-key\">  key_scramble_mask</span>: <span class=\"yaml-value\">'0x12345678'</span> <span style=\"background-color: #FFFF00; border-radius: 5px;\n",
       "padding: 2px 6px; margin-left: 5px; font-size: 0.8em;\">This might be removed if you don't want to use key scrambling</span></span><br>  <span class=\"yaml-commented-line\"># -------------------------------------===== Key Scramble Align [Required] =====--------------------------------------</span><br>  <span class=\"yaml-commented-line\"># Description: OTFAD Key scramble mask align (1 byte size)</span><br><span class=\"diff-removed\"><span class=\"yaml-key\">  key_scramble_align</span>: <span class=\"yaml-value\">'0x72'</span> <span style=\"background-color: #FFFF00; border-radius: 5px; padding:\n",
       "2px 6px; margin-left: 5px; font-size: 0.8em;\">This might be removed if you don't want to use key scrambling</span></span><br></pre></div>\n",
       "            <div id=\"userConfigView_1dd7ce194c36afb926da0884638bc463\" class=\"yaml-diff\" style=\"display:none;\"><pre class=\"yaml-diff\"><span class=\"yaml-commented-line\"># Copyright 2024-2025 NXP</span><br><span class=\"yaml-commented-line\">#</span><br><span class=\"yaml-commented-line\"># SPDX-License-Identifier: BSD-3-Clause</span><br><span class=\"yaml-commented-line\"># ==========================  On-The-Fly AES decryption Configuration template for mimx9352.  ==========================</span><br><br><span class=\"yaml-commented-line\"># -------------------------------------------------------- Note --------------------------------------------------------</span><br><span class=\"yaml-commented-line\"># Is important to use physical addresses (non-secure) in settings of OTFAD to proper run the decryption on device.</span><br><span class=\"yaml-commented-line\"># For example:</span><br><span class=\"yaml-commented-line\">#   In case of using FlexSPI2 the secure base address address is 0x1400_0000. But in setting of the OTFAD use</span><br><span class=\"yaml-commented-line\"># 0x0400_0000 as a base address.</span><br><span class=\"yaml-commented-line\">#   The code must be still linked on secure base address 0x1400_0000 to proper run of OTFAD hardware.</span><br><br><span class=\"yaml-commented-line\">#   Same is for FlexSPI1, but instead of 0x3800_0000 base address, the 0x2800_0000 must be used in OTFAD configuration.</span><br><span class=\"yaml-commented-line\"># ======================================================================================================================</span><br><span class=\"yaml-commented-line\">#                                                 == General Options ==</span><br><span class=\"yaml-commented-line\"># ======================================================================================================================</span><br><span class=\"yaml-commented-line\"># -------------------------------------===== The chip family name [Required] =====--------------------------------------</span><br><span class=\"yaml-commented-line\"># Description: NXP chip family identifier.</span><br><span class=\"yaml-commented-line\"># Possible options: <mimx9352, mimxrt1010, mimxrt1165, mimxrt1166, mimxrt1171, mimxrt1172, mimxrt1173, mimxrt1175,</span><br><span class=\"yaml-commented-line\"># mimxrt1176, mimxrt1181, mimxrt1182, mimxrt1187, mimxrt1189, mimxrt533s, mimxrt555s, mimxrt595s, mimxrt685s></span><br><span class=\"yaml-key\">family</span>: <span class=\"yaml-value\">mimx8ulp</span><br><span class=\"yaml-commented-line\"># -----------------------------------------===== MCU revision [Optional] =====------------------------------------------</span><br><span class=\"yaml-commented-line\"># Description: Revision of silicon. The 'latest' name, means most current revision.</span><br><span class=\"yaml-commented-line\"># Possible options: <a0, a1, latest></span><br><span class=\"yaml-key\">revision</span>: <span class=\"yaml-value\">latest</span><br><span class=\"yaml-commented-line\"># ======================================================================================================================</span><br><span class=\"yaml-commented-line\">#                                                  == Basic Settings ==</span><br><span class=\"yaml-commented-line\"># ======================================================================================================================</span><br><span class=\"yaml-commented-line\"># --------------------------------------===== OTFAD output folder [Required] =====--------------------------------------</span><br><span class=\"yaml-commented-line\"># Description: Path to directory where the OTFAD output will be generated</span><br><span class=\"yaml-key\">output_folder</span>: <span class=\"yaml-value\">../workspace/encrypted</span> <span style=\"background-color: #FFFF00; border-radius: 5px;\n",
       "padding: 2px 6px; margin-left: 5px; font-size: 0.8em;\">Change the output folder to the workspace</span><br><span class=\"yaml-commented-line\"># ======================================================================================================================</span><br><span class=\"yaml-commented-line\">#                                                  == OTFAD Settings ==</span><br><span class=\"yaml-commented-line\"># ======================================================================================================================</span><br><span class=\"yaml-commented-line\"># ----------------------------------------------===== KEK [Required] =====----------------------------------------------</span><br><span class=\"yaml-commented-line\"># Description: OTFAD Key Encryption Key to encrypt OTFAD table. Might be provided as a path to binary file containing</span><br><span class=\"yaml-commented-line\"># KEK or as a string or number</span><br><span class=\"yaml-key\">kek</span>: <span class=\"yaml-value\">\"0xFFFFFFFFFFFFFFFFFFFFFFFFFFFFFFFF\"</span> <span style=\"background-color: #FFFF00; border-radius:\n",
       "5px; padding: 2px 6px; margin-left: 5px; font-size: 0.8em;\">Define a key encryption key that will be programmed to fuses</span><br><span class=\"yaml-commented-line\"># kek: \"0x00112233445566778899AABBCCDDEEFF\"</span><br><span class=\"yaml-commented-line\"># ---------------------------------===== OTFAD key blobs table address [Required] =====---------------------------------</span><br><span class=\"yaml-commented-line\"># Description: The base address of key blob table, it should be aligned to 1 KB (1024 B)</span><br><span class=\"yaml-key\">otfad_table_address</span>: <span class=\"yaml-value\">\"0x04000000\"</span><br><span class=\"yaml-commented-line\"># ----------------------------------------===== Data blobs list [Optional] =====----------------------------------------</span><br><span class=\"yaml-commented-line\"># Description: List of all data blobs included in this key blob</span><br><span class=\"yaml-key\">data_blobs</span>: <span style=\"background-color: #FFFF00; border-radius: 5px; padding: 2px 6px; margin-left: 5px; font-size:\n",
       "0.8em;\">Define the data that will be encrypted</span><br><span class=\"yaml-key\">  - </span><span class=\"yaml-commented-line\"># -----------------------------------===== Plain Text data blob [Required] =====------------------------------------</span><br>    <span class=\"yaml-commented-line\"># Description: Path to binary file with plain text data to be encrypted if desired</span><br><span class=\"yaml-key\">    data</span>: <span class=\"yaml-value\">workspace/m33-boot.bin</span> <span style=\"background-color: #FFFF00; border-radius: 5px;\n",
       "padding: 2px 6px; margin-left: 5px; font-size: 0.8em;\">Define the data that will be encrypted</span><br>    <span class=\"yaml-commented-line\"># -------------------------------------===== Data blob address [Required] =====-------------------------------------</span><br>    <span class=\"yaml-commented-line\"># Description: Data blob address, it could be omitted if data blob starts at start_address</span><br><span class=\"yaml-key\">    address</span>: <span class=\"yaml-value\">\"0x04001000\"</span><br><span class=\"yaml-commented-line\"># --------------------------------===== List of Key Blobs used by OTFAD [Required] =====--------------------------------</span><br><span class=\"yaml-commented-line\"># Description: The list of definition of individual key blobs including plain data. Add other array items as you need</span><br><span class=\"yaml-commented-line\"># and device allows</span><br><span class=\"yaml-key\">key_blobs</span>: <span style=\"background-color: #FFFF00; border-radius: 5px; padding: 2px 6px; margin-left: 5px; font-size:\n",
       "0.8em;\">Define up to 4 contexts for encryption</span><br><span class=\"yaml-key\">  - </span><span class=\"yaml-commented-line\"># ------------------------------------------===== AES key [Required] =====------------------------------------------</span><br>    <span class=\"yaml-commented-line\"># Description: AES key for the key blob</span><br><span class=\"yaml-key\">    aes_key</span>: <span class=\"yaml-value\">\"0xB1A0C56AF31E98CD6936A79D9E6F829D\"</span> <span style=\"background-color: #FFFF00; border-\n",
       "radius: 5px; padding: 2px 6px; margin-left: 5px; font-size: 0.8em;\">Define the AES key that will be used for encryption</span><br>    <span class=\"yaml-commented-line\"># -------------------------------------===== AES Counter value [Required] =====-------------------------------------</span><br>    <span class=\"yaml-commented-line\"># Description: AES counter value for the key blob</span><br><span class=\"yaml-key\">    aes_ctr</span>: <span class=\"yaml-value\">\"0x5689fab8b4bfb264\"</span><br>    <span class=\"yaml-commented-line\"># ------------------------------===== Start address of key blob data [Required] =====-------------------------------</span><br>    <span class=\"yaml-commented-line\"># Description: Start address of key blob data, it should be aligned to 1 KB (1024 B)</span><br><span class=\"yaml-key\">    start_address</span>: <span class=\"yaml-value\">\"0x04001000\"</span> <span style=\"background-color: #FFFF00; border-radius: 5px;\n",
       "padding: 2px 6px; margin-left: 5px; font-size: 0.8em;\">Define the start address of the data that will be encrypted by the keyblob</span><br>    <span class=\"yaml-commented-line\"># -------------------------------===== End address of key blob data [Required] =====--------------------------------</span><br>    <span class=\"yaml-commented-line\"># Description: End address of key blob data, it should be aligned to 1 KB (1024 B)</span><br><span class=\"yaml-key\">    end_address</span>: <span class=\"yaml-value\">\"0x04030000\"</span><br>    <span class=\"yaml-commented-line\"># --------------------------------===== AES decryption enable flag [Optional] =====---------------------------------</span><br>    <span class=\"yaml-commented-line\"># Description: For accesses hitting in a valid context, this bit indicates if the fetched data is to be decrypted or</span><br>    <span class=\"yaml-commented-line\"># simply bypassed</span><br><span class=\"yaml-key\">    aes_decryption_enable</span>: <span class=\"yaml-value\">true</span><br>    <span class=\"yaml-commented-line\"># ----------------------------------------===== Valid flag [Optional] =====-----------------------------------------</span><br>    <span class=\"yaml-commented-line\"># Description: This field signals if the context is valid or not</span><br><span class=\"yaml-key\">    valid</span>: <span class=\"yaml-value\">true</span><br>    <span class=\"yaml-commented-line\"># --------------------------------------===== Read Only flag [Optional] =====---------------------------------------</span><br>    <span class=\"yaml-commented-line\"># Description: This field signals if the context is Read only or not</span><br><span class=\"yaml-key\">    read_only</span>: <span class=\"yaml-value\">true</span><br></pre></div>\n",
       "            </div>\n",
       "            "
      ],
      "text/plain": [
       "<IPython.core.display.HTML object>"
      ]
     },
     "execution_count": 27,
     "metadata": {},
     "output_type": "execute_result"
    }
   ],
   "source": [
    "YamlDiffWidget(\"inputs/imx8ulp_otfad.diffc\").html"
   ]
  },
  {
   "cell_type": "code",
   "execution_count": 28,
   "metadata": {},
   "outputs": [
    {
     "name": "stdout",
     "output_type": "stream",
     "text": [
      "nxpimage otfad export -c inputs/otfad_mx8ulp.yaml \n",
      "Exporting OTFAD files\n",
      "workspace/encrypted/OTFAD_Table.bin\n",
      "workspace/encrypted/encrypted_blobs.bin\n",
      "workspace/encrypted/readme.txt\n"
     ]
    }
   ],
   "source": [
    "%! nxpimage otfad export -c inputs/otfad_mx8ulp.yaml"
   ]
  },
  {
   "cell_type": "markdown",
   "metadata": {},
   "source": [
    "## 3. Bootable Image with OTFAD encrypted image\n",
    "\n",
    "The following command merges the OTFAD image with the bootable image:\n",
    "\n",
    "```bash\n",
    "nxpimage -v utils binary-image export --config inputs/bimg.yaml --output workspace/encrypted_full_image.bin\n",
    "```\n",
    "\n",
    "We have to prepare the configuration. "
   ]
  },
  {
   "cell_type": "code",
   "execution_count": 29,
   "metadata": {
    "tags": [
     "remove-input"
    ]
   },
   "outputs": [
    {
     "name": "stdout",
     "output_type": "stream",
     "text": [
      "nxpimage utils binary-image get-template -o workspace/bimg_template.yaml --force \n",
      "Creating workspace/bimg_template.yaml template file.\n"
     ]
    },
    {
     "data": {
      "text/html": [
       "\n",
       "            \n",
       "            <style>\n",
       "                .yaml-diff { font-family: monospace; background-color: #f0f0f0; padding: 1em; border: 1px solid #c0c0c0; }\n",
       "                .yaml-key { color: #0000CC; font-weight: bold; }\n",
       "                .yaml-value { color: #006600; }\n",
       "                .yaml-commented-line { color: #008800; }\n",
       "                .yaml-list-item { color: #660066; }\n",
       "                .diff-removed { background-color: #ffaaaa; }\n",
       "                .diff-added { background-color: #aaffaa; }\n",
       "                .yaml-comment {\n",
       "                    background-color: #FF8C00;\n",
       "                    color: #000000;\n",
       "                    border-radius: 50%;\n",
       "                    padding: 0 0.3em;\n",
       "                    margin-left: 0.5em;\n",
       "                    font-size: 0.8em;\n",
       "                    cursor: help;\n",
       "                    font-weight: bold;\n",
       "                    text-shadow: 1px 1px 1px rgba(255, 255, 255, 0.7);\n",
       "                }\n",
       "                #toggleButton_8ff2d74f46aaec6fa62e2fbca8730b7e {\n",
       "                    background-color: #4CAF50;\n",
       "                    border: none;\n",
       "                    color: white;\n",
       "                    padding: 10px 20px;\n",
       "                    text-align: center;\n",
       "                    text-decoration: none;\n",
       "                    display: inline-block;\n",
       "                    font-size: 16px;\n",
       "                    margin: 4px 2px;\n",
       "                    cursor: pointer;\n",
       "                }\n",
       "            </style>\n",
       "            \n",
       "            \n",
       "            <script>\n",
       "            function toggleView_8ff2d74f46aaec6fa62e2fbca8730b7e() {\n",
       "                var diffView = document.getElementById('diffView_8ff2d74f46aaec6fa62e2fbca8730b7e');\n",
       "                var userConfigView = document.getElementById('userConfigView_8ff2d74f46aaec6fa62e2fbca8730b7e');\n",
       "                var button = document.getElementById('toggleButton_8ff2d74f46aaec6fa62e2fbca8730b7e');\n",
       "\n",
       "                if (diffView.style.display === 'none' && userConfigView.style.display === 'none') {\n",
       "                    diffView.style.display = 'block';\n",
       "                    userConfigView.style.display = 'none';\n",
       "                    button.textContent = 'Show User Config';\n",
       "                } else if (diffView.style.display === 'block') {\n",
       "                    diffView.style.display = 'none';\n",
       "                    userConfigView.style.display = 'block';\n",
       "                    button.textContent = 'Hide';\n",
       "                } else {\n",
       "                    diffView.style.display = 'none';\n",
       "                    userConfigView.style.display = 'none';\n",
       "                    button.textContent = 'Show Diff';\n",
       "                }\n",
       "            }\n",
       "            </script>\n",
       "            \n",
       "            <div class=\"yaml-diff-container\">\n",
       "            <h3>Configuration Differences</h3>\n",
       "            <button onclick=\"toggleView_8ff2d74f46aaec6fa62e2fbca8730b7e()\" id=\"toggleButton_8ff2d74f46aaec6fa62e2fbca8730b7e\">Show Diff</button>\n",
       "            \n",
       "            <a href=\"data:text/plain;base64,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\" download=\"user_config.yaml\">\n",
       "                <button style=\"background-color: #4CAF50; border: none; color: white; padding: 10px 20px; text-align: center; text-decoration: none; display: inline-block; font-size: 16px; margin: 4px 2px; cursor: pointer;\">\n",
       "                    Download Config\n",
       "                </button>\n",
       "            </a>\n",
       "            \n",
       "            <div id=\"diffView_8ff2d74f46aaec6fa62e2fbca8730b7e\" class=\"yaml-diff\" style=\"display:none;\"><pre class=\"yaml-diff\"><span class=\"yaml-commented-line\"># =======================================  Binary Image Configuration template.  =======================================</span><br><br><span class=\"yaml-commented-line\"># ======================================================================================================================</span><br><span class=\"yaml-commented-line\">#                                                 == General Options ==                                                 </span><br><span class=\"yaml-commented-line\"># ======================================================================================================================</span><br><span class=\"yaml-commented-line\"># ------------------------------------------===== Image name [Required] =====-------------------------------------------</span><br><span class=\"yaml-commented-line\"># Description: The optional image name used just during prints to console during merging.</span><br><span class=\"diff-removed\"><span class=\"yaml-key\">name</span>: <span class=\"yaml-value\">My super binary image</span></span><br><span class=\"diff-added\"><span class=\"yaml-key\">name</span>: <span class=\"yaml-value\">OTFAD encrypted AHAB image with FCB</span></span><br><span class=\"yaml-commented-line\"># -------------------------------------===== Overall size of image [Optional] =====-------------------------------------</span><br><span class=\"yaml-commented-line\"># Description: The overall size of merged image. If the size of merged blocks exceeds this size the merge failed,</span><br><span class=\"yaml-commented-line\"># otherwise the merged blocks will be padded with defined pattern.</span><br><span class=\"diff-removed\"><span class=\"yaml-key\">size</span>: <span class=\"yaml-value\">1024</span></span><br><span class=\"yaml-commented-line\"># --------------------------===== Pattern defined as number or special values [Optional] =====--------------------------</span><br><span class=\"yaml-commented-line\"># Description: The pattern that will be used to fill up gaps between defined regions. String or number or choose from</span><br><span class=\"yaml-commented-line\"># predefined patterns - [rand, zeros, ones, inc]</span><br><span class=\"yaml-commented-line\">#   - any number pattern: The defined number pattern, that will be repeated to fill up gaps between blocks.</span><br><span class=\"yaml-commented-line\">#   - rand: Random pattern</span><br><span class=\"yaml-commented-line\">#   - zeros: The zeros pattern 0x0000000....</span><br><span class=\"yaml-commented-line\">#   - ones: The 'ones' pattern 0xfffffff....</span><br><span class=\"yaml-commented-line\">#   - inc: The byte incremental pattern 0x00010203.....fdfeff00010203....</span><br><span class=\"diff-removed\"><span class=\"yaml-key\">pattern</span>: <span class=\"yaml-value\">zeros</span></span><br><span class=\"yaml-commented-line\"># ---------------------------------------===== Regions alignment [Optional] =====---------------------------------------</span><br><span class=\"yaml-commented-line\"># Description: The region alignment that will be used in case that offset is not specified.</span><br><span class=\"diff-removed\"><span class=\"yaml-key\">alignment</span>: <span class=\"yaml-value\">1</span></span><br><br><span class=\"yaml-commented-line\"># ======================================================================================================================</span><br><span class=\"yaml-commented-line\">#                                              == Binary images to merge ==                                             </span><br><span class=\"yaml-commented-line\"># ======================================================================================================================</span><br><span class=\"yaml-commented-line\"># --------------------------------===== Array of defined binary regions [Required] =====--------------------------------</span><br><span class=\"yaml-commented-line\"># Description: The array of individual regions to merge into final image.</span><br><span class=\"yaml-key\">regions</span>:<br><span class=\"diff-removed\"><span class=\"yaml-key\">  -</span></span><br>  <span class=\"yaml-commented-line\"># ====================================================================================================================</span><br>  <span class=\"yaml-commented-line\">#                                          == List of possible 2 options. ==                                          </span><br>  <span class=\"yaml-commented-line\">#                                         Options [binary_file, binary_block]                                         </span><br>  <span class=\"yaml-commented-line\"># ====================================================================================================================</span><br><span class=\"diff-added\"><span class=\"yaml-key\">  - </span><span class=\"yaml-commented-line\"># ----------------------------------------===== Binary file [Required] =====----------------------------------------</span></span><br><span class=\"diff-added\"><span class=\"yaml-key\">    binary_file</span>:</span><br><span class=\"diff-added\"><span class=\"yaml-key\">      name</span>: <span class=\"yaml-value\">OTFAD keyblob</span></span><br><span class=\"diff-added\"><span class=\"yaml-key\">      path</span>: <span class=\"yaml-value\">../workspace/encrypted/OTFAD_Table.bin</span></span><br><span class=\"diff-added\"><span class=\"yaml-key\">      offset</span>: <span class=\"yaml-value\">0</span></span><br><br><span class=\"diff-added\"><span class=\"yaml-key\">  - </span><span class=\"yaml-commented-line\"># ----------------------------------------===== Binary file [Required] =====----------------------------------------</span></span><br><span class=\"diff-added\"><span class=\"yaml-key\">    binary_file</span>:</span><br><span class=\"diff-added\"><span class=\"yaml-key\">      name</span>: <span class=\"yaml-value\">FCB</span></span><br><span class=\"diff-added\"><span class=\"yaml-key\">      path</span>: <span class=\"yaml-value\">./fcb.bin</span></span><br><span class=\"diff-added\"><span class=\"yaml-key\">      offset</span>: <span class=\"yaml-value\">0x400</span></span><br><span class=\"diff-added\"></span><br>  <span class=\"yaml-commented-line\">#  =========================== [Example of possible configuration: #0 , erase if not used] ============================</span><br><span class=\"diff-added\"><span class=\"yaml-key\">  - </span><span class=\"yaml-commented-line\">#  =========================== [Example of possible configuration: #0 , erase if not used] ============================</span></span><br>    <span class=\"yaml-commented-line\"># ----------------------------------------===== Binary file [Required] =====----------------------------------------</span><br><span class=\"yaml-key\">    binary_file</span>: <span style=\"background-color: #FFFF00; border-radius: 5px; padding: 2px 6px; margin-left: 5px; font-size:\n",
       "0.8em;\">Define path to the OTFAD table (keyblob) binary file at offset 0x0, FCB at offset 0x400 and encrypted data at offset 0x1000</span><br>      <span class=\"yaml-commented-line\"># ---------------------------------------===== Image name [Optional] =====----------------------------------------</span><br>      <span class=\"yaml-commented-line\"># Description: The optional image name used just during prints to console during merging.</span><br><span class=\"diff-removed\"><span class=\"yaml-key\">      name</span>: <span class=\"yaml-value\">My super binary image</span></span><br><span class=\"diff-added\"><span class=\"yaml-key\">      name</span>: <span class=\"yaml-value\">OTFAD encrypted blob</span></span><br>      <span class=\"yaml-commented-line\"># ---------------------------------------===== Binary file [Required] =====---------------------------------------</span><br>      <span class=\"yaml-commented-line\"># Description: The path to binary file to merge into final image</span><br><span class=\"diff-removed\"><span class=\"yaml-key\">      path</span>: <span class=\"yaml-value\">my_binary_to_merge.bin</span></span><br><span class=\"diff-added\"><span class=\"yaml-key\">      path</span>: <span class=\"yaml-value\">../workspace/encrypted/encrypted_blobs.bin</span></span><br>      <span class=\"yaml-commented-line\"># -----------------------------===== Offset of image in merged block [Optional] =====-----------------------------</span><br>      <span class=\"yaml-commented-line\"># Description: The offset of image to be merged on. The offset could be also negative - for example to 'erase'</span><br>      <span class=\"yaml-commented-line\"># security bit from address. In case that offset definition is omitted, the block will be placed after previous</span><br>      <span class=\"yaml-commented-line\"># one with defined alignment.</span><br><span class=\"diff-removed\"><span class=\"yaml-key\">      offset</span>: <span class=\"yaml-value\">1024</span></span><br><span class=\"diff-added\"><span class=\"yaml-key\">      offset</span>: <span class=\"yaml-value\">0x1000</span></span><br><br>  <span class=\"yaml-commented-line\">#  =========================== [Example of possible configuration: #1 , erase if not used] ============================</span><br>    <span class=\"yaml-commented-line\"># ---------------------------------------===== Binary block [Required] =====----------------------------------------</span><br><span class=\"diff-removed\"><span class=\"yaml-key\">    binary_block</span>:</span><br>      <span class=\"yaml-commented-line\"># ---------------------------------------===== Image name [Optional] =====----------------------------------------</span><br>      <span class=\"yaml-commented-line\"># Description: The optional image name used just during prints to console during merging.</span><br><span class=\"diff-removed\"><span class=\"yaml-key\">      name</span>: <span class=\"yaml-value\">My super binary block</span></span><br>      <span class=\"yaml-commented-line\"># ------------------------------------===== Binary block size [Required] =====------------------------------------</span><br>      <span class=\"yaml-commented-line\"># Description: The size of binary block</span><br><span class=\"diff-removed\"><span class=\"yaml-key\">      size</span>: <span class=\"yaml-value\">512</span></span><br>      <span class=\"yaml-commented-line\"># -------------------------===== Offset of binary block in merged block [Optional] =====--------------------------</span><br>      <span class=\"yaml-commented-line\"># Description: The offset of binary block to be merged on. The offset could be also negative. In case that offset</span><br>      <span class=\"yaml-commented-line\"># definition is omitted, the block will be placed after previous one with defined alignment.</span><br><span class=\"diff-removed\"><span class=\"yaml-key\">      offset</span>: <span class=\"yaml-value\">1024</span></span><br>      <span class=\"yaml-commented-line\"># -----------------------===== Pattern defined as number or special values [Required] =====-----------------------</span><br>      <span class=\"yaml-commented-line\"># Description: The pattern that will be used to fill up binary block. Number or choose from predefined patterns -</span><br>      <span class=\"yaml-commented-line\"># [rand, zeros, ones, inc]</span><br>      <span class=\"yaml-commented-line\">#   - any number pattern: The defined number pattern, that will be repeated to fill up binary block.</span><br>      <span class=\"yaml-commented-line\">#   - rand: Random pattern</span><br>      <span class=\"yaml-commented-line\">#   - zeros: The zeros pattern 0x0000000....</span><br>      <span class=\"yaml-commented-line\">#   - ones: The 'ones' pattern 0xfffffff....</span><br>      <span class=\"yaml-commented-line\">#   - inc: The byte incremental pattern 0x00010203.....fdfeff00010203....</span><br><span class=\"diff-removed\"><span class=\"yaml-key\">      pattern</span>: <span class=\"yaml-value\">zeros</span></span><br><span class=\"diff-removed\"></span></pre></div>\n",
       "            <div id=\"userConfigView_8ff2d74f46aaec6fa62e2fbca8730b7e\" class=\"yaml-diff\" style=\"display:none;\"><pre class=\"yaml-diff\"><span class=\"yaml-commented-line\"># Copyright 2024-2025 NXP</span><br><span class=\"yaml-commented-line\">#</span><br><span class=\"yaml-commented-line\"># SPDX-License-Identifier: BSD-3-Clause</span><br><span class=\"yaml-commented-line\"># =======================================  Binary Image Configuration template.  =======================================</span><br><br><span class=\"yaml-commented-line\"># ======================================================================================================================</span><br><span class=\"yaml-commented-line\">#                                                 == General Options ==</span><br><span class=\"yaml-commented-line\"># ======================================================================================================================</span><br><span class=\"yaml-commented-line\"># ------------------------------------------===== Image name [Optional] =====-------------------------------------------</span><br><span class=\"yaml-commented-line\"># Description: The optional image name used just during prints to console during merging.</span><br><span class=\"yaml-key\">name</span>: <span class=\"yaml-value\">OTFAD encrypted AHAB image with FCB</span><br><span class=\"yaml-commented-line\"># -------------------------------------===== Overall size of image [Optional] =====-------------------------------------</span><br><br><span class=\"yaml-commented-line\"># ======================================================================================================================</span><br><span class=\"yaml-commented-line\">#                                              == Binary images to merge ==</span><br><span class=\"yaml-commented-line\"># ======================================================================================================================</span><br><span class=\"yaml-commented-line\"># --------------------------------===== Array of defined binary regions [Optional] =====--------------------------------</span><br><span class=\"yaml-commented-line\"># Description: The array of individual regions to merge into final image.</span><br><span class=\"yaml-key\">regions</span>:<br><span class=\"yaml-key\">  - </span><span class=\"yaml-commented-line\"># ----------------------------------------===== Binary file [Required] =====----------------------------------------</span><br><span class=\"yaml-key\">    binary_file</span>: <span style=\"background-color: #FFFF00; border-radius: 5px; padding: 2px 6px; margin-left: 5px; font-size:\n",
       "0.8em;\">Define path to the OTFAD table (keyblob) binary file at offset 0x0, FCB at offset 0x400 and encrypted data at offset 0x1000</span><br>      <span class=\"yaml-commented-line\"># ---------------------------------------===== Image name [Optional] =====----------------------------------------</span><br>      <span class=\"yaml-commented-line\"># Description: The optional image name used just during prints to console during merging.</span><br><span class=\"yaml-key\">      name</span>: <span class=\"yaml-value\">OTFAD keyblob</span><br>      <span class=\"yaml-commented-line\"># ---------------------------------------===== Binary file [Required] =====---------------------------------------</span><br>      <span class=\"yaml-commented-line\"># Description: The path to binary file to merge into final image</span><br><span class=\"yaml-key\">      path</span>: <span class=\"yaml-value\">../workspace/encrypted/OTFAD_Table.bin</span><br>      <span class=\"yaml-commented-line\"># -------------------------------------===== Offset of image [Optional] =====-------------------------------------</span><br>      <span class=\"yaml-commented-line\"># Description: The offset of image to be merge on. The offset could be also negative - for example to 'erase'</span><br>      <span class=\"yaml-commented-line\"># security bit from address. In case that offset definition is omitted, the block will be placed after previous</span><br>      <span class=\"yaml-commented-line\"># one with defined alignment.</span><br><span class=\"yaml-key\">      offset</span>: <span class=\"yaml-value\">0</span><br><br><span class=\"yaml-key\">  - </span><span class=\"yaml-commented-line\"># ----------------------------------------===== Binary file [Required] =====----------------------------------------</span><br><span class=\"yaml-key\">    binary_file</span>: <span style=\"background-color: #FFFF00; border-radius: 5px; padding: 2px 6px; margin-left: 5px; font-size:\n",
       "0.8em;\">Define path to the OTFAD table (keyblob) binary file at offset 0x0, FCB at offset 0x400 and encrypted data at offset 0x1000</span><br>      <span class=\"yaml-commented-line\"># ---------------------------------------===== Image name [Optional] =====----------------------------------------</span><br>      <span class=\"yaml-commented-line\"># Description: The optional image name used just during prints to console during merging.</span><br><span class=\"yaml-key\">      name</span>: <span class=\"yaml-value\">FCB</span><br>      <span class=\"yaml-commented-line\"># ---------------------------------------===== Binary file [Required] =====---------------------------------------</span><br>      <span class=\"yaml-commented-line\"># Description: The path to binary file to merge into final image</span><br><span class=\"yaml-key\">      path</span>: <span class=\"yaml-value\">./fcb.bin</span><br>      <span class=\"yaml-commented-line\"># -------------------------------------===== Offset of image [Optional] =====-------------------------------------</span><br>      <span class=\"yaml-commented-line\"># Description: The offset of image to be merge on. The offset could be also negative - for example to 'erase'</span><br>      <span class=\"yaml-commented-line\"># security bit from address. In case that offset definition is omitted, the block will be placed after previous</span><br>      <span class=\"yaml-commented-line\"># one with defined alignment.</span><br><span class=\"yaml-key\">      offset</span>: <span class=\"yaml-value\">0x400</span><br><br><span class=\"yaml-key\">  - </span><span class=\"yaml-commented-line\">#  =========================== [Example of possible configuration: #0 , erase if not used] ============================</span><br>    <span class=\"yaml-commented-line\"># ----------------------------------------===== Binary file [Required] =====----------------------------------------</span><br><span class=\"yaml-key\">    binary_file</span>: <span style=\"background-color: #FFFF00; border-radius: 5px; padding: 2px 6px; margin-left: 5px; font-size:\n",
       "0.8em;\">Define path to the OTFAD table (keyblob) binary file at offset 0x0, FCB at offset 0x400 and encrypted data at offset 0x1000</span><br>      <span class=\"yaml-commented-line\"># ---------------------------------------===== Image name [Optional] =====----------------------------------------</span><br>      <span class=\"yaml-commented-line\"># Description: The optional image name used just during prints to console during merging.</span><br><span class=\"yaml-key\">      name</span>: <span class=\"yaml-value\">OTFAD encrypted blob</span><br>      <span class=\"yaml-commented-line\"># ---------------------------------------===== Binary file [Required] =====---------------------------------------</span><br>      <span class=\"yaml-commented-line\"># Description: The path to binary file to merge into final image</span><br><span class=\"yaml-key\">      path</span>: <span class=\"yaml-value\">../workspace/encrypted/encrypted_blobs.bin</span><br>      <span class=\"yaml-commented-line\"># -------------------------------------===== Offset of image [Optional] =====-------------------------------------</span><br>      <span class=\"yaml-commented-line\"># Description: The offset of image to be merge on. The offset could be also negative - for example to 'erase'</span><br>      <span class=\"yaml-commented-line\"># security bit from address. In case that offset definition is omitted, the block will be placed after previous</span><br>      <span class=\"yaml-commented-line\"># one with defined alignment.</span><br><span class=\"yaml-key\">      offset</span>: <span class=\"yaml-value\">0x1000</span><br></pre></div>\n",
       "            </div>\n",
       "            "
      ],
      "text/plain": [
       "<IPython.core.display.HTML object>"
      ]
     },
     "execution_count": 29,
     "metadata": {},
     "output_type": "execute_result"
    }
   ],
   "source": [
    "YamlDiffWidget(\"inputs/imx8ulp_otfad_bimg.diffc\").html"
   ]
  },
  {
   "cell_type": "code",
   "execution_count": 30,
   "metadata": {},
   "outputs": [
    {
     "name": "stdout",
     "output_type": "stream",
     "text": [
      "nxpimage -v utils binary-image export --config inputs/bimg.yaml --output workspace/encrypted_full_image.bin \n",
      "\u001b[37m\u001b[1mINFO:spsdk.apps.nxpimage_apps.nxpimage_utils:Merged Image:\n",
      "Name:      OTFAD encrypted AHAB image with FCB\n",
      "Starts:    0x0\n",
      "Ends:      0x2d7ff\n",
      "Size:      Size: 182.0 kiB; 186,368 B\n",
      "Alignment: 1 B\n",
      "Execution Start Address: Not defined\n",
      "Pattern:zeros\n",
      "\u001b[39m\u001b[0m\n",
      "\u001b[37m\u001b[1mINFO:spsdk.apps.nxpimage_apps.nxpimage_utils:Merged Image:\n",
      "\n",
      "\u001b[90m┌──0x0000_0000─ OTFAD encrypted AHAB image with FCB ──┐\n",
      "\u001b[90m│             Size: 182.0 kiB; 186,368 B              │\n",
      "\u001b[90m│                   Pattern: zeros                    │\n",
      "\u001b[90m│\u001b[34m┌──0x0000_0000─ OTFAD keyblob ──────────────────────┐\u001b[90m│\n",
      "\u001b[90m│\u001b[34m│                    Size: 256 B                    │\u001b[90m│\n",
      "\u001b[90m│\u001b[34m│              The image loaded from:               │\u001b[90m│\n",
      "\u001b[90m│\u001b[34m│        workspace/encrypted/OTFAD_Table.bin        │\u001b[90m│\n",
      "\u001b[90m│\u001b[34m│                  Pattern: zeros                   │\u001b[90m│\n",
      "\u001b[90m│\u001b[34m│\u001b[90m┌──0x0000_0000─ Segment 0 ────────────────────────┐\u001b[34m│\u001b[90m│\n",
      "\u001b[90m│\u001b[34m│\u001b[90m│                   Size: 256 B                   │\u001b[34m│\u001b[90m│\n",
      "\u001b[90m│\u001b[34m│\u001b[90m│                 Pattern: zeros                  │\u001b[34m│\u001b[90m│\n",
      "\u001b[90m│\u001b[34m│\u001b[90m└──0x0000_00ff────────────────────────────────────┘\u001b[34m│\u001b[90m│\n",
      "\u001b[90m│\u001b[34m└──0x0000_00ff──────────────────────────────────────┘\u001b[90m│\n",
      "\u001b[90m│                     Gap: 768 B                      │\n",
      "\u001b[90m│\u001b[32m┌──0x0000_0400─ FCB ────────────────────────────────┐\u001b[90m│\n",
      "\u001b[90m│\u001b[32m│              Size: 2.0 kiB; 2,048 B               │\u001b[90m│\n",
      "\u001b[90m│\u001b[32m│       The image loaded from: inputs/fcb.bin       │\u001b[90m│\n",
      "\u001b[90m│\u001b[32m│                  Pattern: zeros                   │\u001b[90m│\n",
      "\u001b[90m│\u001b[32m│\u001b[90m┌──0x0000_0400─ Segment 0 ────────────────────────┐\u001b[32m│\u001b[90m│\n",
      "\u001b[90m│\u001b[32m│\u001b[90m│             Size: 2.0 kiB; 2,048 B              │\u001b[32m│\u001b[90m│\n",
      "\u001b[90m│\u001b[32m│\u001b[90m│                 Pattern: zeros                  │\u001b[32m│\u001b[90m│\n",
      "\u001b[90m│\u001b[32m│\u001b[90m└──0x0000_0bff────────────────────────────────────┘\u001b[32m│\u001b[90m│\n",
      "\u001b[90m│\u001b[32m└──0x0000_0bff──────────────────────────────────────┘\u001b[90m│\n",
      "\u001b[90m│                    Gap: 1.0 kiB                     │\n",
      "\u001b[90m│\u001b[36m┌──0x0000_1000─ OTFAD encrypted blob ───────────────┐\u001b[90m│\n",
      "\u001b[90m│\u001b[36m│            Size: 178.0 kiB; 182,272 B             │\u001b[90m│\n",
      "\u001b[90m│\u001b[36m│              The image loaded from:               │\u001b[90m│\n",
      "\u001b[90m│\u001b[36m│      workspace/encrypted/encrypted_blobs.bin      │\u001b[90m│\n",
      "\u001b[90m│\u001b[36m│                  Pattern: zeros                   │\u001b[90m│\n",
      "\u001b[90m│\u001b[36m│\u001b[90m┌──0x0000_1000─ Segment 0 ────────────────────────┐\u001b[36m│\u001b[90m│\n",
      "\u001b[90m│\u001b[36m│\u001b[90m│           Size: 178.0 kiB; 182,272 B            │\u001b[36m│\u001b[90m│\n",
      "\u001b[90m│\u001b[36m│\u001b[90m│                 Pattern: zeros                  │\u001b[36m│\u001b[90m│\n",
      "\u001b[90m│\u001b[36m│\u001b[90m└──0x0002_d7ff────────────────────────────────────┘\u001b[36m│\u001b[90m│\n",
      "\u001b[90m│\u001b[36m└──0x0002_d7ff──────────────────────────────────────┘\u001b[90m│\n",
      "\u001b[90m└──0x0002_d7ff────────────────────────────────────────┘\n",
      "\u001b[39m\u001b[39m\u001b[0m\n",
      "Success. (Merged image: workspace/encrypted_full_image.bin created in BIN format.)\n"
     ]
    }
   ],
   "source": [
    "%! nxpimage -v utils binary-image export --config inputs/bimg.yaml --output workspace/encrypted_full_image.bin"
   ]
  },
  {
   "cell_type": "markdown",
   "metadata": {},
   "source": [
    "## 4. Program OTFAD Fuses\n",
    "\n",
    "The Following fuses need to be programmed to enable the OTFAD feature:\n",
    "\n",
    "| Fuse                          | Location                       |\n",
    "|-------------------------------|--------------------------------|\n",
    "| OTFAD_ENABLE                  | Bank 23, word 4, bit 3         |\n",
    "| OTFAD_KEY[127:0]              | Bank 23, word 0~3              |\n",
    "| OTFAD1_KEY_SCRAMBLE_EN        | Bank 23, word 4, bit 7         |\n",
    "| OTFAD1_KEY_SCRAMBLE_ALIGN[7:0]| Bank 23, word 4, bit 8~15      |\n",
    "| OTFAD1_KEY_SCRAMBLE[31:0]     | Bank 23, word 7                |\n",
    "\n",
    "\n",
    "\n",
    "### 4.2 Program OTFAD Fuses using the U-Boot CLI \n",
    "\n",
    "Another option is to use the U-Boot CLI interface and fuse prog command\n",
    "\n",
    "```bash\n",
    "u-boot=> fuse prog -y fuse_bank word fuse_value \n",
    "\n",
    "```\n"
   ]
  },
  {
   "cell_type": "markdown",
   "metadata": {},
   "source": [
    "## 4. Image download\n",
    "First we put the `IMX8ULP-EVK` into serial downloader mode and use `nxpuuu` to programm the encrypted image to flexSPI.\n",
    "\n",
    "We have to program the encrypted image to SPI NOR memory connected to flexSPI instance 0. We can do that with this script.\n",
    "\n",
    "```bash\n",
    "\n",
    "uuu_version 1.2.39\n",
    "\n",
    "\n",
    "# This command will be run when ROM support stream mode\n",
    "# i.MX8QXP, i.MX8QM\n",
    "SDPS: boot -f ./inputs/imx-boot-imx8ulpevk-sd.bin-flash_singleboot.bin\n",
    "\n",
    "# These commands will be run when use SPL and will be skipped if no spl\n",
    "# if (SPL support SDPV)\n",
    "# {\n",
    "SDPV: delay 1000\n",
    "SDPV: write -f ./inputs/imx-boot-imx8ulpevk-sd.bin-flash_singleboot.bin -skipspl\n",
    "SDPV: jump\n",
    "# }\n",
    "\n",
    "FB: ucmd setenv fastboot_buffer ${loadaddr}\n",
    "FB: download -f ./workspace/encrypted_full_image.bin\n",
    "FB: ucmd setenv erase_unit 1000\n",
    "FB: ucmd setexpr erase_size ${fastboot_bytes} + ${erase_unit}\n",
    "FB: ucmd setexpr erase_size ${erase_size} / ${erase_unit}\n",
    "FB: ucmd setexpr erase_size ${erase_size} * ${erase_unit}\n",
    "FB: ucmd sf probe 0:0\n",
    "FB[-t 100000]: ucmd sf erase 0 ${erase_size}\n",
    "FB[-t 40000]: ucmd sf write ${fastboot_buffer} 0 ${fastboot_bytes}\n",
    "\n",
    "FB: ucmd setenv fastboot_dev mmc\n",
    "FB: ucmd setenv mmcdev ${emmc_dev}\n",
    "FB: ucmd mmc dev ${emmc_dev}\n",
    "FB: flash bootloader ./inputs/imx-boot-imx8ulpevk-sd.bin-flash_dualboot\n",
    "FB: ucmd if env exists emmc_ack; then ; else setenv emmc_ack 0; fi;\n",
    "FB: ucmd mmc partconf ${emmc_dev} ${emmc_ack} 1 0\n",
    "FB: done\n",
    "\n",
    "```\n",
    "\n",
    "\n",
    "\n",
    "\n",
    "\n",
    "\n"
   ]
  },
  {
   "cell_type": "code",
   "execution_count": 32,
   "metadata": {},
   "outputs": [
    {
     "name": "stdout",
     "output_type": "stream",
     "text": [
      "nxpuuu -v script ./inputs/uuu_8ulpevk_dual.auto \n",
      "SDPS: boot -f ./inputs/imx-boot-imx8ulpevk-sd.bin-flash_singleboot.bin\n",
      "\n",
      "\n",
      "Success\n"
     ]
    }
   ],
   "source": [
    "VERBOSITY = \"-v\"\n",
    "%! nxpuuu $VERBOSITY script ./inputs/uuu_8ulpevk_dual.auto"
   ]
  },
  {
   "cell_type": "markdown",
   "metadata": {},
   "source": []
  }
 ],
 "metadata": {
  "kernelspec": {
   "display_name": "venv312",
   "language": "python",
   "name": "python3"
  },
  "language_info": {
   "codemirror_mode": {
    "name": "ipython",
    "version": 3
   },
   "file_extension": ".py",
   "mimetype": "text/x-python",
   "name": "python",
   "nbconvert_exporter": "python",
   "pygments_lexer": "ipython3",
   "version": "3.12.4"
  }
 },
 "nbformat": 4,
 "nbformat_minor": 2
}
