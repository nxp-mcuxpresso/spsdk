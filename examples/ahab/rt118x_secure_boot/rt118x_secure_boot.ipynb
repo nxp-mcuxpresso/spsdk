{
 "cells": [
  {
   "cell_type": "markdown",
   "metadata": {},
   "source": [
    "# i.MXRT118x Signed AHAB Example\n",
    "\n",
    "This example demonstrates how to create a signed AHAB container for i.MXRT118x devices. The aim of this Jupyter notebook is to show how to create a signed AHAB container for an application based on the SDK. The `nxpmemcfg` tool is demonstrated to generate the FCB block for the external memory populated on the RT1180-EVK board. The resulting image must be programmed into the external memory via the `blhost` tool."
   ]
  },
  {
   "cell_type": "markdown",
   "metadata": {},
   "source": [
    "## 1. Prerequisites\n",
    "- SPSDK is needed with examples extension. `pip install spsdk[examples]` (Please refer to the [installation](../../_knowledge_base/installation_guide.rst) documentation.)\n",
    "\n",
    "- This example uses RT1180 EVK board"
   ]
  },
  {
   "cell_type": "code",
   "execution_count": 2,
   "metadata": {},
   "outputs": [
    {
     "name": "stdout",
     "output_type": "stream",
     "text": [
      "env: JUPYTER_SPSDK=1\n",
      "Created `%!` as an alias for `%execute`.\n"
     ]
    }
   ],
   "source": [
    "import os\n",
    "\n",
    "from spsdk.utils.jupyter_utils import YamlDiffWidget\n",
    "\n",
    "# This env variable sets colored logger output to STDOUT\n",
    "%env JUPYTER_SPSDK=1\n",
    "# Set a magic for command execution and echo\n",
    "%alias execute echo %l && %l\n",
    "%alias_magic ! execute"
   ]
  },
  {
   "cell_type": "code",
   "execution_count": 3,
   "metadata": {},
   "outputs": [],
   "source": [
    "WORKSPACE = \"workspace/\"  # change this to path to your workspace\n",
    "INPUTS = \"inputs/\"\n",
    "VERBOSITY = (\n",
    "    \"\"  # verbosity of commands, might be -v or -vv for debug or blank for no additional info\n",
    ")\n",
    "BIMG_FILE = (\n",
    "    INPUTS + \"bootimg_rt118x_flexspi_nor.yaml\"\n",
    ")  # Boot image yaml file. Used to generate bootable image\n",
    "\n",
    "SRKH_BATCH_FILE = (\n",
    "    WORKSPACE + \"signed_ahab_oem0_srk0_hash_blhost.bcf\"\n",
    ")  # batch file for SRKH progamming\n",
    "BOOTABLE_IMAGE = WORKSPACE + \"bootable_img.bin\"  # Final Bootable image contains SIGNED_AHAB + FCB\n",
    "\n",
    "FLASHLOADER_FILE = \"../rt118x_signed_flashloader/workspace/flashloader.bin\"  # Path to Flashloader\n",
    "CFG_MEM_FILE = WORKSPACE + \"config_mem.bls\"  # Configure memory template\n",
    "FCB_FILE = WORKSPACE + \"fcb.bin\"  # Firmware Configuration block file"
   ]
  },
  {
   "cell_type": "markdown",
   "metadata": {},
   "source": [
    "### 1.1 Compile an Application\n",
    "Hello_word XiP application is used in this example. \n",
    "\n",
    "To use a custom application follow the steps:\n",
    "\n",
    "- Download the NXP MCUXpresso SDK from NXP web site (https://mcuxpresso.nxp.com/)\n",
    "- Open the example in your favorite IDE. \n",
    "- Compile your application using the corresponding target. The resulting binary must be copied at input folder and renamed in regards to specific target XiP FlexSPI1/2, CTCM, OCRAM, Multicore. to make it running with this example. \n",
    "    - fspi1_xip_cm33_img.bin (default)\n",
    "    - fspi2_xip_cm33_img.bin\n",
    "    - ctcm_cm33_img.bin\n",
    "    - ocram_cm33_img.yaml\n",
    "    - fspi1_multicore_img.bin\n",
    "    - fspi2_multicore_img.bin\n"
   ]
  },
  {
   "cell_type": "markdown",
   "metadata": {},
   "source": [
    "## 2. Generate Keys\n",
    "The AHAB is using asymmetric algorithm for image authentication which requires keys generated according to PKI for operation. The example uses pre-generated ECC-256 keys. To generate your own keys please refer to [How-to-get-keys-using-nxpcrypto](../../crypto/keys.ipynb) example."
   ]
  },
  {
   "cell_type": "markdown",
   "metadata": {},
   "source": [
    "## 3. Sign NXP Flashloader\n",
    "On secured device all SW executed on the device must be authenticated, including NXP Flashloader. The example uses pre-generated ECC-256 keys to sign the Flashloader. To generate your own keys please refer to the [Flashloader](../rt118x_signed_flashloader/rt118x_signed_flashloader.ipynb) example:"
   ]
  },
  {
   "cell_type": "markdown",
   "metadata": {},
   "source": [
    "## 4. Create Signed AHAB Container for Application\n",
    "\n",
    "In the previous steps, we generated a signed AHAB container for the NXP Flashloader. We need to perform similar steps for the application that will run on secured devices. The SPSDK tool, `nxpimage`, is specifically designed to create bootable images, including AHAB containers for the RT118x family. The `ahab` subcommand is used to generate an AHAB container for an application.\n",
    "\n",
    "A YAML file for the RT118x can be generated using the following command. The steps below guide you on which fields need to be reconfigured. The resulting YAML file is available in the input folder, so manual updates are not necessary.\n"
   ]
  },
  {
   "cell_type": "markdown",
   "metadata": {},
   "source": []
  },
  {
   "cell_type": "code",
   "execution_count": 6,
   "metadata": {},
   "outputs": [
    {
     "name": "stdout",
     "output_type": "stream",
     "text": [
      "nxpimage ahab get-template -f mimxrt1189 -o workspace/ahab_template.yaml --force \n",
      "Creating workspace/ahab_template.yaml template file.\n"
     ]
    },
    {
     "data": {
      "text/html": [
       "\n",
       "            \n",
       "            <style>\n",
       "                .yaml-diff { font-family: monospace; background-color: #f0f0f0; padding: 1em; border: 1px solid #c0c0c0; }\n",
       "                .yaml-key { color: #0000CC; font-weight: bold; }\n",
       "                .yaml-value { color: #006600; }\n",
       "                .yaml-commented-line { color: #008800; }\n",
       "                .yaml-list-item { color: #660066; }\n",
       "                .diff-removed { background-color: #ffaaaa; }\n",
       "                .diff-added { background-color: #aaffaa; }\n",
       "                .yaml-comment {\n",
       "                    background-color: #FF8C00;\n",
       "                    color: #000000;\n",
       "                    border-radius: 50%;\n",
       "                    padding: 0 0.3em;\n",
       "                    margin-left: 0.5em;\n",
       "                    font-size: 0.8em;\n",
       "                    cursor: help;\n",
       "                    font-weight: bold;\n",
       "                    text-shadow: 1px 1px 1px rgba(255, 255, 255, 0.7);\n",
       "                }\n",
       "                #toggleButton_3a99271a6616941deb8a32fc761a500b {\n",
       "                    background-color: #4CAF50;\n",
       "                    border: none;\n",
       "                    color: white;\n",
       "                    padding: 10px 20px;\n",
       "                    text-align: center;\n",
       "                    text-decoration: none;\n",
       "                    display: inline-block;\n",
       "                    font-size: 16px;\n",
       "                    margin: 4px 2px;\n",
       "                    cursor: pointer;\n",
       "                }\n",
       "            </style>\n",
       "            \n",
       "            \n",
       "            <script>\n",
       "            function toggleView_3a99271a6616941deb8a32fc761a500b() {\n",
       "                var diffView = document.getElementById('diffView_3a99271a6616941deb8a32fc761a500b');\n",
       "                var userConfigView = document.getElementById('userConfigView_3a99271a6616941deb8a32fc761a500b');\n",
       "                var button = document.getElementById('toggleButton_3a99271a6616941deb8a32fc761a500b');\n",
       "\n",
       "                if (diffView.style.display === 'none' && userConfigView.style.display === 'none') {\n",
       "                    diffView.style.display = 'block';\n",
       "                    userConfigView.style.display = 'none';\n",
       "                    button.textContent = 'Show User Config';\n",
       "                } else if (diffView.style.display === 'block') {\n",
       "                    diffView.style.display = 'none';\n",
       "                    userConfigView.style.display = 'block';\n",
       "                    button.textContent = 'Hide';\n",
       "                } else {\n",
       "                    diffView.style.display = 'none';\n",
       "                    userConfigView.style.display = 'none';\n",
       "                    button.textContent = 'Show Diff';\n",
       "                }\n",
       "            }\n",
       "            </script>\n",
       "            \n",
       "            <div class=\"yaml-diff-container\">\n",
       "            <h3>Configuration Differences</h3>\n",
       "            <button onclick=\"toggleView_3a99271a6616941deb8a32fc761a500b()\" id=\"toggleButton_3a99271a6616941deb8a32fc761a500b\">Show Diff</button>\n",
       "            \n",
       "            <a href=\"data:text/plain;base64,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\" download=\"user_config.yaml\">\n",
       "                <button style=\"background-color: #4CAF50; border: none; color: white; padding: 10px 20px; text-align: center; text-decoration: none; display: inline-block; font-size: 16px; margin: 4px 2px; cursor: pointer;\">\n",
       "                    Download Config\n",
       "                </button>\n",
       "            </a>\n",
       "            \n",
       "            <div id=\"diffView_3a99271a6616941deb8a32fc761a500b\" class=\"yaml-diff\" style=\"display:none;\"><pre class=\"yaml-diff\"><span class=\"diff-added\"></span><br><span class=\"yaml-commented-line\"># ==========================  ahab Configuration template for mimxrt1189, Revision: latest.  ===========================</span><br><br><span class=\"yaml-commented-line\"># ======================================================================================================================</span><br><span class=\"yaml-commented-line\">#                                                 == General Options ==                                                 </span><br><span class=\"yaml-commented-line\"># ======================================================================================================================</span><br><span class=\"yaml-commented-line\"># -------------------------------------===== The chip family name [Required] =====--------------------------------------</span><br><span class=\"yaml-commented-line\"># Description: NXP chip family identifier.</span><br><span class=\"yaml-key\">family</span>: <span class=\"yaml-value\">mimxrt1189</span><br><span class=\"yaml-commented-line\"># -----------------------------------------===== MCU revision [Optional] =====------------------------------------------</span><br><span class=\"yaml-commented-line\"># Description: Revision of silicon. The 'latest' name, means most current revision.</span><br><span class=\"yaml-commented-line\"># Possible options: <a0, b0, latest></span><br><span class=\"yaml-key\">revision</span>: <span class=\"yaml-value\">latest</span><br><span class=\"yaml-commented-line\"># -----------------------------------------===== Target memory [Optional] =====-----------------------------------------</span><br><span class=\"yaml-commented-line\"># Description: Target memory for AHAB container</span><br><span class=\"yaml-commented-line\"># Possible options: <serial_downloader, standard, nand_2k, nand_4k></span><br><span class=\"yaml-key\">target_memory</span>: <span class=\"yaml-value\">standard</span><br><span class=\"yaml-commented-line\"># ---------------------------------------===== Output file name [Required] =====----------------------------------------</span><br><span class=\"yaml-commented-line\"># Description: Output AHAB file name</span><br><span class=\"diff-removed\"><span class=\"yaml-key\">output</span>: <span class=\"yaml-value\">generated_ahab.bin</span> <span style=\"background-color: #FFFF00; border-radius: 5px; padding:\n",
       "2px 6px; margin-left: 5px; font-size: 0.8em;\">Change the output file name</span></span><br><span class=\"diff-added\"><span class=\"yaml-key\">output</span>: <span class=\"yaml-value\">../workspace/signed_ahab.bin</span></span><br><span class=\"yaml-commented-line\"># ------------------------------===== List of containers present in AHAB [Required] =====-------------------------------</span><br><span class=\"yaml-commented-line\"># Description: The order of containers in the list defines the order in AHAB.</span><br><span class=\"yaml-key\">containers</span>:<br><span class=\"diff-removed\"><span class=\"yaml-key\">  -</span></span><br>  <span class=\"yaml-commented-line\"># ====================================================================================================================</span><br>  <span class=\"yaml-commented-line\">#                                          == List of possible 2 options. ==                                          </span><br>  <span class=\"yaml-commented-line\">#                                        Options [binary_container, container]                                        </span><br>  <span class=\"yaml-commented-line\"># ====================================================================================================================</span><br><span class=\"diff-removed\"></span><br>  <span class=\"yaml-commented-line\">#  =========================== [Example of possible configuration: #0 , erase if not used] ============================</span><br>    <span class=\"yaml-commented-line\"># -----------------------------------===== Binary AHAB container [Required] =====-----------------------------------</span><br>    <span class=\"yaml-commented-line\"># Description: Binary Container format to add to AHAB image, Typically it could be used to add ELE Firmware.</span><br><span class=\"diff-removed\"><span class=\"yaml-key\">    binary_container</span>:</span><br>      <span class=\"yaml-commented-line\"># -----------------------------===== The AHAB container binary file [Required] =====------------------------------</span><br>      <span class=\"yaml-commented-line\"># Description: The binary file that contains AHAB \"my_binary_container.bin</span><br><span class=\"diff-removed\"><span class=\"yaml-key\">      path</span>: <span class=\"yaml-value\">my_ahab_container.bin</span> <span style=\"background-color: #FFFF00; border-radius: 5px;\n",
       "padding: 2px 6px; margin-left: 5px; font-size: 0.8em;\">In example is omitted the EdgeLock Enclave Firmware container (And clean up the comments about possible\n",
       "options of container definitions)</span></span><br><span class=\"diff-removed\"></span><br>  <span class=\"yaml-commented-line\">#  =========================== [Example of possible configuration: #1 , erase if not used] ============================</span><br>    <span class=\"yaml-commented-line\"># --------------------------------------===== AHAB Container [Required] =====---------------------------------------</span><br><span class=\"diff-added\"><span class=\"yaml-key\">  - </span><span class=\"yaml-commented-line\"># --------------------------------------===== AHAB Container [Required] =====---------------------------------------</span></span><br>    <span class=\"yaml-commented-line\"># Description: Configurable Container format to add to AHAB image. This allow to configure all aspects of the AHAB</span><br>    <span class=\"yaml-commented-line\"># container.</span><br><span class=\"yaml-key\">    container</span>:<br>      <span class=\"yaml-commented-line\"># --------------------------------===== Super Root Key (SRK) set [Required] =====---------------------------------</span><br>      <span class=\"yaml-commented-line\"># Description: Defines which set is used to authenticate the container.</span><br>      <span class=\"yaml-commented-line\"># Possible options: <none, oem, nxp></span><br><span class=\"diff-removed\"><span class=\"yaml-key\">      srk_set</span>: <span class=\"yaml-value\">none</span> <span style=\"background-color: #FFFF00; border-radius: 5px; padding: 2px 6px;\n",
       "margin-left: 5px; font-size: 0.8em;\">Change srk_set to OEM to sign the image with OEM SRK</span></span><br><span class=\"diff-added\"><span class=\"yaml-key\">      srk_set</span>: <span class=\"yaml-value\">oem</span></span><br>      <span class=\"yaml-commented-line\"># ---------------------------------===== Used SRK [Conditionally required] =====----------------------------------</span><br>      <span class=\"yaml-commented-line\"># Description: Which key from SRK set is being used.</span><br><span class=\"yaml-key\">      used_srk_id</span>: <span class=\"yaml-value\">0</span><br>      <span class=\"yaml-commented-line\"># -------------------------------------===== SRK revoke mask [Optional] =====-------------------------------------</span><br>      <span class=\"yaml-commented-line\"># Description: Bit-mask to indicate which SRKs to revoke. Bit set to 1 means revoke key. Bit 0 = revoke SRK_0, bit</span><br>      <span class=\"yaml-commented-line\"># 1 = revoke SRK_1 etc. Example of revocation SRK_0 and SRK_1 - the value should be 0x03</span><br><span class=\"diff-removed\"><span class=\"yaml-key\">      srk_revoke_mask</span>: <span class=\"yaml-value\">'0x00'</span></span><br><span class=\"diff-added\"><span class=\"yaml-key\">      srk_revoke_mask</span>: <span class=\"yaml-value\">0</span></span><br>      <span class=\"yaml-commented-line\"># ----------------------------------===== GDET runtime behavior [Optional] =====----------------------------------</span><br>      <span class=\"yaml-commented-line\"># Description: This option defines runtime behavior of Glitch detector. Not supported by all devices and their ELE</span><br>      <span class=\"yaml-commented-line\"># firmware.</span><br>      <span class=\"yaml-commented-line\">#  - disabled:       GDET is disabled after the first OEM container has been authenticated (default behavior)</span><br>      <span class=\"yaml-commented-line\">#  - enabled_eleapi: Automatically enable GDET during all ELE API calls</span><br>      <span class=\"yaml-commented-line\">#  - enabled:        Leave GDET enabled</span><br>      <span class=\"yaml-commented-line\"># Possible options: <disabled, enabled_eleapi, enabled></span><br><span class=\"diff-removed\"><span class=\"yaml-key\">      gdet_runtime_behavior</span>: <span class=\"yaml-value\">disabled</span> <span style=\"background-color: #FFFF00; border-radius: 5px;\n",
       "padding: 2px 6px; margin-left: 5px; font-size: 0.8em;\">This might be deleted, it is not used on RT1180</span></span><br>      <span class=\"yaml-commented-line\"># --------------------------------------===== Fuse version [Optional] =====---------------------------------------</span><br>      <span class=\"yaml-commented-line\"># Description: The value must be equal or greater than the version stored in fuses to allow loading this</span><br>      <span class=\"yaml-commented-line\"># container.</span><br><span class=\"yaml-key\">      fuse_version</span>: <span class=\"yaml-value\">0</span><br>      <span class=\"yaml-commented-line\"># ------------------------------------===== Software version [Optional] =====-------------------------------------</span><br>      <span class=\"yaml-commented-line\"># Description: Number used by Privileged Host Boot Companion (PHBC) to select between multiple images with same</span><br>      <span class=\"yaml-commented-line\"># Fuse version field.</span><br><span class=\"yaml-key\">      sw_version</span>: <span class=\"yaml-value\">0</span><br>      <span class=\"yaml-commented-line\"># ----------------------------------===== AHAB container signer [Optional] =====----------------------------------</span><br>      <span class=\"yaml-commented-line\"># Description: Signature provider configuration in format 'type=<identifier>;<key1>=<value1>;<key2>=<value2>' or a</span><br>      <span class=\"yaml-commented-line\"># private key used for sign the container header. Header can be signed by SRK. The referenced SRK must not have</span><br>      <span class=\"yaml-commented-line\"># been revoked.</span><br><span class=\"diff-removed\"><span class=\"yaml-key\">      signer</span>: <span class=\"yaml-value\">type=file;file_path=my_prv_key.pem</span> <span style=\"background-color: #FFFF00; border-\n",
       "radius: 5px; padding: 2px 6px; margin-left: 5px; font-size: 0.8em;\">Path to signing key</span></span><br><span class=\"diff-added\"><span class=\"yaml-key\">      signer</span>: <span class=\"yaml-value\">../../_data/keys/ecc256/srk0_ecc256.pem</span></span><br><br>      <span class=\"yaml-commented-line\"># ================================================================================================================</span><br>      <span class=\"yaml-commented-line\">#                     == Configuration of AHAB Container images (array of multiple images) ==                     </span><br>      <span class=\"yaml-commented-line\"># ================================================================================================================</span><br>      <span class=\"yaml-commented-line\"># ---------------------------------------===== Image array [Required] =====---------------------------------------</span><br>      <span class=\"yaml-commented-line\"># Description: Array of image entries.</span><br><span class=\"yaml-key\">      images</span>:<br><span class=\"diff-removed\"><span class=\"yaml-key\">        -</span></span><br>          <span class=\"yaml-commented-line\"># -------------------------------------===== Image path [Optional] =====--------------------------------------</span><br><span class=\"diff-added\"><span class=\"yaml-key\">        - </span><span class=\"yaml-commented-line\"># -------------------------------------===== Image path [Optional] =====--------------------------------------</span></span><br>          <span class=\"yaml-commented-line\"># Description: Path to image binary (absolute/relative). In case that only Image Array entry without any data</span><br>          <span class=\"yaml-commented-line\"># image is needed, Just do not use the image path. In case that the image size in container should be aligned</span><br>          <span class=\"yaml-commented-line\"># differently then SPSDK do (4 bytes for ELE images, 1 byte otherwise), there is hidden option</span><br>          <span class=\"yaml-commented-line\"># 'image_size_alignment' where could be override image size by any custom value.</span><br><span class=\"diff-removed\"><span class=\"yaml-key\">          image_path</span>: <span class=\"yaml-value\">my_image.bin</span> <span style=\"background-color: #FFFF00; border-radius: 5px;\n",
       "padding: 2px 6px; margin-left: 5px; font-size: 0.8em;\">Define the image executable (compiled flashloader binary).</span></span><br><span class=\"diff-added\"><span class=\"yaml-key\">          image_path</span>: <span class=\"yaml-value\">inputs/fspi1_xip_cm33_img.bin</span></span><br>          <span class=\"yaml-commented-line\"># ---------------------------===== Image offset in AHAB container [Optional] =====----------------------------</span><br>          <span class=\"yaml-commented-line\"># Description: Offset in bytes from start of container header to beginning of the image. Zero value means</span><br>          <span class=\"yaml-commented-line\"># automatic placing the image with proper alignment after previous one, this is recommended for</span><br>          <span class=\"yaml-commented-line\"># serial_downloader mode. In case of XiP type of AHAB image, the load_address and entry_point must correspond</span><br>          <span class=\"yaml-commented-line\"># to this values. Example of setting of load_address - AHAB_IMAGE_ADDRESS+IMAGE_OFFSET=LOAD_ADDRESS. The</span><br>          <span class=\"yaml-commented-line\"># Booting core images must be located after the other ones</span><br><span class=\"diff-removed\"><span class=\"yaml-key\">          image_offset</span>: <span class=\"yaml-value\">0</span> <span style=\"background-color: #FFFF00; border-radius: 5px; padding: 2px\n",
       "6px; margin-left: 5px; font-size: 0.8em;\">The image offset doesn't matter in serial downloader mode, it's updated automatically if left as 0.</span></span><br><span class=\"diff-added\"><span class=\"yaml-key\">          image_offset</span>: <span class=\"yaml-value\">\"0xA000\"</span></span><br>          <span class=\"yaml-commented-line\"># ------------------------------===== Image destination address [Required] =====------------------------------</span><br>          <span class=\"yaml-commented-line\"># Description: Address the image is written to in memory (absolute address in system memory).</span><br><span class=\"diff-removed\"><span class=\"yaml-key\">          load_address</span>: <span class=\"yaml-value\">'0x1FFC_0000'</span> <span style=\"background-color: #FFFF00; border-radius: 5px;\n",
       "padding: 2px 6px; margin-left: 5px; font-size: 0.8em;\">he most important are 'load_address' and 'entry_point' fields that must be sets on same value as is\n",
       "defined linker file for the application start of the application. In case of i.MXRT118x the linker load address is 0x304a0000</span></span><br><span class=\"diff-added\"><span class=\"yaml-key\">          load_address</span>: <span class=\"yaml-value\">\"0x3800B000\"</span></span><br>          <span class=\"yaml-commented-line\"># ----------------------------------===== Image entry point [Required] =====----------------------------------</span><br>          <span class=\"yaml-commented-line\"># Description: Image entry point (absolute address). Valid only for executable image types.</span><br><span class=\"diff-removed\"><span class=\"yaml-key\">          entry_point</span>: <span class=\"yaml-value\">'0x1FFC_0000'</span></span><br><span class=\"diff-added\"><span class=\"yaml-key\">          entry_point</span>: <span class=\"yaml-value\">\"0x3800B000\"</span></span><br>          <span class=\"yaml-commented-line\"># -------------------------------------===== Image type [Required] =====--------------------------------------</span><br>          <span class=\"yaml-commented-line\"># Description: Kind of image.</span><br>          <span class=\"yaml-commented-line\"># Possible options: <executable, data, provisioning_image, provisioning_data, ele></span><br><span class=\"yaml-key\">          image_type</span>: <span class=\"yaml-value\">executable</span><br>          <span class=\"yaml-commented-line\"># ---------------------------------------===== Core ID [Required] =====---------------------------------------</span><br>          <span class=\"yaml-commented-line\"># Description: Defines the core the image is dedicated for. Not all cores are supported for all families.</span><br>          <span class=\"yaml-commented-line\"># Possible options: <cortex-m33, cortex-m7, ele></span><br><span class=\"yaml-key\">          core_id</span>: <span class=\"yaml-value\">cortex-m33</span><br>          <span class=\"yaml-commented-line\"># ----------------------------------===== Image encryption [Optional] =====-----------------------------------</span><br>          <span class=\"yaml-commented-line\"># Description: Determines, whether image is encrypted or not.</span><br><span class=\"yaml-key\">          is_encrypted</span>: <span class=\"yaml-value\">false</span><br>          <span class=\"yaml-commented-line\"># -------------------------------------===== Boot flags [Optional] =====--------------------------------------</span><br>          <span class=\"yaml-commented-line\"># Description: Boot flags controlling SCFW boot.</span><br><span class=\"diff-removed\"><span class=\"yaml-key\">          boot_flags</span>: <span class=\"yaml-value\">0</span> <span style=\"background-color: #FFFF00; border-radius: 5px; padding: 2px\n",
       "6px; margin-left: 5px; font-size: 0.8em;\">This might be removed</span></span><br>          <span class=\"yaml-commented-line\"># ------------------------------------===== Start CPU ID [Optional] =====-------------------------------------</span><br>          <span class=\"yaml-commented-line\"># Description: Resource ID of CPU to be started</span><br><span class=\"diff-removed\"><span class=\"yaml-key\">          meta_data_start_cpu_id</span>: <span class=\"yaml-value\">0</span> <span style=\"background-color: #FFFF00; border-radius: 5px;\n",
       "padding: 2px 6px; margin-left: 5px; font-size: 0.8em;\">This might be removed</span></span><br>          <span class=\"yaml-commented-line\"># ------------------------------===== CPU memory unit start ID [Optional] =====-------------------------------</span><br>          <span class=\"yaml-commented-line\"># Description: Resource ID of the MU associated with the CPU</span><br><span class=\"diff-removed\"><span class=\"yaml-key\">          meta_data_mu_cpu_id</span>: <span class=\"yaml-value\">0</span> <span style=\"background-color: #FFFF00; border-radius: 5px;\n",
       "padding: 2px 6px; margin-left: 5px; font-size: 0.8em;\">This might be removed</span></span><br>          <span class=\"yaml-commented-line\"># ---------------------------------===== Start partition ID [Optional] =====----------------------------------</span><br>          <span class=\"yaml-commented-line\"># Description: Partition ID of the partition to start</span><br><span class=\"diff-removed\"><span class=\"yaml-key\">          meta_data_start_partition_id</span>: <span class=\"yaml-value\">0</span> <span style=\"background-color: #FFFF00; border-radius:\n",
       "5px; padding: 2px 6px; margin-left: 5px; font-size: 0.8em;\">This might be removed</span></span><br>          <span class=\"yaml-commented-line\"># ----------------------------------===== Images HASH type [Optional] =====-----------------------------------</span><br>          <span class=\"yaml-commented-line\"># Description: HASH type of image.</span><br>          <span class=\"yaml-commented-line\"># Possible options: <sha256, sha384, sha512, sm3></span><br><span class=\"yaml-key\">          hash_type</span>: <span class=\"yaml-value\">sha512</span><br><br>      <span class=\"yaml-commented-line\"># ================================================================================================================</span><br>      <span class=\"yaml-commented-line\">#                                      == Configuration of AHAB SRK table ==                                      </span><br>      <span class=\"yaml-commented-line\"># ================================================================================================================</span><br>      <span class=\"yaml-commented-line\"># ---------------------------------===== SRK Table [Conditionally required] =====---------------------------------</span><br>      <span class=\"yaml-commented-line\"># Description: SRK (Super Root key) table definition.</span><br><span class=\"yaml-key\">      srk_table</span>:<br>        <span class=\"yaml-commented-line\"># ----------------------------------------===== CA Flag [Optional] =====----------------------------------------</span><br>        <span class=\"yaml-commented-line\"># Description: CA Flag is used by HAB to indicate if the SRK is allowed to sign other keys</span><br><span class=\"yaml-key\">        flag_ca</span>: <span class=\"yaml-value\">false</span><br>        <span class=\"yaml-commented-line\"># ------------------------------===== Super Root Key (SRK) table [Required] =====-------------------------------</span><br>        <span class=\"yaml-commented-line\"># Description: Table containing the used SRK records. All SRKs must be of the same type. Supported signing</span><br>        <span class=\"yaml-commented-line\"># algorithms are: RSA-PSS, ECDSA, Dilithium or SM2. Supported hash algorithms: sha256, sha384, sha512, sha3_256,</span><br>        <span class=\"yaml-commented-line\"># sha3_384, sha3_512, sm3. Supported key sizes/curves: prime256v1, sec384r1, sec512r1, rsa2048, rsa4096,</span><br>        <span class=\"yaml-commented-line\"># dilithium3, sm2. Certificate may be of Certificate Authority. Dilithium algorithms are supported just in new</span><br>        <span class=\"yaml-commented-line\"># type of AHAB container</span><br><span class=\"yaml-key\">        srk_array</span>: <span style=\"background-color: #FFFF00; border-radius: 5px; padding: 2px 6px; margin-left: 5px; font-size:\n",
       "0.8em;\">Define the SRK (Super Root Keys) record. In our case the local pregenerated public keys</span><br><span class=\"diff-removed\"><span class=\"yaml-key\">          - </span>my_srk_public_key0.pub</span><br><span class=\"diff-removed\"><span class=\"yaml-key\">          - </span>my_srk_public_key1.pub</span><br><span class=\"diff-removed\"><span class=\"yaml-key\">          - </span>my_srk_public_key2.pub</span><br><span class=\"diff-removed\"><span class=\"yaml-key\">          - </span>my_srk_public_key3.pub</span><br><span class=\"diff-added\"><span class=\"yaml-key\">          - </span>../../_data/keys/ecc256/srk0_ecc256.pub</span><br><span class=\"diff-added\"><span class=\"yaml-key\">          - </span>../../_data/keys/ecc256/srk1_ecc256.pub</span><br><span class=\"diff-added\"><span class=\"yaml-key\">          - </span>../../_data/keys/ecc256/srk2_ecc256.pub</span><br><span class=\"diff-added\"><span class=\"yaml-key\">          - </span>../../_data/keys/ecc256/srk3_ecc256.pub</span><br><br>      <span class=\"yaml-commented-line\"># ================================================================================================================</span><br>      <span class=\"yaml-commented-line\">#         == Optional configuration of AHAB Container Encryption blob (if not used, erase the section) ==         </span><br>      <span class=\"yaml-commented-line\"># ================================================================================================================</span><br>      <span class=\"yaml-commented-line\"># -------------------------------------===== Encryption blob [Optional] =====-------------------------------------</span><br>      <span class=\"yaml-commented-line\"># Description: Encryption blob container definition</span><br><span class=\"diff-removed\"><span class=\"yaml-key\">      blob</span>: <span style=\"background-color: #FFFF00; border-radius: 5px; padding: 2px 6px; margin-left: 5px; font-size: 0.8em;\">And\n",
       "finally remove unused parts for AHAB Certificate and Encryption blob</span></span><br>        <span class=\"yaml-commented-line\"># ------------------------------------===== Key identifier [Required] =====-------------------------------------</span><br>        <span class=\"yaml-commented-line\"># Description: The key identifier that has been used to generate DEK keyblob.</span><br><span class=\"diff-removed\"><span class=\"yaml-key\">        key_identifier</span>: <span class=\"yaml-value\">0</span></span><br>        <span class=\"yaml-commented-line\"># -------------------------------------===== DEK key size [Required] =====--------------------------------------</span><br>        <span class=\"yaml-commented-line\"># Description: Data Encryption key size. Used for AES CBC-MAC (128/192/256 size)</span><br>        <span class=\"yaml-commented-line\"># Possible options: <128, 192, 256></span><br><span class=\"diff-removed\"><span class=\"yaml-key\">        dek_key_size</span>: <span class=\"yaml-value\">128</span></span><br>        <span class=\"yaml-commented-line\"># ----------------------------------------===== DEK key [Required] =====----------------------------------------</span><br>        <span class=\"yaml-commented-line\"># Description: Data Encryption key. Used for AES CBC-MAC (128/192/256 size). The HEX format is accepted</span><br><span class=\"diff-removed\"><span class=\"yaml-key\">        dek_key</span>: <span class=\"yaml-value\">my_dek_key.txt</span></span><br>        <span class=\"yaml-commented-line\"># --------------------------------------===== DEK keyblob [Optional] =====--------------------------------------</span><br>        <span class=\"yaml-commented-line\"># Description: Wrapped Data Encryption key. Used for AES CBC-MAC (128/192/256 size). The HEX format is accepted.</span><br>        <span class=\"yaml-commented-line\"># If NOT used, the empty keyblob is inserted into container and need to be updated later.</span><br><span class=\"diff-removed\"><span class=\"yaml-key\">        dek_keyblob</span>: <span class=\"yaml-value\">my_wrapped_key.txt</span> <span style=\"background-color: #FFFF00; border-radius:\n",
       "5px; padding: 2px 6px; margin-left: 5px; font-size: 0.8em;\">And finally remove unused parts for AHAB Certificate and Encryption blob</span></span><br><span class=\"diff-removed\"></span></pre></div>\n",
       "            <div id=\"userConfigView_3a99271a6616941deb8a32fc761a500b\" class=\"yaml-diff\" style=\"display:none;\"><pre class=\"yaml-diff\"><span class=\"yaml-commented-line\"># Copyright 2024-2025 NXP</span><br><span class=\"yaml-commented-line\">#</span><br><span class=\"yaml-commented-line\"># SPDX-License-Identifier: BSD-3-Clause</span><br><br><span class=\"yaml-commented-line\"># =========================  Advanced High-Assurance Boot Configuration template for mimxrt1189.  ==========================</span><br><br><span class=\"yaml-commented-line\"># ======================================================================================================================</span><br><span class=\"yaml-commented-line\">#                                                 == General Options ==</span><br><span class=\"yaml-commented-line\"># ======================================================================================================================</span><br><span class=\"yaml-commented-line\"># ------------------------------------------===== MCU family [Required] =====-------------------------------------------</span><br><span class=\"yaml-commented-line\"># Description: Family identifier including the chip revision. If revision is not present, latest revision is used as</span><br><span class=\"yaml-commented-line\"># default.</span><br><span class=\"yaml-commented-line\"># Possible options: <mimx8ulp, mimx9352, mimx9596, mimxrt1189></span><br><span class=\"yaml-key\">family</span>: <span class=\"yaml-value\">mimxrt1189</span><br><span class=\"yaml-commented-line\"># -----------------------------------------===== MCU revision [Optional] =====------------------------------------------</span><br><span class=\"yaml-commented-line\"># Description: Revision of silicon</span><br><span class=\"yaml-key\">revision</span>: <span class=\"yaml-value\">latest</span><br><span class=\"yaml-commented-line\"># -----------------------------------------===== Target memory [Optional] =====-----------------------------------------</span><br><span class=\"yaml-commented-line\"># Description: Target memory for AHAB container</span><br><span class=\"yaml-commented-line\"># Possible options: <serial_downloader, standard, nand_2k, nand_4k></span><br><span class=\"yaml-key\">target_memory</span>: <span class=\"yaml-value\">standard</span><br><span class=\"yaml-commented-line\"># ---------------------------------------===== Output file name [Required] =====----------------------------------------</span><br><span class=\"yaml-commented-line\"># Description: Output AHAB file name</span><br><span class=\"yaml-key\">output</span>: <span class=\"yaml-value\">../workspace/signed_ahab.bin</span> <span style=\"background-color: #FFFF00; border-radius: 5px;\n",
       "padding: 2px 6px; margin-left: 5px; font-size: 0.8em;\">Change the output file name</span><br><span class=\"yaml-commented-line\"># ------------------------------===== List of containers present in AHAB [Required] =====-------------------------------</span><br><span class=\"yaml-commented-line\"># Description: The order of containers in the list defines the order in AHAB.</span><br><span class=\"yaml-key\">containers</span>:<br><span class=\"yaml-key\">  - </span><span class=\"yaml-commented-line\"># --------------------------------------===== AHAB Container [Required] =====---------------------------------------</span><br>    <span class=\"yaml-commented-line\"># Description: Configurable Container format to add to AHAB image. This allow to configure all aspects of the AHAB</span><br>    <span class=\"yaml-commented-line\"># container.</span><br><span class=\"yaml-key\">    container</span>:<br>      <span class=\"yaml-commented-line\"># --------------------------------===== Super Root Key (SRK) set [Required] =====---------------------------------</span><br>      <span class=\"yaml-commented-line\"># Description: Defines which set is used to authenticate the container.</span><br>      <span class=\"yaml-commented-line\"># Possible options: <none, oem, nxp></span><br><span class=\"yaml-key\">      srk_set</span>: <span class=\"yaml-value\">oem</span> <span style=\"background-color: #FFFF00; border-radius: 5px; padding: 2px 6px;\n",
       "margin-left: 5px; font-size: 0.8em;\">Change srk_set to OEM to sign the image with OEM SRK</span><br>      <span class=\"yaml-commented-line\"># ---------------------------------===== Used SRK [Conditionally required] =====----------------------------------</span><br>      <span class=\"yaml-commented-line\"># Description: Which key from SRK set is being used.</span><br><span class=\"yaml-key\">      used_srk_id</span>: <span class=\"yaml-value\">0</span><br>      <span class=\"yaml-commented-line\"># -------------------------------------===== SRK revoke mask [Optional] =====-------------------------------------</span><br>      <span class=\"yaml-commented-line\"># Description: Bitmask to indicate which SRKs to revoke. Bit set to 1 means revoke key. Bit 0 = revoke SRK_0, bit</span><br>      <span class=\"yaml-commented-line\"># 1 = revoke SRK_1 etc.</span><br><span class=\"yaml-key\">      srk_revoke_mask</span>: <span class=\"yaml-value\">0</span><br>      <span class=\"yaml-commented-line\"># --------------------------------------===== Fuse version [Required] =====---------------------------------------</span><br>      <span class=\"yaml-commented-line\"># Description: The value must be equal or greater than the version stored in fuses to allow loading this</span><br>      <span class=\"yaml-commented-line\"># container.</span><br><span class=\"yaml-key\">      fuse_version</span>: <span class=\"yaml-value\">0</span><br>      <span class=\"yaml-commented-line\"># ------------------------------------===== Software version [Required] =====-------------------------------------</span><br>      <span class=\"yaml-commented-line\"># Description: Number used by Privileged Host Boot Companion (PHBC) to select between multiple images with same</span><br>      <span class=\"yaml-commented-line\"># Fuse version field.</span><br><span class=\"yaml-key\">      sw_version</span>: <span class=\"yaml-value\">0</span><br>      <span class=\"yaml-commented-line\"># ------------------------===== AHAB container signing key [Conditionally required] =====-------------------------</span><br>      <span class=\"yaml-commented-line\"># Description: Private key used for sign the container header. Header can be signed by SRK. The referenced SRK</span><br>      <span class=\"yaml-commented-line\"># must not have been revoked.</span><br><span class=\"yaml-key\">      signer</span>: <span class=\"yaml-value\">../../_data/keys/ecc256/srk0_ecc256.pem</span> <span style=\"background-color: #FFFF00;\n",
       "border-radius: 5px; padding: 2px 6px; margin-left: 5px; font-size: 0.8em;\">Path to signing key</span><br><br>      <span class=\"yaml-commented-line\"># ================================================================================================================</span><br>      <span class=\"yaml-commented-line\">#                     == Configuration of AHAB Container images (array of multiple images) ==</span><br>      <span class=\"yaml-commented-line\"># ================================================================================================================</span><br>      <span class=\"yaml-commented-line\"># ---------------------------------------===== Image array [Required] =====---------------------------------------</span><br>      <span class=\"yaml-commented-line\"># Description: Array of image entries.</span><br><span class=\"yaml-key\">      images</span>:<br><span class=\"yaml-key\">        - </span><span class=\"yaml-commented-line\"># -------------------------------------===== Image path [Optional] =====--------------------------------------</span><br>          <span class=\"yaml-commented-line\"># Description: Path to image binary (absolute/relative). In case that only Image Array entry without any data</span><br>          <span class=\"yaml-commented-line\"># image is needed, Just do not use the image path. In case that the image size in container should be aligned</span><br>          <span class=\"yaml-commented-line\"># differently then SPSDK do (4 bytes for ELE images, 1 byte otherwise), there is hidden option</span><br>          <span class=\"yaml-commented-line\"># 'image_size_alignment' where could be override image size by any custom value.</span><br><span class=\"yaml-key\">          image_path</span>: <span class=\"yaml-value\">inputs/fspi1_xip_cm33_img.bin</span> <span style=\"background-color: #FFFF00;\n",
       "border-radius: 5px; padding: 2px 6px; margin-left: 5px; font-size: 0.8em;\">Define the image executable (compiled flashloader binary).</span><br>          <span class=\"yaml-commented-line\"># ---------------------------===== Image offset in AHAB container [Required] =====----------------------------</span><br>          <span class=\"yaml-commented-line\"># Description: Offset in bytes from start of container header to beginning of the image. In case of XiP type</span><br>          <span class=\"yaml-commented-line\"># of AHAB image, the load_address and entry_point must correspond to this values. Example of setting of</span><br>          <span class=\"yaml-commented-line\"># load_address - AHAB_IMAGE_ADDRESS+IMAGE_OFFSET=LOAD_ADDRESS. The Booting core images must be located after</span><br>          <span class=\"yaml-commented-line\"># the other ones</span><br><span class=\"yaml-key\">          image_offset</span>: <span class=\"yaml-value\">\"0xA000\"</span> <span style=\"background-color: #FFFF00; border-radius: 5px;\n",
       "padding: 2px 6px; margin-left: 5px; font-size: 0.8em;\">The image offset doesn't matter in serial downloader mode, it's updated automatically if left as\n",
       "0.</span><br>          <span class=\"yaml-commented-line\"># ------------------------------===== Image destination address [Required] =====------------------------------</span><br>          <span class=\"yaml-commented-line\"># Description: Address the image is written to in memory (absolute address in system memory).</span><br><span class=\"yaml-key\">          load_address</span>: <span class=\"yaml-value\">\"0x3800B000\"</span> <span style=\"background-color: #FFFF00; border-radius: 5px;\n",
       "padding: 2px 6px; margin-left: 5px; font-size: 0.8em;\">he most important are 'load_address' and 'entry_point' fields that must be sets on same value as is\n",
       "defined linker file for the application start of the application. In case of i.MXRT118x the linker load address is 0x304a0000</span><br>          <span class=\"yaml-commented-line\"># ----------------------------------===== Image entry point [Required] =====----------------------------------</span><br>          <span class=\"yaml-commented-line\"># Description: Image entry point (absolute address). Valid only for executable image types.</span><br><span class=\"yaml-key\">          entry_point</span>: <span class=\"yaml-value\">\"0x3800B000\"</span><br>          <span class=\"yaml-commented-line\"># -------------------------------------===== Image type [Required] =====--------------------------------------</span><br>          <span class=\"yaml-commented-line\"># Description: Kind of image.</span><br>          <span class=\"yaml-commented-line\"># Possible options: <executable, data, dcd_image, seco, provisioning_image, provisioning_data,</span><br>          <span class=\"yaml-commented-line\"># executable_fast_boot_image, data_fast_boot_image></span><br><span class=\"yaml-key\">          image_type</span>: <span class=\"yaml-value\">executable</span><br>          <span class=\"yaml-commented-line\"># ---------------------------------------===== Core ID [Required] =====---------------------------------------</span><br>          <span class=\"yaml-commented-line\"># Description: Defines the core the image is dedicated for. Not all cores are supported for all families.</span><br>          <span class=\"yaml-commented-line\"># Possible options: <cortex-a55, cortex-m33, cortex-m7, cortex-m4, cortex-m4_1, cortex-a53, cortex-a35,</span><br>          <span class=\"yaml-commented-line\"># cortex-a72, seco, hdmi-tx, hdmi-rx, v2x-1, v2x-2></span><br><span class=\"yaml-key\">          core_id</span>: <span class=\"yaml-value\">cortex-m33</span><br>          <span class=\"yaml-commented-line\"># ----------------------------------===== Image encryption [Required] =====-----------------------------------</span><br>          <span class=\"yaml-commented-line\"># Description: Determines, whether image is encrypted or not.</span><br><span class=\"yaml-key\">          is_encrypted</span>: <span class=\"yaml-value\">false</span><br>          <span class=\"yaml-commented-line\"># ----------------------------------===== Images HASH type [Optional] =====-----------------------------------</span><br>          <span class=\"yaml-commented-line\"># Description: HASH type of image. All images in the container must have the same HASH type.</span><br>          <span class=\"yaml-commented-line\"># Possible options: <sha256, sha384, sha512, sm3></span><br><span class=\"yaml-key\">          hash_type</span>: <span class=\"yaml-value\">sha512</span><br><br>      <span class=\"yaml-commented-line\"># ================================================================================================================</span><br>      <span class=\"yaml-commented-line\">#                                      == Configuration of AHAB SRK table ==</span><br>      <span class=\"yaml-commented-line\"># ================================================================================================================</span><br>      <span class=\"yaml-commented-line\"># ---------------------------------===== SRK Table [Conditionally required] =====---------------------------------</span><br>      <span class=\"yaml-commented-line\"># Description: SRK (Super Root key) table definition.</span><br><span class=\"yaml-key\">      srk_table</span>:<br>        <span class=\"yaml-commented-line\"># ----------------------------------------===== CA Flag [Optional] =====----------------------------------------</span><br>        <span class=\"yaml-commented-line\"># Description: CA Flag is used by HAB to indicate if the SRK is allowed to sign other keys</span><br><span class=\"yaml-key\">        flag_ca</span>: <span class=\"yaml-value\">false</span><br>        <span class=\"yaml-commented-line\"># ------------------------------===== Super Root Key (SRK) table [Required] =====-------------------------------</span><br>        <span class=\"yaml-commented-line\"># Description: Table containing the used SRK records. All SRKs must be of the same type. Supported signing</span><br>        <span class=\"yaml-commented-line\"># algorithms are: RSA-PSS, ECDSA or SM2. Supported hash algorithms: sha256, sha384, sha512, sm3. Supported</span><br>        <span class=\"yaml-commented-line\"># key sizes/curves: prime256v1, sec384r1, sec512r1, rsa2048, rsa4096, sm2. Certificate may be of Certificate</span><br>        <span class=\"yaml-commented-line\"># Authority.</span><br><span class=\"yaml-key\">        srk_array</span>: <span style=\"background-color: #FFFF00; border-radius: 5px; padding: 2px 6px; margin-left: 5px; font-size:\n",
       "0.8em;\">Define the SRK (Super Root Keys) record. In our case the local pregenerated public keys</span><br><span class=\"yaml-key\">          - </span>../../_data/keys/ecc256/srk0_ecc256.pub<br><span class=\"yaml-key\">          - </span>../../_data/keys/ecc256/srk1_ecc256.pub<br><span class=\"yaml-key\">          - </span>../../_data/keys/ecc256/srk2_ecc256.pub<br><span class=\"yaml-key\">          - </span>../../_data/keys/ecc256/srk3_ecc256.pub<br></pre></div>\n",
       "            </div>\n",
       "            "
      ],
      "text/plain": [
       "<IPython.core.display.HTML object>"
      ]
     },
     "execution_count": 6,
     "metadata": {},
     "output_type": "execute_result"
    }
   ],
   "source": [
    "YamlDiffWidget(\"inputs/rt118x_secure_boot.diffc\").html"
   ]
  },
  {
   "cell_type": "markdown",
   "metadata": {},
   "source": [
    "### 4.1 Modify the Template Configuration File for AHAB\n",
    "\n",
    "To create an AHAB container for your application, follow these steps to modify the template configuration file:\n",
    "\n",
    "I. **Change the Output File Name**: The target memory is standard by default, representing the memory from which the RT118x will boot.\n",
    "\n",
    "II. **General Settings of AHAB Container**:\n",
    "    - Remove the signature provider definition.\n",
    "    - Configure the path to the pre-generated private signing key.\n",
    "    - Set the `use_srk_id` field to align with the `signer` index:\n",
    "      - `use_srk_id=0` corresponds to `srk0_ecc256.pem`\n",
    "      - `use_srk_id=1` corresponds to `srk1_ecc256.pem`\n",
    "      - `use_srk_id=2` corresponds to `srk2_ecc256.pem`\n",
    "      - `use_srk_id=3` corresponds to `srk3_ecc256.pem`\n",
    "\n",
    "III. **Define the Image Executable**:\n",
    "    - Set the application offset to `0xA000` to align with the SDK linker files. This offset allows for the inclusion of the base ELE firmware (32KB).\n",
    "    - Ensure `load_address` and `entry_point` fields match the start address defined in the linker file for the application. Both usually point to the same address unless there are data placed before the image vector table (e.g., dual-core applications).\n",
    "    - The `hash` parameter is mandatory for AHAB. Integrity checks are always performed during boot:\n",
    "      - In OEM_OPEN, an invalid hash reports a warning but allows the image to boot.\n",
    "      - In OEM_CLOSED, an invalid hash prevents the firmware from booting.\n",
    "\n",
    "  - The example below is for an XiP target executed from NOR memory connected to FlexSPI 1. Examples for other bootable images (FlexSPI2, OCRAM, CTCM, and multicore) are also available in the inputs folder:\n",
    "    - `config_signed_fspi1.yaml` (demonstrated)\n",
    "    - `config_signed_fspi2.yaml`\n",
    "    - `config_signed_ctcm.yaml`\n",
    "    - `config_signed_ocram.yaml`\n",
    "    - `config_signed_multicore_fspi1.yaml`\n",
    "    - `config_signed_multicore_fspi2.yaml`\n",
    "\n",
    "IV. **Define the SRK (Super Root Keys) Array**:\n",
    "    - Use local pre-generated public keys.\n",
    "\n",
    "V. **Remove Unused Parts**:\n",
    "    - Remove unused sections for AHAB Certificate and Encryption blob from the YAML file."
   ]
  },
  {
   "cell_type": "markdown",
   "metadata": {},
   "source": [
    "To export AHAB container is designed SPSDK tool in 'nxpimage' under 'ahab' sub commands group."
   ]
  },
  {
   "cell_type": "code",
   "execution_count": 11,
   "metadata": {},
   "outputs": [
    {
     "name": "stdout",
     "output_type": "stream",
     "text": [
      "nxpimage  ahab export -c inputs/config_signed_fspi1.yaml \n",
      "Success. (AHAB: workspace/signed_ahab.bin created.)\n",
      "Exporting AHAB fuses to the output directory.\n",
      "workspace/ahab_oem0_srk0_hash.txt\n",
      "workspace/ahab_oem0_srk0_hash_blhost.bcf\n"
     ]
    }
   ],
   "source": [
    "# For this example, signed xip application from FlexSPI 1 is used by default\n",
    "AHAB_CONFIG = INPUTS + \"config_signed_fspi1.yaml\"  # Prepared AHAB configuration file\n",
    "# AHAB_CONFIG = INPUTS + \"config_signed_fspi2.yaml\"                   # Prepared AHAB configuration file\n",
    "# AHAB_CONFIG = INPUTS + \"config_signed_ctcm.yaml\"                    # Prepared AHAB configuration file\n",
    "# AHAB_CONFIG = INPUTS + \"config_signed_ocram.yaml\"                   # Prepared AHAB configuration file\n",
    "# AHAB_CONFIG = INPUTS + \"config_signed_multicore_fspi1.yaml\"         # Prepared AHAB configuration file\n",
    "# AHAB_CONFIG = INPUTS + \"config_signed_multicore_fspi2.yaml\"         # Prepared AHAB configuration file\n",
    "\n",
    "assert os.path.exists(AHAB_CONFIG)\n",
    "# Export AHAB container using nxpimage\n",
    "%! nxpimage $VERBOSITY ahab export -c $AHAB_CONFIG"
   ]
  },
  {
   "cell_type": "markdown",
   "metadata": {},
   "source": [
    "## 5. Program the image into external memory.\n",
    "\n",
    "RT118x requires boot from an external memory. To build a valid bootable image, another structures must be placed into external memory depending on bootable image type. For signed AHAB, ony FCB is required besides ahab and image itself. See the figure below for information:\n",
    "\n",
    "\n",
    "\n",
    "![Boot image structure](img/boot_image-1.png \"boot image\")\n",
    "\n",
    "\n",
    "\n",
    "\n",
    "The SPSDK contains commands group that simplify whole operation with bootable images under 'nxpimage'. \n"
   ]
  },
  {
   "cell_type": "markdown",
   "metadata": {},
   "source": [
    "I. Configure external memory. SPDSK contains tool called \"nxpmemcfg\" which contains database of supported memories and utilities to supports creation, extraction, parsing of FCB etc."
   ]
  },
  {
   "cell_type": "code",
   "execution_count": 7,
   "metadata": {
    "execute_cell": false
   },
   "outputs": [
    {
     "name": "stdout",
     "output_type": "stream",
     "text": [
      "nxpmemcfg family-info \n",
      "List of all supported peripherals and its instances:\n",
      "╔════╦══════════════════════════╦═════════════╦══════════╦══════════════╦══════════╦═══════════╦════════════════════════════════════════════════╦════════╦════════╗\n",
      "║ #  ║          Family          ║ flexspi_nor ║ xspi_nor ║ flexspi_nand ║ semc_nor ║ semc_nand ║                    spi_nor                     ║  mmc   ║   sd   ║\n",
      "╠════╬══════════════════════════╬═════════════╬══════════╬══════════════╬══════════╬═══════════╬════════════════════════════════════════════════╬════════╬════════╣\n",
      "║ 0  ║  lpc5502, Revision: a0   ║     N/A     ║   N/A    ║     N/A      ║   N/A    ║    N/A    ║                      [3]                       ║  N/A   ║  N/A   ║\n",
      "║ 1  ║  lpc5504, Revision: a0   ║     N/A     ║   N/A    ║     N/A      ║   N/A    ║    N/A    ║                      [3]                       ║  N/A   ║  N/A   ║\n",
      "║ 2  ║  lpc5506, Revision: a0   ║     N/A     ║   N/A    ║     N/A      ║   N/A    ║    N/A    ║                      [3]                       ║  N/A   ║  N/A   ║\n",
      "║ 3  ║  lpc5512, Revision: a0   ║     N/A     ║   N/A    ║     N/A      ║   N/A    ║    N/A    ║                      [3]                       ║  N/A   ║  N/A   ║\n",
      "║ 4  ║  lpc5514, Revision: a0   ║     N/A     ║   N/A    ║     N/A      ║   N/A    ║    N/A    ║                      [3]                       ║  N/A   ║  N/A   ║\n",
      "║ 5  ║  lpc5516, Revision: a0   ║     N/A     ║   N/A    ║     N/A      ║   N/A    ║    N/A    ║                      [3]                       ║  N/A   ║  N/A   ║\n",
      "║ 6  ║  lpc5526, Revision: 1a   ║     N/A     ║   N/A    ║     N/A      ║   N/A    ║    N/A    ║                      [3]                       ║  N/A   ║  N/A   ║\n",
      "║ 7  ║  lpc5526, Revision: 1b   ║     N/A     ║   N/A    ║     N/A      ║   N/A    ║    N/A    ║                      [3]                       ║  N/A   ║  N/A   ║\n",
      "║ 8  ║  lpc5528, Revision: 1a   ║     N/A     ║   N/A    ║     N/A      ║   N/A    ║    N/A    ║                      [3]                       ║  N/A   ║  N/A   ║\n",
      "║ 9  ║  lpc5528, Revision: 1b   ║     N/A     ║   N/A    ║     N/A      ║   N/A    ║    N/A    ║                      [3]                       ║  N/A   ║  N/A   ║\n",
      "║ 10 ║  lpc55s04, Revision: a1  ║     N/A     ║   N/A    ║     N/A      ║   N/A    ║    N/A    ║                      [3]                       ║  N/A   ║  N/A   ║\n",
      "║ 11 ║  lpc55s06, Revision: a1  ║     N/A     ║   N/A    ║     N/A      ║   N/A    ║    N/A    ║                      [3]                       ║  N/A   ║  N/A   ║\n",
      "║ 12 ║  lpc55s14, Revision: a1  ║     N/A     ║   N/A    ║     N/A      ║   N/A    ║    N/A    ║                      [3]                       ║  N/A   ║  N/A   ║\n",
      "║ 13 ║  lpc55s16, Revision: a1  ║     N/A     ║   N/A    ║     N/A      ║   N/A    ║    N/A    ║                      [3]                       ║  N/A   ║  N/A   ║\n",
      "║ 14 ║  lpc55s26, Revision: a0  ║     N/A     ║   N/A    ║     N/A      ║   N/A    ║    N/A    ║                      [3]                       ║  N/A   ║  N/A   ║\n",
      "║ 15 ║  lpc55s26, Revision: a1  ║     N/A     ║   N/A    ║     N/A      ║   N/A    ║    N/A    ║                      [3]                       ║  N/A   ║  N/A   ║\n",
      "║ 16 ║  lpc55s28, Revision: a0  ║     N/A     ║   N/A    ║     N/A      ║   N/A    ║    N/A    ║                      [3]                       ║  N/A   ║  N/A   ║\n",
      "║ 17 ║  lpc55s28, Revision: a1  ║     N/A     ║   N/A    ║     N/A      ║   N/A    ║    N/A    ║                      [3]                       ║  N/A   ║  N/A   ║\n",
      "║ 18 ║  lpc55s36, Revision: a0  ║     Yes     ║   N/A    ║     N/A      ║   N/A    ║    N/A    ║                  [0, 1, 3, 8]                  ║  N/A   ║  N/A   ║\n",
      "║ 19 ║  lpc55s36, Revision: a1  ║     Yes     ║   N/A    ║     N/A      ║   N/A    ║    N/A    ║                  [0, 1, 3, 8]                  ║  N/A   ║  N/A   ║\n",
      "║ 20 ║  lpc55s66, Revision: a0  ║     N/A     ║   N/A    ║     N/A      ║   N/A    ║    N/A    ║                      [3]                       ║  N/A   ║  N/A   ║\n",
      "║ 21 ║  lpc55s66, Revision: a1  ║     N/A     ║   N/A    ║     N/A      ║   N/A    ║    N/A    ║                      [3]                       ║  N/A   ║  N/A   ║\n",
      "║ 22 ║  lpc55s69, Revision: a0  ║     N/A     ║   N/A    ║     N/A      ║   N/A    ║    N/A    ║                      [3]                       ║  N/A   ║  N/A   ║\n",
      "║ 23 ║  lpc55s69, Revision: a1  ║     N/A     ║   N/A    ║     N/A      ║   N/A    ║    N/A    ║                      [3]                       ║  N/A   ║  N/A   ║\n",
      "║ 24 ║  mcxn235, Revision: a0   ║     N/A     ║   N/A    ║     N/A      ║   N/A    ║    N/A    ║                      [7]                       ║  N/A   ║  N/A   ║\n",
      "║ 25 ║  mcxn236, Revision: a0   ║     N/A     ║   N/A    ║     N/A      ║   N/A    ║    N/A    ║                      [7]                       ║  N/A   ║  N/A   ║\n",
      "║ 26 ║  mcxn546, Revision: a0   ║     Yes     ║   N/A    ║     N/A      ║   N/A    ║    N/A    ║                      Yes                       ║  N/A   ║  N/A   ║\n",
      "║ 27 ║  mcxn546, Revision: a1   ║     Yes     ║   N/A    ║     N/A      ║   N/A    ║    N/A    ║                      Yes                       ║  N/A   ║  N/A   ║\n",
      "║ 28 ║  mcxn547, Revision: a0   ║     Yes     ║   N/A    ║     N/A      ║   N/A    ║    N/A    ║                      Yes                       ║  N/A   ║  N/A   ║\n",
      "║ 29 ║  mcxn547, Revision: a1   ║     Yes     ║   N/A    ║     N/A      ║   N/A    ║    N/A    ║                      Yes                       ║  N/A   ║  N/A   ║\n",
      "║ 30 ║  mcxn946, Revision: a0   ║     Yes     ║   N/A    ║     N/A      ║   N/A    ║    N/A    ║                      Yes                       ║  N/A   ║  N/A   ║\n",
      "║ 31 ║  mcxn946, Revision: a1   ║     Yes     ║   N/A    ║     N/A      ║   N/A    ║    N/A    ║                      Yes                       ║  N/A   ║  N/A   ║\n",
      "║ 32 ║  mcxn947, Revision: a0   ║     Yes     ║   N/A    ║     N/A      ║   N/A    ║    N/A    ║                      Yes                       ║  N/A   ║  N/A   ║\n",
      "║ 33 ║  mcxn947, Revision: a1   ║     Yes     ║   N/A    ║     N/A      ║   N/A    ║    N/A    ║                      Yes                       ║  N/A   ║  N/A   ║\n",
      "║ 34 ║ mimxrt1010, Revision: a0 ║     Yes     ║   N/A    ║     N/A      ║   N/A    ║    N/A    ║                      N/A                       ║  N/A   ║  N/A   ║\n",
      "║ 35 ║ mimxrt1015, Revision: a0 ║     Yes     ║   N/A    ║     Yes      ║   N/A    ║    N/A    ║                  [1, 2, 3, 4]                  ║  N/A   ║  N/A   ║\n",
      "║ 36 ║ mimxrt1020, Revision: a0 ║     Yes     ║   N/A    ║     Yes      ║   Yes    ║    Yes    ║                  [1, 2, 3, 4]                  ║ [1, 2] ║ [1, 2] ║\n",
      "║ 37 ║ mimxrt1024, Revision: a0 ║     Yes     ║   N/A    ║     Yes      ║   Yes    ║    Yes    ║                  [1, 2, 3, 4]                  ║ [1, 2] ║ [1, 2] ║\n",
      "║ 38 ║ mimxrt1040, Revision: a0 ║     Yes     ║   N/A    ║     Yes      ║   Yes    ║    Yes    ║                  [1, 2, 3, 4]                  ║ [1, 2] ║ [1, 2] ║\n",
      "║ 39 ║ mimxrt1043, Revision: a0 ║     Yes     ║   N/A    ║     Yes      ║   Yes    ║    Yes    ║                  [1, 2, 3, 4]                  ║ [1, 2] ║ [1, 2] ║\n",
      "║ 40 ║ mimxrt1046, Revision: a0 ║     Yes     ║   N/A    ║     Yes      ║   Yes    ║    Yes    ║                  [1, 2, 3, 4]                  ║ [1, 2] ║ [1, 2] ║\n",
      "║ 41 ║ mimxrt1050, Revision: a0 ║     Yes     ║   N/A    ║     Yes      ║   Yes    ║    Yes    ║                  [1, 2, 3, 4]                  ║ [1, 2] ║ [1, 2] ║\n",
      "║ 42 ║ mimxrt1060, Revision: a0 ║    [1, 2]   ║   N/A    ║     Yes      ║   Yes    ║    Yes    ║                  [1, 2, 3, 4]                  ║ [1, 2] ║ [1, 2] ║\n",
      "║ 43 ║ mimxrt1064, Revision: a0 ║     Yes     ║   N/A    ║     Yes      ║   Yes    ║    Yes    ║                  [1, 2, 3, 4]                  ║ [1, 2] ║ [1, 2] ║\n",
      "║ 44 ║ mimxrt1165, Revision: a0 ║    [1, 2]   ║   N/A    ║    [1, 2]    ║   Yes    ║    Yes    ║                  [1, 2, 3, 4]                  ║ [1, 2] ║ [1, 2] ║\n",
      "║ 45 ║ mimxrt1166, Revision: a0 ║    [1, 2]   ║   N/A    ║    [1, 2]    ║   Yes    ║    Yes    ║                  [1, 2, 3, 4]                  ║ [1, 2] ║ [1, 2] ║\n",
      "║ 46 ║ mimxrt1171, Revision: a0 ║    [1, 2]   ║   N/A    ║    [1, 2]    ║   Yes    ║    Yes    ║                  [1, 2, 3, 4]                  ║ [1, 2] ║ [1, 2] ║\n",
      "║ 47 ║ mimxrt1172, Revision: a0 ║    [1, 2]   ║   N/A    ║    [1, 2]    ║   Yes    ║    Yes    ║                  [1, 2, 3, 4]                  ║ [1, 2] ║ [1, 2] ║\n",
      "║ 48 ║ mimxrt1173, Revision: a0 ║    [1, 2]   ║   N/A    ║    [1, 2]    ║   Yes    ║    Yes    ║                  [1, 2, 3, 4]                  ║ [1, 2] ║ [1, 2] ║\n",
      "║ 49 ║ mimxrt1175, Revision: a0 ║    [1, 2]   ║   N/A    ║    [1, 2]    ║   Yes    ║    Yes    ║                  [1, 2, 3, 4]                  ║ [1, 2] ║ [1, 2] ║\n",
      "║ 50 ║ mimxrt1176, Revision: a0 ║    [1, 2]   ║   N/A    ║    [1, 2]    ║   Yes    ║    Yes    ║                  [1, 2, 3, 4]                  ║ [1, 2] ║ [1, 2] ║\n",
      "║ 51 ║ mimxrt1181, Revision: a0 ║    [1, 2]   ║   N/A    ║    [1, 2]    ║   Yes    ║    Yes    ║                  [1, 2, 4, 5]                  ║ [1, 2] ║ [1, 2] ║\n",
      "║ 52 ║ mimxrt1181, Revision: b0 ║    [1, 2]   ║   N/A    ║    [1, 2]    ║   Yes    ║    Yes    ║                  [1, 2, 4, 5]                  ║ [1, 2] ║ [1, 2] ║\n",
      "║ 53 ║ mimxrt1182, Revision: a0 ║    [1, 2]   ║   N/A    ║    [1, 2]    ║   Yes    ║    Yes    ║                  [1, 2, 4, 5]                  ║ [1, 2] ║ [1, 2] ║\n",
      "║ 54 ║ mimxrt1182, Revision: b0 ║    [1, 2]   ║   N/A    ║    [1, 2]    ║   Yes    ║    Yes    ║                  [1, 2, 4, 5]                  ║ [1, 2] ║ [1, 2] ║\n",
      "║ 55 ║ mimxrt1187, Revision: a0 ║    [1, 2]   ║   N/A    ║    [1, 2]    ║   Yes    ║    Yes    ║                  [1, 2, 4, 5]                  ║ [1, 2] ║ [1, 2] ║\n",
      "║ 56 ║ mimxrt1187, Revision: b0 ║    [1, 2]   ║   N/A    ║    [1, 2]    ║   Yes    ║    Yes    ║                  [1, 2, 4, 5]                  ║ [1, 2] ║ [1, 2] ║\n",
      "║ 57 ║ mimxrt1189, Revision: a0 ║    [1, 2]   ║   N/A    ║    [1, 2]    ║   Yes    ║    Yes    ║                  [1, 2, 4, 5]                  ║ [1, 2] ║ [1, 2] ║\n",
      "║ 58 ║ mimxrt1189, Revision: b0 ║    [1, 2]   ║   N/A    ║    [1, 2]    ║   Yes    ║    Yes    ║                  [1, 2, 4, 5]                  ║ [1, 2] ║ [1, 2] ║\n",
      "║ 59 ║ mimxrt533s, Revision: a0 ║    [0, 1]   ║   N/A    ║    [0, 1]    ║   N/A    ║    N/A    ║            [0, 1, 2, 3, 4, 5, 6, 7]            ║ [0, 1] ║ [0, 1] ║\n",
      "║ 60 ║ mimxrt533s, Revision: b0 ║    [0, 1]   ║   N/A    ║    [0, 1]    ║   N/A    ║    N/A    ║            [0, 1, 2, 3, 4, 5, 6, 7]            ║ [0, 1] ║ [0, 1] ║\n",
      "║ 61 ║ mimxrt555s, Revision: a0 ║    [0, 1]   ║   N/A    ║    [0, 1]    ║   N/A    ║    N/A    ║            [0, 1, 2, 3, 4, 5, 6, 7]            ║ [0, 1] ║ [0, 1] ║\n",
      "║ 62 ║ mimxrt555s, Revision: b0 ║    [0, 1]   ║   N/A    ║    [0, 1]    ║   N/A    ║    N/A    ║            [0, 1, 2, 3, 4, 5, 6, 7]            ║ [0, 1] ║ [0, 1] ║\n",
      "║ 63 ║ mimxrt595s, Revision: a0 ║    [0, 1]   ║   N/A    ║    [0, 1]    ║   N/A    ║    N/A    ║            [0, 1, 2, 3, 4, 5, 6, 7]            ║ [0, 1] ║ [0, 1] ║\n",
      "║ 64 ║ mimxrt595s, Revision: b0 ║    [0, 1]   ║   N/A    ║    [0, 1]    ║   N/A    ║    N/A    ║            [0, 1, 2, 3, 4, 5, 6, 7]            ║ [0, 1] ║ [0, 1] ║\n",
      "║ 65 ║ mimxrt685s, Revision: a0 ║    [0, 1]   ║   N/A    ║    [0, 1]    ║   N/A    ║    N/A    ║            [0, 1, 2, 3, 4, 5, 6, 7]            ║ [0, 1] ║ [0, 1] ║\n",
      "║ 66 ║ mimxrt685s, Revision: b0 ║    [0, 1]   ║   N/A    ║    [0, 1]    ║   N/A    ║    N/A    ║            [0, 1, 2, 3, 4, 5, 6, 7]            ║ [0, 1] ║ [0, 1] ║\n",
      "║ 67 ║ mimxrt735s, Revision: a0 ║     N/A     ║  [0, 1]  ║     N/A      ║   N/A    ║    N/A    ║ [0, 1, 2, 3, 4, 5, 6, 7, 8, 9, 10, 11, 12, 13] ║ [0, 1] ║ [0, 1] ║\n",
      "║ 68 ║ mimxrt735s, Revision: a1 ║     N/A     ║  [0, 1]  ║     N/A      ║   N/A    ║    N/A    ║ [0, 1, 2, 3, 4, 5, 6, 7, 8, 9, 10, 11, 12, 13] ║ [0, 1] ║ [0, 1] ║\n",
      "║ 69 ║ mimxrt735s, Revision: b0 ║     N/A     ║  [0, 1]  ║     N/A      ║   N/A    ║    N/A    ║ [0, 1, 2, 3, 4, 5, 6, 7, 8, 9, 10, 11, 12, 13] ║ [0, 1] ║ [0, 1] ║\n",
      "║ 70 ║ mimxrt758s, Revision: a0 ║     N/A     ║  [0, 1]  ║     N/A      ║   N/A    ║    N/A    ║ [0, 1, 2, 3, 4, 5, 6, 7, 8, 9, 10, 11, 12, 13] ║ [0, 1] ║ [0, 1] ║\n",
      "║ 71 ║ mimxrt758s, Revision: a1 ║     N/A     ║  [0, 1]  ║     N/A      ║   N/A    ║    N/A    ║ [0, 1, 2, 3, 4, 5, 6, 7, 8, 9, 10, 11, 12, 13] ║ [0, 1] ║ [0, 1] ║\n",
      "║ 72 ║ mimxrt758s, Revision: b0 ║     N/A     ║  [0, 1]  ║     N/A      ║   N/A    ║    N/A    ║ [0, 1, 2, 3, 4, 5, 6, 7, 8, 9, 10, 11, 12, 13] ║ [0, 1] ║ [0, 1] ║\n",
      "║ 73 ║ mimxrt798s, Revision: a0 ║     N/A     ║  [0, 1]  ║     N/A      ║   N/A    ║    N/A    ║ [0, 1, 2, 3, 4, 5, 6, 7, 8, 9, 10, 11, 12, 13] ║ [0, 1] ║ [0, 1] ║\n",
      "║ 74 ║ mimxrt798s, Revision: a1 ║     N/A     ║  [0, 1]  ║     N/A      ║   N/A    ║    N/A    ║ [0, 1, 2, 3, 4, 5, 6, 7, 8, 9, 10, 11, 12, 13] ║ [0, 1] ║ [0, 1] ║\n",
      "║ 75 ║ mimxrt798s, Revision: b0 ║     N/A     ║  [0, 1]  ║     N/A      ║   N/A    ║    N/A    ║ [0, 1, 2, 3, 4, 5, 6, 7, 8, 9, 10, 11, 12, 13] ║ [0, 1] ║ [0, 1] ║\n",
      "║ 76 ║   rw610, Revision: a1    ║     Yes     ║   N/A    ║     N/A      ║   N/A    ║    N/A    ║                [0, 1, 2, 3, 4]                 ║  N/A   ║  N/A   ║\n",
      "║ 77 ║   rw610, Revision: a2    ║     Yes     ║   N/A    ║     N/A      ║   N/A    ║    N/A    ║                [0, 1, 2, 3, 4]                 ║  N/A   ║  N/A   ║\n",
      "║ 78 ║   rw612, Revision: a1    ║     Yes     ║   N/A    ║     N/A      ║   N/A    ║    N/A    ║                [0, 1, 2, 3, 4]                 ║  N/A   ║  N/A   ║\n",
      "║ 79 ║   rw612, Revision: a2    ║     Yes     ║   N/A    ║     N/A      ║   N/A    ║    N/A    ║                [0, 1, 2, 3, 4]                 ║  N/A   ║  N/A   ║\n",
      "╚════╩══════════════════════════╩═════════════╩══════════╩══════════════╩══════════╩═══════════╩════════════════════════════════════════════════╩════════╩════════╝\n",
      "List of all known memory configuration option words:\n",
      "╔════╦══════╦════════════════╦══════════════╦═════════════╦════════════════════════════════════╦════════╗\n",
      "║ #  ║ Type ║      Name      ║ Manufacturer ║  Interface  ║ Option words                       ║ Tested ║\n",
      "╠════╬══════╬════════════════╬══════════════╬═════════════╬════════════════════════════════════╬════════╣\n",
      "║ 0  ║ nor  ║   W25QxxxJV    ║   Winbond    ║   quad_spi  ║ Opt0: 0xC0000007                   ║   *    ║\n",
      "║ 1  ║ nor  ║    W35T51NW    ║   Winbond    ║  octal_spi  ║ Opt0: 0xC0603005                   ║        ║\n",
      "║ 2  ║ nor  ║  MX25Uxxx32F   ║   Macronix   ║   quad_spi  ║ Opt0: 0xC0000007                   ║   *    ║\n",
      "║ 3  ║ nor  ║  MX25Lxxx45G   ║   Macronix   ║   quad_spi  ║ Opt0: 0xC0000007                   ║   *    ║\n",
      "║ 4  ║ nor  ║  MX25UMxxx45G  ║   Macronix   ║  octal_spi  ║ Opt0: 0xC0403037                   ║        ║\n",
      "║ 5  ║ nor  ║  MX66UMxxx45G  ║   Macronix   ║  octal_spi  ║ Opt0: 0xC0403037                   ║        ║\n",
      "║ 6  ║ nor  ║  MX25LMxxx45G  ║   Macronix   ║  octal_spi  ║ Opt0: 0xC0403037                   ║        ║\n",
      "║ 7  ║ nor  ║  MX25UM51345G  ║   Macronix   ║  octal_spi  ║ Opt0: 0xC0403037                   ║        ║\n",
      "║ 8  ║ nor  ║   GD25QxxxC    ║  GigaDevice  ║   quad_spi  ║ Opt0: 0xC0000406                   ║        ║\n",
      "║ 9  ║ nor  ║   GD25LBxxxE   ║  GigaDevice  ║   quad_spi  ║ Opt0: 0xC0000007                   ║        ║\n",
      "║ 10 ║ nor  ║   GD25LTxxxE   ║  GigaDevice  ║   quad_spi  ║ Opt0: 0xC0000008                   ║        ║\n",
      "║ 11 ║ nor  ║   GD25LXxxxE   ║  GigaDevice  ║   quad_spi  ║ Opt0: 0xC0603008                   ║        ║\n",
      "║ 12 ║ nor  ║   IS25LPxxxA   ║     ISSI     ║   quad_spi  ║ Opt0: 0xC0000007                   ║        ║\n",
      "║ 13 ║ nor  ║   IS25WPxxxA   ║     ISSI     ║   quad_spi  ║ Opt0: 0xC0000007                   ║        ║\n",
      "║ 14 ║ nor  ║   IS25LXxxx    ║     ISSI     ║  octal_spi  ║ Opt0: 0xC0603005                   ║        ║\n",
      "║ 15 ║ nor  ║   IS25WXxxx    ║     ISSI     ║  octal_spi  ║ Opt0: 0xC0603005                   ║        ║\n",
      "║ 16 ║ nor  ║   IS26KSxxxS   ║     ISSI     ║ hyper_flash ║ Opt0: 0xC0233007                   ║        ║\n",
      "║ 17 ║ nor  ║   IS26KLxxxS   ║     ISSI     ║ hyper_flash ║ Opt0: 0xC0233007                   ║        ║\n",
      "║ 18 ║ nor  ║   MT25QLxxxA   ║    Micron    ║   quad_spi  ║ Opt0: 0xC0000007                   ║        ║\n",
      "║ 19 ║ nor  ║ MT35XUxxxABA1G ║    Micron    ║  octal_spi  ║ Opt0: 0xC0703005                   ║        ║\n",
      "║ 20 ║ nor  ║ MT35XUxxxABA2G ║    Micron    ║  octal_spi  ║ Opt0: 0xC0633005                   ║   *    ║\n",
      "║ 21 ║ nor  ║  MT28EW128ABA  ║    Micron    ║   parallel  ║ Opt0: 0xD0000600                   ║        ║\n",
      "║ 22 ║ nor  ║  MT28UG128ABA  ║    Micron    ║   parallel  ║ Opt0: 0xD0000601                   ║        ║\n",
      "║ 23 ║ nor  ║   AT25SFxxxA   ║    Adesto    ║   quad_spi  ║ Opt0: 0xC0000007                   ║        ║\n",
      "║ 24 ║ nor  ║    ATXPxxx     ║    Adesto    ║  octal_spi  ║ Opt0: 0xC0803007                   ║        ║\n",
      "║ 25 ║ nor  ║   S25FSxxxS    ║   Cypress    ║   quad_spi  ║ Opt0: 0xC0000007                   ║        ║\n",
      "║ 26 ║ nor  ║   S25FLxxxS    ║   Cypress    ║   quad_spi  ║ Opt0: 0xC0000007                   ║        ║\n",
      "║ 27 ║ nor  ║   S26KSxxxS    ║   Cypress    ║ hyper_flash ║ Opt0: 0xC0233007                   ║        ║\n",
      "║ 28 ║ nor  ║   S26KLxxxS    ║   Cypress    ║ hyper_flash ║ Opt0: 0xC0233007                   ║        ║\n",
      "║ 29 ║ nor  ║  SST26VFxxxB   ║  Microchip   ║   quad_spi  ║ Opt0: 0xC0000005                   ║        ║\n",
      "║ 30 ║ nor  ║    FM25Qxxx    ║  FudanMicro  ║   quad_spi  ║ Opt0: 0xC0000205                   ║        ║\n",
      "║ 31 ║ nor  ║   BY25QxxxBS   ║  BoyaMicro   ║   quad_spi  ║ Opt0: 0xC0000405                   ║        ║\n",
      "║ 32 ║ nor  ║   XM25QHxxxB   ║     XMC      ║   quad_spi  ║ Opt0: 0xC0000007                   ║        ║\n",
      "║ 33 ║ nor  ║   XM25QUxxxB   ║     XMC      ║   quad_spi  ║ Opt0: 0xC0000007                   ║        ║\n",
      "║ 34 ║ nor  ║    X25FxxxB    ║   XTXtech    ║   quad_spi  ║ Opt0: 0xC0000407                   ║        ║\n",
      "║ 35 ║ nor  ║    X25QxxxD    ║   XTXtech    ║   quad_spi  ║ Opt0: 0xC0000407                   ║        ║\n",
      "║ 36 ║ nor  ║   P25QxxxLE    ║     Puya     ║   quad_spi  ║ Opt0: 0xC0000405                   ║        ║\n",
      "║ 37 ║ nor  ║    P25QxxxH    ║     Puya     ║   quad_spi  ║ Opt0: 0xC0000405                   ║        ║\n",
      "║ 38 ║ nor  ║    P25QxxxU    ║     Puya     ║   quad_spi  ║ Opt0: 0xC0000405                   ║        ║\n",
      "║ 39 ║ nor  ║    A25LQxxx    ║     AMIC     ║   quad_spi  ║ Opt0: 0xC0000105                   ║        ║\n",
      "╠════╬══════╬════════════════╬══════════════╬═════════════╬════════════════════════════════════╬════════╣\n",
      "║ 40 ║ nand ║    W25N01G     ║   Winbond    ║   quad_spi  ║ Opt0: 0xC1010026, Opt1: 0x000000EF ║        ║\n",
      "║ 41 ║ nand ║    W25N02K     ║   Winbond    ║   quad_spi  ║ Opt0: 0xC1020026, Opt1: 0x000000EF ║        ║\n",
      "║ 42 ║ nand ║    MX35UF1G    ║   Macronix   ║   quad_spi  ║ Opt0: 0xC1010026, Opt1: 0x000000C2 ║        ║\n",
      "║ 43 ║ nand ║    MX35LF1G    ║   Macronix   ║   quad_spi  ║ Opt0: 0xC1010026, Opt1: 0x000000C2 ║        ║\n",
      "║ 44 ║ nand ║    MX35UF2G    ║   Macronix   ║   quad_spi  ║ Opt0: 0xC1020026, Opt1: 0x000000C2 ║        ║\n",
      "║ 45 ║ nand ║    MX35LF2G    ║   Macronix   ║   quad_spi  ║ Opt0: 0xC1020026, Opt1: 0x000000C2 ║        ║\n",
      "║ 46 ║ nand ║    GD5F1GQ5    ║  GigaDevice  ║   quad_spi  ║ Opt0: 0xC1010026, Opt1: 0x000000C8 ║        ║\n",
      "║ 47 ║ nand ║    GD5F2GQ5    ║  GigaDevice  ║   quad_spi  ║ Opt0: 0xC1020026, Opt1: 0x000000C8 ║        ║\n",
      "║ 48 ║ nand ║  MT29F1G01AA   ║    Micron    ║   quad_spi  ║ Opt0: 0xC1011022, Opt1: 0x0000002C ║        ║\n",
      "║ 49 ║ nand ║  MT29F2G01AA   ║    Micron    ║   quad_spi  ║ Opt0: 0xC1021022, Opt1: 0x0000002C ║        ║\n",
      "║ 50 ║ nand ║    PN26Q01A    ║   Paragon    ║   quad_spi  ║ Opt0: 0xC1010026, Opt1: 0x000000A1 ║        ║\n",
      "║ 51 ║ nand ║    PN26G01A    ║   Paragon    ║   quad_spi  ║ Opt0: 0xC1010026, Opt1: 0x000000A1 ║        ║\n",
      "║ 52 ║ nand ║    PN26Q02A    ║   Paragon    ║   quad_spi  ║ Opt0: 0xC1020026, Opt1: 0x000000A1 ║        ║\n",
      "║ 53 ║ nand ║    PN26G02A    ║   Paragon    ║   quad_spi  ║ Opt0: 0xC1020026, Opt1: 0x000000A1 ║        ║\n",
      "╠════╬══════╬════════════════╬══════════════╬═════════════╬════════════════════════════════════╬════════╣\n",
      "║ 54 ║  sd  ║   1bit_sdr12   ║   General    ║  instance_0 ║ Opt0: 0xD0000000                   ║        ║\n",
      "║ 55 ║  sd  ║   1bit_sdr12   ║   General    ║  instance_1 ║ Opt0: 0xD0000001                   ║        ║\n",
      "║ 56 ║  sd  ║   1bit_sdr12   ║   General    ║  instance_2 ║ Opt0: 0xD0000002                   ║        ║\n",
      "║ 57 ║  sd  ║   1bit_sdr12   ║   General    ║  instance_3 ║ Opt0: 0xD0000003                   ║        ║\n",
      "╚════╩══════╩════════════════╩══════════════╩═════════════╩════════════════════════════════════╩════════╝\n",
      "\n"
     ]
    }
   ],
   "source": [
    "# Print out all supported memories\n",
    "%! nxpmemcfg family-info"
   ]
  },
  {
   "cell_type": "code",
   "execution_count": 8,
   "metadata": {
    "execute_cell": false
   },
   "outputs": [
    {
     "name": "stdout",
     "output_type": "stream",
     "text": [
      "nxpmemcfg blhost-script \n",
      "\n",
      "Help for nested command: 'blhost-script'\n",
      "Command Hierarchy: nxpmemcfg ▶ blhost-script\n",
      "\n",
      "────────────────────── Root command (nxpmemcfg) help ──────────────────────\n",
      "\n",
      "Options:\n",
      "  -v, --verbose  Print more detailed information\n",
      "  -vv, --debug   Display more debugging information.\n",
      "  --version      Show the version and exit.\n",
      "  --help         Show this message and exit.\n",
      "\n",
      "─────────────────────── Command (blhost-script) help ───────────────────────\n",
      "Export the configuration option words to blhost script.\n",
      "Usage: nxpmemcfg blhost-script [OPTIONS]\n",
      "\n",
      "Options:\n",
      "  Known chip select. Alternative to known chip is YAML configuration '-c': [all_or_none]\n",
      "    -f, --family [mimxrt798s|mimxrt595s|mimxrt1172|mimxrt1046..., and more. Use 'get-families' command to show all.]\n",
      "                                  Select the chip family.\n",
      "    -p, --peripheral [flexspi_nor|xspi_nor|flexspi_nand|semc_nor|semc_nand|spi_nor|mmc|sd]\n",
      "                                  Choose the peripheral of the input option\n",
      "                                  words\n",
      "    -m, --memory-chip TEXT        Select supported memory chip name. Use\n",
      "                                  family-info command to get the known names.\n",
      "    -i, --interface TEXT          Select supported memory chip interface. Use\n",
      "                                  family-info command to get the known\n",
      "                                  interfaces.\n",
      "  -oc, --override-config key_path=value\n",
      "                                  Allows override the individual configuration\n",
      "                                  settings. The use is simple:\n",
      "                                  'key_path=value', like 'family=mimxrt595s'\n",
      "                                  or in structural configuration with\n",
      "                                  separating character '/' like 'containers/0/\n",
      "                                  binary_container=my_container.bin'. It could\n",
      "                                  be used multiple times.\n",
      "  -c, --config FILE               Option word configuration YAML file, in case\n",
      "                                  that known chip has not been used\n",
      "  -ix, --instance INTEGER         Instance of peripheral if applicable\n",
      "  --fcb PATH                      Optional filename of FCB block generated by\n",
      "                                  HW and read back to PC. Be aware that script\n",
      "                                  will contain also erase of 4KB on base\n",
      "                                  address.\n",
      "  --secure-addresses              If defined, the secure address will be used\n",
      "                                  in case of generating FCB block.\n",
      "  -o, --output FILE               Name of BLHOST script. If not specified, the\n",
      "                                  script will be printed to command line\n",
      "  --force                         Force overwriting of existing files.\n",
      "  --help                          Show this message and exit.\n"
     ]
    }
   ],
   "source": [
    "# How to use the blhost-script\n",
    "%! nxpmemcfg blhost-script"
   ]
  },
  {
   "cell_type": "code",
   "execution_count": 13,
   "metadata": {
    "code_inject": [
     [
      "-ix 1",
      "-ix 2"
     ]
    ]
   },
   "outputs": [
    {
     "name": "stdout",
     "output_type": "stream",
     "text": [
      "nxpmemcfg blhost-script -f mimxrt1189 -m W25QxxxJV -i quad_spi -p flexspi_nor -ix 1 -o workspace/config_mem.bls --force --fcb workspace/fcb.bin \n",
      "Loaded option words: Opt0: 0xC0000007\n",
      "\u001b[33mWARNING:spsdk.memcfg.memcfg:FCB block read back script has been generated. Be aware that s 4KB block at base address will be erased to avoid cumulative write! (712ms since start, memcfg.py:470)\u001b[39m\n",
      "Exported blhost script.\n"
     ]
    }
   ],
   "source": [
    "# Generate script to configure FlexSPI interface for the specific memory and extract FCB.\n",
    "%! nxpmemcfg blhost-script -f mimxrt1189 -m W25QxxxJV -i quad_spi -p flexspi_nor -ix 1 -o $CFG_MEM_FILE --force --fcb $FCB_FILE\n",
    "\n",
    "assert os.path.exists(CFG_MEM_FILE)"
   ]
  },
  {
   "cell_type": "markdown",
   "metadata": {},
   "source": [
    "### EVK Board Overview\n",
    "#### The following picture describes connector placement of RT1180 EVK.\n",
    "![Signing key and used SRK definition](img/evk-1.png \"signing key\")\n",
    "\n",
    "#### Serial Downloader Protocol Mode:\n",
    "\n",
    "Configure Boot Mode Switch to : 1/2/3-OFF, 4-ON\\\n",
    "Connect micro USB cable into USB OTG1         - J33\\\n",
    "Connect micro USB cable into Debug USB Port   - J53\n",
    "\n",
    "#### Internal Boot Mode:\n",
    "\n",
    "Configure Boot Mode Switch to :1-OFF, 2-ON, 3-OFF, 4-OFF\\\n",
    "Connect micro USB cable into Debug USB Port - J53"
   ]
  },
  {
   "cell_type": "code",
   "execution_count": 16,
   "metadata": {},
   "outputs": [
    {
     "name": "stdout",
     "output_type": "stream",
     "text": [
      "blhost  -u 0x1fc9,0x014c get-property 1 \n",
      "Response status = 0 (0x0) Success.\n",
      "Response word 1 = 1258487809 (0x4b030001)\n",
      "Current Version = K3.0.1\n",
      "blhost  -u 0x1fc9,0x014c load-image ../rt118x_signed_flashloader/workspace/flashloader.bin \n",
      "Loading image\n",
      "Response status = 0 (0x0) Success.\n"
     ]
    }
   ],
   "source": [
    "# The board must be in SDP mode\n",
    "# Configure Boot Mode Switch to : 1/2/3-OFF, 4-ON\n",
    "# Connect micro USB cable into USB OTG1         - J33\n",
    "# Connect micro USB cable into Debug USB Port   - J53\n",
    "\n",
    "# Parameters for BLHOST. USB PID/VID for ROM Flashloader and NXP Flashloader\n",
    "\n",
    "COMPAR = \"-u\"  # USB\n",
    "BLHOST_CONNECT_ROM = \"0x1fc9,0x014c\"  # PID/VID of ROM\n",
    "BLHOST_CONNECT_FLDR = \"0x15A2,0x0073\"  # PID/VID of NXP Flashloader\n",
    "\n",
    "# To use tha UART compar parameter must be change, COMxx must be replaced by the name of your COM port, 115200 is default baudrate.\n",
    "# compar=\"-p\"                                                           # UART\n",
    "# BLHOST_CONNECT_ROM=\"COMxx,115200\"                                     # COM port, baudrate\n",
    "# BLHOST_CONNECT_FLDR=\"COMxx,115200\"                                    # COM port, baudrate\n",
    "\n",
    "assert os.path.exists(FLASHLOADER_FILE)\n",
    "\n",
    "# Load flashloader\n",
    "%! blhost $VERBOSITY $COMPAR $BLHOST_CONNECT_ROM get-property 1\n",
    "%! blhost $VERBOSITY $COMPAR $BLHOST_CONNECT_ROM load-image $FLASHLOADER_FILE"
   ]
  },
  {
   "cell_type": "code",
   "execution_count": 17,
   "metadata": {},
   "outputs": [
    {
     "name": "stdout",
     "output_type": "stream",
     "text": [
      "blhost  -u 0x15A2,0x0073 get-property 7 \n",
      "Response status = 0 (0x0) Success.\n",
      "Response word 1 = 25530335 (0x1858fdf)\n",
      "Available Commands = ['FlashEraseAll', 'FlashEraseRegion', 'ReadMemory', 'WriteMemory', 'FillMemory', 'GetProperty', 'ReceiveSBFile', 'Execute', 'Call', 'Reset', 'SetProperty', 'FlashReadResource', 'ConfigureMemory', 'GenerateKeyBlob', 'UpdateLifeCycle', 'EleMessage']\n",
      "blhost  -u 0x15A2,0x0073 get-property 1 \n",
      "Response status = 0 (0x0) Success.\n",
      "Response word 1 = 1258424320 (0x4b020800)\n",
      "Current Version = K2.8.0\n",
      "blhost -u 0x15A2,0x0073 batch workspace/config_mem.bls \n",
      "Response status = 0 (0x0) Success.\n",
      "Response status = 0 (0x0) Success.\n",
      "Response status = 0 (0x0) Success.\n",
      "Response status = 0 (0x0) Success.\n",
      "Response status = 0 (0x0) Success.\n",
      "Response status = 0 (0x0) Success.\n",
      "Response status = 0 (0x0) Success.\n",
      "Reading memory\n",
      "Response status = 0 (0x0) Success.\n",
      "Response word 1 = 512 (0x200)\n",
      "Read 512 of 512 bytes.\n",
      "blhost -u 0x15A2,0x0073 list-memory \n",
      "Internal Flash:\n",
      "Internal RAM:\n",
      "    Region 0: 0x1FFE0000 - 0x1FFFFFFF; Total Size: 128.0 kiB\n",
      "External Memories:\n",
      "SEMC-NAND:\n",
      "  Not Configured\n",
      "SPI-NAND:\n",
      "  Not Configured\n",
      "SD:\n",
      "  Not Configured\n",
      "MMC:\n",
      "  Not Configured\n",
      "FLEX-SPI-NOR:\n",
      "  Start Address = 0x04000000  Total Size = 16.0 MiB  Page Size = 256  Sector Size = 4096  Block Size = 65536 \n",
      "SPI-MEM:\n",
      "  Not Configured\n"
     ]
    }
   ],
   "source": [
    "# Ping the RT1180\n",
    "%! blhost $VERBOSITY $COMPAR $BLHOST_CONNECT_FLDR get-property 7\n",
    "# Ping the RT1180\n",
    "%! blhost $VERBOSITY $COMPAR $BLHOST_CONNECT_FLDR get-property 1\n",
    "\n",
    "# Execute the commands generated by \"blhost-script\". This script will configure flash,\n",
    "# program FCB into the external memory and reads back the binary data. Be aware tha erase of the first sector must be done.\n",
    "# The script can be executed only once to read FCB.\n",
    "%! blhost $COMPAR $BLHOST_CONNECT_FLDR batch $CFG_MEM_FILE\n",
    "%! blhost $COMPAR $BLHOST_CONNECT_FLDR list-memory\n",
    "\n",
    "assert os.path.exists(FCB_FILE)"
   ]
  },
  {
   "cell_type": "markdown",
   "metadata": {},
   "source": [
    "### 5.1 Create the bootable image"
   ]
  },
  {
   "cell_type": "code",
   "execution_count": 9,
   "metadata": {},
   "outputs": [
    {
     "name": "stdout",
     "output_type": "stream",
     "text": [
      "nxpimage bootable-image get-templates -f mimxrt1189 -o workspace --force \n",
      "Creating workspace/bootimg_mimxrt1189_serial_downloader.yaml template file.\n",
      "Creating workspace/bootimg_mimxrt1189_flexspi_nor.yaml template file.\n",
      "Creating workspace/bootimg_mimxrt1189_flexspi_nand.yaml template file.\n",
      "Creating workspace/bootimg_mimxrt1189_semc_nand.yaml template file.\n",
      "Creating workspace/bootimg_mimxrt1189_emmc.yaml template file.\n",
      "Creating workspace/bootimg_mimxrt1189_sd.yaml template file.\n"
     ]
    },
    {
     "data": {
      "text/html": [
       "\n",
       "            \n",
       "            <style>\n",
       "                .yaml-diff { font-family: monospace; background-color: #f0f0f0; padding: 1em; border: 1px solid #c0c0c0; }\n",
       "                .yaml-key { color: #0000CC; font-weight: bold; }\n",
       "                .yaml-value { color: #006600; }\n",
       "                .yaml-commented-line { color: #008800; }\n",
       "                .yaml-list-item { color: #660066; }\n",
       "                .diff-removed { background-color: #ffaaaa; }\n",
       "                .diff-added { background-color: #aaffaa; }\n",
       "                .yaml-comment {\n",
       "                    background-color: #FF8C00;\n",
       "                    color: #000000;\n",
       "                    border-radius: 50%;\n",
       "                    padding: 0 0.3em;\n",
       "                    margin-left: 0.5em;\n",
       "                    font-size: 0.8em;\n",
       "                    cursor: help;\n",
       "                    font-weight: bold;\n",
       "                    text-shadow: 1px 1px 1px rgba(255, 255, 255, 0.7);\n",
       "                }\n",
       "                #toggleButton_4b27048bfba775d688bdf2dea2243bec {\n",
       "                    background-color: #4CAF50;\n",
       "                    border: none;\n",
       "                    color: white;\n",
       "                    padding: 10px 20px;\n",
       "                    text-align: center;\n",
       "                    text-decoration: none;\n",
       "                    display: inline-block;\n",
       "                    font-size: 16px;\n",
       "                    margin: 4px 2px;\n",
       "                    cursor: pointer;\n",
       "                }\n",
       "            </style>\n",
       "            \n",
       "            \n",
       "            <script>\n",
       "            function toggleView_4b27048bfba775d688bdf2dea2243bec() {\n",
       "                var diffView = document.getElementById('diffView_4b27048bfba775d688bdf2dea2243bec');\n",
       "                var userConfigView = document.getElementById('userConfigView_4b27048bfba775d688bdf2dea2243bec');\n",
       "                var button = document.getElementById('toggleButton_4b27048bfba775d688bdf2dea2243bec');\n",
       "\n",
       "                if (diffView.style.display === 'none' && userConfigView.style.display === 'none') {\n",
       "                    diffView.style.display = 'block';\n",
       "                    userConfigView.style.display = 'none';\n",
       "                    button.textContent = 'Show User Config';\n",
       "                } else if (diffView.style.display === 'block') {\n",
       "                    diffView.style.display = 'none';\n",
       "                    userConfigView.style.display = 'block';\n",
       "                    button.textContent = 'Hide';\n",
       "                } else {\n",
       "                    diffView.style.display = 'none';\n",
       "                    userConfigView.style.display = 'none';\n",
       "                    button.textContent = 'Show Diff';\n",
       "                }\n",
       "            }\n",
       "            </script>\n",
       "            \n",
       "            <div class=\"yaml-diff-container\">\n",
       "            <h3>Configuration Differences</h3>\n",
       "            <button onclick=\"toggleView_4b27048bfba775d688bdf2dea2243bec()\" id=\"toggleButton_4b27048bfba775d688bdf2dea2243bec\">Show Diff</button>\n",
       "            \n",
       "            <a href=\"data:text/plain;base64,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\" download=\"user_config.yaml\">\n",
       "                <button style=\"background-color: #4CAF50; border: none; color: white; padding: 10px 20px; text-align: center; text-decoration: none; display: inline-block; font-size: 16px; margin: 4px 2px; cursor: pointer;\">\n",
       "                    Download Config\n",
       "                </button>\n",
       "            </a>\n",
       "            \n",
       "            <div id=\"diffView_4b27048bfba775d688bdf2dea2243bec\" class=\"yaml-diff\" style=\"display:none;\"><pre class=\"yaml-diff\"><span class=\"yaml-commented-line\"># ===================  Bootable Image Configuration for mimxrt1189, Revision: latest / Flexspi NOR.  ===================</span><br><br><span class=\"yaml-commented-line\"># ======================================================================================================================</span><br><span class=\"yaml-commented-line\">#                                                 == General Options ==                                                 </span><br><span class=\"yaml-commented-line\"># ======================================================================================================================</span><br><span class=\"yaml-commented-line\"># -------------------------------------===== The chip family name [Required] =====--------------------------------------</span><br><span class=\"yaml-commented-line\"># Description: NXP chip family identifier.</span><br><span class=\"yaml-key\">family</span>: <span class=\"yaml-value\">mimxrt1189</span><br><span class=\"yaml-commented-line\"># -----------------------------------------===== MCU revision [Optional] =====------------------------------------------</span><br><span class=\"yaml-commented-line\"># Description: Revision of silicon. The 'latest' name, means most current revision.</span><br><span class=\"yaml-commented-line\"># Possible options: <a0, b0, latest></span><br><span class=\"yaml-key\">revision</span>: <span class=\"yaml-value\">latest</span><br><span class=\"yaml-commented-line\"># ------------------------------------------===== Memory type [Required] =====------------------------------------------</span><br><span class=\"yaml-commented-line\"># Description: Specify type of memory used by bootable image description.</span><br><span class=\"yaml-key\">memory_type</span>: <span class=\"yaml-value\">flexspi_nor</span><br><span class=\"yaml-commented-line\"># ----------------------------------------===== Initial segment [Optional] =====----------------------------------------</span><br><span class=\"yaml-commented-line\"># Description: The segment name or the index of initial segment in exported image</span><br><span class=\"diff-removed\"><span class=\"yaml-key\">init_offset</span>: <span class=\"yaml-value\">0</span></span><br><span class=\"yaml-commented-line\"># -------------------------------===== Path to directory for post export [Optional] =====-------------------------------</span><br><span class=\"yaml-commented-line\"># Description: Path to directory where post export artifacts like fuse scripts, keyblobs etc. will be exported</span><br><span class=\"diff-removed\"><span class=\"yaml-key\">post_export</span>: <span class=\"yaml-value\">output</span></span><br><span class=\"yaml-commented-line\"># ======================================================================================================================</span><br><span class=\"yaml-commented-line\">#                                           == Bootable Segments definition ==                                          </span><br><span class=\"yaml-commented-line\"># ======================================================================================================================</span><br><span class=\"yaml-commented-line\"># --------------------------------------===== Key Blob block path [Optional] =====--------------------------------------</span><br><span class=\"yaml-commented-line\"># Description: Key blob block path</span><br><span class=\"diff-removed\"><span class=\"yaml-key\">keyblob</span>: <span class=\"yaml-value\">keyblob.bin</span></span><br><span class=\"yaml-commented-line\"># ----------------------------------------===== FCB block path [Optional] =====-----------------------------------------</span><br><span class=\"yaml-commented-line\"># Description: Flash Configuration block Image path. It could be used as pre-prepared binary form of FCB and also YAML</span><br><span class=\"yaml-commented-line\"># configuration file for FCB. In case that YAML configuration file is used, the Bootable image tool build the FCB</span><br><span class=\"yaml-commented-line\"># itself.</span><br><span class=\"diff-added\"><span class=\"yaml-key\">fcb</span>: <span class=\"yaml-value\">workspace/fcb.bin</span></span><br><span class=\"diff-removed\"><span class=\"yaml-key\">fcb</span>: <span class=\"yaml-value\">fcb.bin</span> <span style=\"background-color: #FFFF00; border-radius: 5px; padding: 2px 6px; margin-\n",
       "left: 5px; font-size: 0.8em;\">Path to FCB block</span></span><br><span class=\"yaml-commented-line\"># ----------------------------------------===== XMCD block path [Optional] =====----------------------------------------</span><br><span class=\"yaml-commented-line\"># Description: External Memory Configuration Data Segment Image path. It could be used as pre-prepared binary form of</span><br><span class=\"yaml-commented-line\"># XMCD and also YAML configuration file for XMCD. In case that YAML configuration file is used, the Bootable image tool</span><br><span class=\"yaml-commented-line\"># build the XMCD itself.</span><br><span class=\"diff-removed\"><span class=\"yaml-key\">xmcd</span>: <span class=\"yaml-value\">xmcd.bin</span> <span style=\"background-color: #FFFF00; border-radius: 5px; padding: 2px 6px;\n",
       "margin-left: 5px; font-size: 0.8em;\">XMCD is not necessary for this configuration</span></span><br><span class=\"yaml-commented-line\"># ======================================================================================================================</span><br><span class=\"yaml-commented-line\">#                                          == Executable Segment definition ==                                          </span><br><span class=\"yaml-commented-line\"># ======================================================================================================================</span><br><span class=\"yaml-commented-line\"># ----------------------------------------===== AHAB container [Optional] =====-----------------------------------------</span><br><span class=\"yaml-commented-line\"># Description: AHAB container image path. It could be used as pre-prepared binary form of AHAB and also YAML</span><br><span class=\"yaml-commented-line\"># configuration file for AHAB. In case that YAML configuration file is used, the Bootable image tool build the AHAB</span><br><span class=\"yaml-commented-line\"># itself.</span><br><span class=\"diff-removed\"><span class=\"yaml-key\">ahab_container</span>: <span class=\"yaml-value\">ahab_container.yaml</span> <span style=\"background-color: #FFFF00; border-radius: 5px;\n",
       "padding: 2px 6px; margin-left: 5px; font-size: 0.8em;\">Path to AHAB container</span></span><br><span class=\"diff-added\"><span class=\"yaml-key\">ahab_container</span>: <span class=\"yaml-value\">workspace/signed_ahab.bin</span></span><br></pre></div>\n",
       "            <div id=\"userConfigView_4b27048bfba775d688bdf2dea2243bec\" class=\"yaml-diff\" style=\"display:none;\"><pre class=\"yaml-diff\"><span class=\"yaml-commented-line\"># Copyright 2024 NXP</span><br><span class=\"yaml-commented-line\">#</span><br><span class=\"yaml-commented-line\"># SPDX-License-Identifier: BSD-3-Clause</span><br><span class=\"yaml-commented-line\"># ================================  Bootable Image Configuration template for mimxrt1189.  =================================</span><br><br><span class=\"yaml-commented-line\"># ======================================================================================================================</span><br><span class=\"yaml-commented-line\">#                                                 == General Options ==</span><br><span class=\"yaml-commented-line\"># ======================================================================================================================</span><br><span class=\"yaml-commented-line\"># ------------------------------------------===== MCU family [Required] =====-------------------------------------------</span><br><span class=\"yaml-commented-line\"># Description: MCU family name.</span><br><span class=\"yaml-commented-line\"># Possible options: <lpc55s36, mimxrt1010, mimxrt1024, mimxrt1040, mimxrt1050, mimxrt1064, mimxrt1166, mimxrt1176, mimxrt1189, mimxrt595s, mimxrt685s, rw612></span><br><span class=\"yaml-key\">family</span>: <span class=\"yaml-value\">mimxrt1189</span><br><span class=\"yaml-commented-line\"># -------------------------------------===== Chip silicon revision [Optional] =====-------------------------------------</span><br><span class=\"yaml-commented-line\"># Description: If needed this could be used to specify silicon revision of device.</span><br><span class=\"yaml-commented-line\"># Possible options: <a0, b0, latest></span><br><span class=\"yaml-key\">revision</span>: <span class=\"yaml-value\">latest</span><br><span class=\"yaml-commented-line\"># ------------------------------------------===== Memory type [Required] =====------------------------------------------</span><br><span class=\"yaml-commented-line\"># Description: Specify type of memory used by bootable image description.</span><br><span class=\"yaml-commented-line\"># Possible options: <serial_downloader, flexspi_nor, flexspi_nand, semc_nand></span><br><span class=\"yaml-key\">memory_type</span>: <span class=\"yaml-value\">flexspi_nor</span><br><span class=\"yaml-commented-line\"># ----------------------------------------===== FCB block path [Optional] =====-----------------------------------------</span><br><span class=\"yaml-commented-line\"># Description: Flash Configuration block Image path. It could be used as pre-prepared binary form of FCB and also YAML</span><br><span class=\"yaml-commented-line\"># configuration file for FCB. In case that YAML configuration file is used, the Bootable image tool build the FCB</span><br><span class=\"yaml-commented-line\"># itself.</span><br><span class=\"yaml-key\">fcb</span>: <span class=\"yaml-value\">workspace/fcb.bin</span> <span style=\"background-color: #FFFF00; border-radius: 5px; padding: 2px\n",
       "6px; margin-left: 5px; font-size: 0.8em;\">Path to FCB block</span><br><span class=\"yaml-commented-line\"># ======================================================================================================================</span><br><span class=\"yaml-commented-line\">#                                          == Executable Segment definition ==</span><br><span class=\"yaml-commented-line\"># ======================================================================================================================</span><br><span class=\"yaml-commented-line\"># ----------------------------------------===== AHAB container [Required] =====-----------------------------------------</span><br><span class=\"yaml-commented-line\"># Description: AHAB container image path. It could be used as pre-prepared binary form of AHAB and also YAML</span><br><span class=\"yaml-commented-line\"># configuration file for AHAB. In case that YAML configuration file is used, the Bootable image tool build the AHAB</span><br><span class=\"yaml-commented-line\"># itself.</span><br><span class=\"yaml-key\">ahab_container</span>: <span class=\"yaml-value\">workspace/signed_ahab.bin</span> <span style=\"background-color: #FFFF00; border-radius:\n",
       "5px; padding: 2px 6px; margin-left: 5px; font-size: 0.8em;\">Path to AHAB container</span><br></pre></div>\n",
       "            </div>\n",
       "            "
      ],
      "text/plain": [
       "<IPython.core.display.HTML object>"
      ]
     },
     "execution_count": 9,
     "metadata": {},
     "output_type": "execute_result"
    }
   ],
   "source": [
    "YamlDiffWidget(\"inputs/rt118x_secure_boot_bimg.diffc\").html"
   ]
  },
  {
   "cell_type": "markdown",
   "metadata": {},
   "source": [
    "Export the final bootable image"
   ]
  },
  {
   "cell_type": "code",
   "execution_count": 18,
   "metadata": {},
   "outputs": [
    {
     "name": "stdout",
     "output_type": "stream",
     "text": [
      "nxpimage  bootable-image export -c inputs/bootimg_rt118x_flexspi_nor.yaml -o workspace/bootable_img.bin \n",
      "Success. (Bootable Image: workspace/bootable_img.bin created) \n"
     ]
    }
   ],
   "source": [
    "# Export bootable image\n",
    "%! nxpimage $VERBOSITY bootable-image export -c $BIMG_FILE -o $BOOTABLE_IMAGE\n",
    "\n",
    "# Assert os.path.exists(BOOTABLE_IMAGE)\n",
    "assert os.path.isfile(BOOTABLE_IMAGE)"
   ]
  },
  {
   "cell_type": "markdown",
   "metadata": {},
   "source": [
    "### 5.2 Program the image into external memory"
   ]
  },
  {
   "cell_type": "code",
   "execution_count": 19,
   "metadata": {
    "code_inject": [
     [
      "FLASH_ADDRESS = \"0x28000000\"",
      "FLASH_ADDRESS = \"0x04000000\""
     ]
    ]
   },
   "outputs": [
    {
     "name": "stdout",
     "output_type": "stream",
     "text": [
      "blhost -u 0x15A2,0x0073 flash-erase-region 0x28000000 0x50000 \n",
      "Response status = 0 (0x0) Success.\n",
      "blhost -u 0x15A2,0x0073 write-memory 0x28000000 workspace/bootable_img.bin \n",
      "Writing memory\n",
      "Response status = 0 (0x0) Success.\n",
      "Response word 1 = 61440 (0xf000)\n"
     ]
    }
   ],
   "source": [
    "# Base address of FlexSPI 1\n",
    "FLASH_ADDRESS = \"0x28000000\"\n",
    "# FLASH_ADDRESS = \"0x38000000\"  # Secure alias\n",
    "\n",
    "# Base address of FlexSPI 2\n",
    "# FLASH_ADDRESS = \"0x04000000\"\n",
    "\n",
    "# Size of external memory to erase\n",
    "ERASE_SIZE = \"0x50000\"\n",
    "\n",
    "# Erase flash\n",
    "%! blhost $VERBOSITY $COMPAR $BLHOST_CONNECT_FLDR flash-erase-region $FLASH_ADDRESS $ERASE_SIZE\n",
    "# Write image - 0x38000000\n",
    "%! blhost $VERBOSITY $COMPAR $BLHOST_CONNECT_FLDR write-memory $FLASH_ADDRESS $BOOTABLE_IMAGE\n",
    "\n",
    "# Switch the board into internal boot and reset.\n",
    "\n",
    "# Configure Boot Mode Switch to :1-OFF, 2-ON, 3-OFF, 4-OFF\n",
    "# Connect micro USB cable into Debug USB Port - J53\n",
    "# Open Serial Terminal (115200)\n",
    "# Reset the board\n",
    "\n",
    "# The \"hello_world\" with time should be printed on the terminal:\n",
    "# hello world new 14:36:56"
   ]
  },
  {
   "cell_type": "markdown",
   "metadata": {},
   "source": [
    "## 6. Burn Super Root Key Hash (SRKH) and Manage Lifecycle.\n",
    "After successful validation of previous steps we can proceed with final security enablement. SRKH must be programmed into corresponding fuses to establish root of trust. On RT118x the dedicated ELE command must be used to move lifecycle to OEM_CLOSED which enforces security."
   ]
  },
  {
   "cell_type": "markdown",
   "metadata": {},
   "source": [
    "<center><span style=\"color:red\">NOTE!</span></center>\n",
    "<span style=\"color:red\">Device will be put into OEM_CLOSED Lifecycle after execution of the scrip below. It becomes mandatory to sign all FW running on the device by corresponding private key.</span>\n",
    "\n",
    "<span style=\"color:red\">Only authenticated FW images will be executed. Debug features will be limited and must be unlocked by debug mailbox feature.</span> \n",
    "\n",
    "Debug mailbox example is located [HERE](../../dat/mimxrt1189/rt118x_debug_authentication.ipynb)."
   ]
  },
  {
   "cell_type": "markdown",
   "metadata": {},
   "source": [
    "-\tWARNING!!! This step is destructive operation (updating life cycle)\n",
    "```\n",
    "# The board must be in SDP mode\n",
    "# Configure Boot Mode Switch to : 1/2/3-OFF, 4-ON\n",
    "# Connect micro USB cable into USB OTG1         - J33\n",
    "# Connect micro USB cable into Debug USB Port   - J53\n",
    "\n",
    "from time import sleep\n",
    "\n",
    "assert os.path.exists(FLASHLOADER_FILE)\n",
    "assert os.path.exists(SRKH_BATCH_FILE)\n",
    "\n",
    "# To enable this script, set the variable below to 1\n",
    "enable_script = 0\n",
    "if enable_script:\n",
    "\n",
    "    # Ping ROM flashloader\n",
    "    %! blhost $VERBOSITY $COMPAR $BLHOST_CONNECT_ROM get-property 1\n",
    "    # Load flashloader\n",
    "    %! blhost $VERBOSITY $COMPAR $BLHOST_CONNECT_ROM load-image $FLASHLOADER_FILE\n",
    "    sleep(3)\n",
    "    # Ping flashloader\n",
    "    %! blhost $VERBOSITY $COMPAR $BLHOST_CONNECT_FLDR get-property 1\n",
    "    # Execute batch command to program SRKH\n",
    "    %! blhost $VERBOSITY $COMPAR $BLHOST_CONNECT_FLDR batch $SRKH_BATCH_FILE\n",
    "\n",
    "    # OEM lifecycle statuses\n",
    "    # 8 - oem_closed: Update to OEM Closed\n",
    "    ELE_LIFECYCLE = 8\n",
    "\n",
    "    # Change Lifecycle to OEM_CLOSED\n",
    "    %! blhost $VERBOSITY $COMPAR $BLHOST_CONNECT_FLDR update-life-cycle $ELE_LIFECYCLE\n",
    "\n",
    "# Switch the board into internal boot and reset.\n",
    "\n",
    "# Configure Boot Mode Switch to :1-OFF, 2-ON, 3-OFF, 4-OFF\n",
    "# Connect micro USB cable into Debug USB Port - J53\n",
    "# Open Serial Terminal (115200)\n",
    "# Reset the board\n",
    "\n",
    "# The \"hello_world\" with time should be printed on the terminal:\n",
    "# hello world new 14:36:56\n",
    "```"
   ]
  }
 ],
 "metadata": {
  "kernelspec": {
   "display_name": "venv",
   "language": "python",
   "name": "python3"
  },
  "language_info": {
   "codemirror_mode": {
    "name": "ipython",
    "version": 3
   },
   "file_extension": ".py",
   "mimetype": "text/x-python",
   "name": "python",
   "nbconvert_exporter": "python",
   "pygments_lexer": "ipython3",
   "version": "3.11.4"
  }
 },
 "nbformat": 4,
 "nbformat_minor": 4
}
