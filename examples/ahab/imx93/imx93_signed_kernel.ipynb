{
 "cells": [
  {
   "cell_type": "markdown",
   "id": "d2ed8e64",
   "metadata": {},
   "source": [
    "# Signed AHAB Image Generation for U-Boot and Kernel\n",
    "\n",
    "In this notebook, we'll demonstrate a proof-of-concept on how to:\n",
    "- Generate signed AHAB U-Boot and kernel images\n",
    "- Replace the unsigned AHAB U-Boot in the `wic` file \n",
    "- Replace the unsigned kernel image with a signed version\n",
    "- Boot up the system with authenticated images"
   ]
  },
  {
   "cell_type": "markdown",
   "id": "5d29c2e8",
   "metadata": {},
   "source": [
    "## 1. Prerequisites\n",
    "\n",
    "- SPSDK is needed with examples extension. `pip install spsdk[examples]` (Please refer to the installation documentation.)\n",
    "- [Download Embedded Linux for your i.MX board](https://www.nxp.com/design/design-center/software/embedded-software/i-mx-software/embedded-linux-for-i-mx-applications-processors:IMXLINUX)\n",
    "- This demo was tested with i.MX93 (both QSB and EVK) and `Linux 6.6.52-2.2.0`"
   ]
  },
  {
   "cell_type": "markdown",
   "id": "3e890bb9",
   "metadata": {},
   "source": [
    "### 1.1 Images preparation\n",
    "- to create resulting binary containing AHAB containers, we need to prepare the binaries\n",
    "- in this section we reproduce the process which is done by the `imx-mkimage` tool as flash singleboot binary\n",
    "- Obtain all the necessary binaries and put them into inputs directory\n",
    "\n",
    "### 1.2 U-Boot\n",
    "\n",
    "[Read the U-Boot documentation to understand the U-Boot build process](https://docs.u-boot.org/en/latest/board/nxp/imx93_11x11_evk.html#quick-start)\n",
    "In order to enable secure boot and secure boot itself, U-Boot must be built with AHAB support. `CONFIG_AHAB_BOOT=y`\n",
    "If you want to use the nxpele over fastboot, also multiplexing of console output to fastboot must be enabled by setting `CONFIG_CONSOLE_MUX=y`.\n",
    "\n",
    "As building a (signed) bootloader image for i.MX93 is already explained in `examples/ahab/imx93/imx93_signed_ahab_uboot.ipynb` we skip the details here. \n",
    "\n",
    "### 1.3 Requirements\n",
    "\n",
    "- lpddr4 firmware files\n",
    "- u-boot binary (u-boot SPL and u-boot) built with AHAB support.\n",
    "- bl31.bin binary (ARM Trusted Firmware)\n",
    "- ELE firmware binary AHAB\n",
    "- Kernel image\n",
    "- Device tree blob (.dtb) for i.MX93 QSB board\n",
    "- Bootable disk image `.wic` file for i.MX93 QSB board\n",
    "- i.MX93 QSB board itself\n"
   ]
  },
  {
   "cell_type": "code",
   "execution_count": 1,
   "id": "dd31414c",
   "metadata": {},
   "outputs": [
    {
     "name": "stdout",
     "output_type": "stream",
     "text": [
      "env: JUPYTER_SPSDK=1\n",
      "Created `%!` as an alias for `%execute`.\n"
     ]
    }
   ],
   "source": [
    "from spsdk.utils.jupyter_utils import YamlDiffWidget\n",
    "\n",
    "# This env variable sets colored logger output to STDOUT\n",
    "%env JUPYTER_SPSDK=1\n",
    "%alias execute echo %l && %l\n",
    "%alias_magic ! execute"
   ]
  },
  {
   "cell_type": "markdown",
   "id": "973fcecd",
   "metadata": {},
   "source": [
    "## 2 Building the AHAB Images\n",
    "\n",
    "We first build the bootloader image, then we build the Kernel image with DTB."
   ]
  },
  {
   "cell_type": "code",
   "execution_count": 2,
   "id": "b6c7940d",
   "metadata": {},
   "outputs": [],
   "source": [
    "U_BOOT_FLASH_BOOT_CONFIG = \"./inputs/imx93_signed_ahab_uboot_bimg.yaml\"\n",
    "U_BOOT_FLASH_BOOT = \"./outputs/imx93-ahab-uboot-signed.bin\""
   ]
  },
  {
   "cell_type": "code",
   "execution_count": 3,
   "id": "83580af0",
   "metadata": {},
   "outputs": [
    {
     "name": "stdout",
     "output_type": "stream",
     "text": [
      "nxpimage -v bootable-image export -c ./inputs/imx93_signed_ahab_uboot_bimg.yaml -o ./outputs/imx93-ahab-uboot-signed.bin \n",
      "\u001b[37m\u001b[1mINFO:spsdk.image.ahab.ahab_iae:Adding DDR memory areas into SPL image\u001b[39m\u001b[0m\n",
      "\u001b[37m\u001b[1mINFO:spsdk.apps.nxpimage_apps.nxpimage_bimg:Created Bootable Image:\n",
      "Name:      Bootable Image for mimx9352, Revision: a1\n",
      "Starts:    0x0\n",
      "Ends:      0x1563ff\n",
      "Size:      Size: 1.3 MiB; 1,401,856 B\n",
      "Alignment: 1 B\n",
      "Execution Start Address: Not defined\n",
      "Pattern:zeros\n",
      "Memory type: MemoryType.SERIAL_DOWNLOADER\n",
      "\u001b[39m\u001b[0m\n",
      "\u001b[37m\u001b[1mINFO:spsdk.apps.nxpimage_apps.nxpimage_bimg:Created Bootable Image memory map:\n",
      "\n",
      "\u001b[90m+==0x0000_0000= Bootable Image for mimx9352, Revision: a1 ==+\n",
      "\u001b[90m|                Size: 1.3 MiB; 1,401,856 B                 |\n",
      "\u001b[90m|         Memory type: MemoryType.SERIAL_DOWNLOADER         |\n",
      "\u001b[90m|                      Pattern: zeros                       |\n",
      "\u001b[90m|\u001b[34m+==0x0000_0000= primary_image_container_set ==============+\u001b[90m|\n",
      "\u001b[90m|\u001b[34m|               Size: 308.5 kiB; 315,904 B                |\u001b[90m|\n",
      "\u001b[90m|\u001b[34m|          AHAB Image for mimx9352, Revision: a1          |\u001b[90m|\n",
      "\u001b[90m|\u001b[34m|                     Pattern: zeros                      |\u001b[90m|\n",
      "\u001b[90m|\u001b[34m|\u001b[90m+==0x0000_0000= AHAB Containers ========================+\u001b[34m|\u001b[90m|\n",
      "\u001b[90m|\u001b[34m|\u001b[90m|                Size: 8.0 kiB; 8,192 B                 |\u001b[34m|\u001b[90m|\n",
      "\u001b[90m|\u001b[34m|\u001b[90m|                 AHAB Containers block                 |\u001b[34m|\u001b[90m|\n",
      "\u001b[90m|\u001b[34m|\u001b[90m|                    Pattern: zeros                     |\u001b[34m|\u001b[90m|\n",
      "\u001b[90m|\u001b[34m|\u001b[90m|\u001b[34m+==0x0000_0000= AHAB Container 0 =====================+\u001b[90m|\u001b[34m|\u001b[90m|\n",
      "\u001b[90m|\u001b[34m|\u001b[90m|\u001b[34m|                     Size: 544 B                     |\u001b[90m|\u001b[34m|\u001b[90m|\n",
      "\u001b[90m|\u001b[34m|\u001b[90m|\u001b[34m|           AHAB Container for nxp_SWver:0            |\u001b[90m|\u001b[34m|\u001b[90m|\n",
      "\u001b[90m|\u001b[34m|\u001b[90m|\u001b[34m+==0x0000_021f========================================+\u001b[90m|\u001b[34m|\u001b[90m|\n",
      "\u001b[90m|\u001b[34m|\u001b[90m|                      Gap: 480 B                       |\u001b[34m|\u001b[90m|\n",
      "\u001b[90m|\u001b[34m|\u001b[90m|\u001b[32m+==0x0000_0400= AHAB Container 1 =====================+\u001b[90m|\u001b[34m|\u001b[90m|\n",
      "\u001b[90m|\u001b[34m|\u001b[90m|\u001b[32m|                     Size: 704 B                     |\u001b[90m|\u001b[34m|\u001b[90m|\n",
      "\u001b[90m|\u001b[34m|\u001b[90m|\u001b[32m|           AHAB Container for oem_SWver:0            |\u001b[90m|\u001b[34m|\u001b[90m|\n",
      "\u001b[90m|\u001b[34m|\u001b[90m|\u001b[32m+==0x0000_06bf========================================+\u001b[90m|\u001b[34m|\u001b[90m|\n",
      "\u001b[90m|\u001b[34m|\u001b[90m+==0x0000_1fff==========================================+\u001b[34m|\u001b[90m|\n",
      "\u001b[90m|\u001b[34m|\u001b[32m+==0x0000_2000= Container 0 AHAB Data Image 0 ==========+\u001b[34m|\u001b[90m|\n",
      "\u001b[90m|\u001b[34m|\u001b[32m|               Size: 94.9 kiB; 97,136 B                |\u001b[34m|\u001b[90m|\n",
      "\u001b[90m|\u001b[34m|\u001b[32m| AHAB encrypted data block for ele core and ele Image  |\u001b[34m|\u001b[90m|\n",
      "\u001b[90m|\u001b[34m|\u001b[32m|                         Type.                         |\u001b[34m|\u001b[90m|\n",
      "\u001b[90m|\u001b[34m|\u001b[32m+==0x0001_9b6f==========================================+\u001b[34m|\u001b[90m|\n",
      "\u001b[90m|\u001b[34m|                       Gap: 144 B                        |\u001b[90m|\n",
      "\u001b[90m|\u001b[34m|\u001b[36m+==0x0001_9c00= U-Boot SPL with DDR tunning images =====+\u001b[34m|\u001b[90m|\n",
      "\u001b[90m|\u001b[34m|\u001b[36m|              Size: 205.5 kiB; 210,432 B               |\u001b[34m|\u001b[90m|\n",
      "\u001b[90m|\u001b[34m|\u001b[36m|  AHAB data block for cortex-a55 core and executable   |\u001b[34m|\u001b[90m|\n",
      "\u001b[90m|\u001b[34m|\u001b[36m|                      Image Type.                      |\u001b[34m|\u001b[90m|\n",
      "\u001b[90m|\u001b[34m|\u001b[36m+==0x0004_d1ff==========================================+\u001b[34m|\u001b[90m|\n",
      "\u001b[90m|\u001b[34m+==0x0004_d1ff============================================+\u001b[90m|\n",
      "\u001b[90m|                        Gap: 512 B                         |\n",
      "\u001b[90m|\u001b[32m+==0x0004_d400= secondary_image_container_set ============+\u001b[90m|\n",
      "\u001b[90m|\u001b[32m|               Size: 1.0 MiB; 1,085,440 B                |\u001b[90m|\n",
      "\u001b[90m|\u001b[32m|          AHAB Image for mimx9352, Revision: a1          |\u001b[90m|\n",
      "\u001b[90m|\u001b[32m|                     Pattern: zeros                      |\u001b[90m|\n",
      "\u001b[90m|\u001b[32m|\u001b[90m+==0x0004_d400= AHAB Containers ========================+\u001b[32m|\u001b[90m|\n",
      "\u001b[90m|\u001b[32m|\u001b[90m|                Size: 8.0 kiB; 8,192 B                 |\u001b[32m|\u001b[90m|\n",
      "\u001b[90m|\u001b[32m|\u001b[90m|                 AHAB Containers block                 |\u001b[32m|\u001b[90m|\n",
      "\u001b[90m|\u001b[32m|\u001b[90m|                    Pattern: zeros                     |\u001b[32m|\u001b[90m|\n",
      "\u001b[90m|\u001b[32m|\u001b[90m|\u001b[34m+==0x0004_d400= AHAB Container 0 =====================+\u001b[90m|\u001b[32m|\u001b[90m|\n",
      "\u001b[90m|\u001b[32m|\u001b[90m|\u001b[34m|                     Size: 832 B                     |\u001b[90m|\u001b[32m|\u001b[90m|\n",
      "\u001b[90m|\u001b[32m|\u001b[90m|\u001b[34m|           AHAB Container for oem_SWver:0            |\u001b[90m|\u001b[32m|\u001b[90m|\n",
      "\u001b[90m|\u001b[32m|\u001b[90m|\u001b[34m+==0x0004_d73f========================================+\u001b[90m|\u001b[32m|\u001b[90m|\n",
      "\u001b[90m|\u001b[32m|\u001b[90m+==0x0004_f3ff==========================================+\u001b[32m|\u001b[90m|\n",
      "\u001b[90m|\u001b[32m|\u001b[34m+==0x0004_f400= ATF - ARM Trusted Firmware =============+\u001b[32m|\u001b[90m|\n",
      "\u001b[90m|\u001b[32m|\u001b[34m|               Size: 43.5 kiB; 44,544 B                |\u001b[32m|\u001b[90m|\n",
      "\u001b[90m|\u001b[32m|\u001b[34m|  AHAB data block for cortex-a55 core and executable   |\u001b[32m|\u001b[90m|\n",
      "\u001b[90m|\u001b[32m|\u001b[34m|                      Image Type.                      |\u001b[32m|\u001b[90m|\n",
      "\u001b[90m|\u001b[32m|\u001b[34m+==0x0005_a1ff==========================================+\u001b[32m|\u001b[90m|\n",
      "\u001b[90m|\u001b[32m|                       Gap: 512 B                        |\u001b[90m|\n",
      "\u001b[90m|\u001b[32m|\u001b[36m+==0x0005_a400= U-Boot Firmware ========================+\u001b[32m|\u001b[90m|\n",
      "\u001b[90m|\u001b[32m|\u001b[36m|             Size: 1008.0 kiB; 1,032,192 B             |\u001b[32m|\u001b[90m|\n",
      "\u001b[90m|\u001b[32m|\u001b[36m|  AHAB data block for cortex-a55 core and executable   |\u001b[32m|\u001b[90m|\n",
      "\u001b[90m|\u001b[32m|\u001b[36m|                      Image Type.                      |\u001b[32m|\u001b[90m|\n",
      "\u001b[90m|\u001b[32m|\u001b[36m+==0x0015_63ff==========================================+\u001b[32m|\u001b[90m|\n",
      "\u001b[90m|\u001b[32m+==0x0015_63ff============================================+\u001b[90m|\n",
      "\u001b[90m+==0x0015_63ff==============================================+\n",
      "\u001b[39m\u001b[39m\u001b[0m\n",
      "Success. (Bootable Image: outputs/imx93-ahab-uboot-signed.bin created) \n"
     ]
    }
   ],
   "source": [
    "%! nxpimage -v bootable-image export -c $U_BOOT_FLASH_BOOT_CONFIG -o $U_BOOT_FLASH_BOOT"
   ]
  },
  {
   "cell_type": "markdown",
   "id": "a778ea7a",
   "metadata": {},
   "source": [
    "Kernel and Device tree blob AHAB image is also very simple, and signing works in similar fashion."
   ]
  },
  {
   "cell_type": "code",
   "execution_count": 4,
   "id": "ed3614bf",
   "metadata": {},
   "outputs": [
    {
     "name": "stdout",
     "output_type": "stream",
     "text": [
      "nxpimage ahab get-template -f mimx9352 -o workspace/ahab_template.yaml --force \n",
      "Creating workspace/ahab_template.yaml template file.\n"
     ]
    },
    {
     "data": {
      "text/html": [
       "\n",
       "            \n",
       "            <style>\n",
       "                .yaml-diff { font-family: monospace; background-color: #f0f0f0; padding: 1em; border: 1px solid #c0c0c0; }\n",
       "                .yaml-key { color: #0000CC; font-weight: bold; }\n",
       "                .yaml-value { color: #006600; }\n",
       "                .yaml-commented-line { color: #008800; }\n",
       "                .yaml-list-item { color: #660066; }\n",
       "                .diff-removed { background-color: #ffaaaa; }\n",
       "                .diff-added { background-color: #aaffaa; }\n",
       "                .yaml-comment {\n",
       "                    background-color: #FF8C00;\n",
       "                    color: #000000;\n",
       "                    border-radius: 50%;\n",
       "                    padding: 0 0.3em;\n",
       "                    margin-left: 0.5em;\n",
       "                    font-size: 0.8em;\n",
       "                    cursor: help;\n",
       "                    font-weight: bold;\n",
       "                    text-shadow: 1px 1px 1px rgba(255, 255, 255, 0.7);\n",
       "                }\n",
       "                #toggleButton_95dc47e83fc9dbf90ba3515dc1ee637c {\n",
       "                    background-color: #4CAF50;\n",
       "                    border: none;\n",
       "                    color: white;\n",
       "                    padding: 10px 20px;\n",
       "                    text-align: center;\n",
       "                    text-decoration: none;\n",
       "                    display: inline-block;\n",
       "                    font-size: 16px;\n",
       "                    margin: 4px 2px;\n",
       "                    cursor: pointer;\n",
       "                }\n",
       "            </style>\n",
       "            \n",
       "            \n",
       "            <script>\n",
       "            function toggleView_95dc47e83fc9dbf90ba3515dc1ee637c() {\n",
       "                var diffView = document.getElementById('diffView_95dc47e83fc9dbf90ba3515dc1ee637c');\n",
       "                var userConfigView = document.getElementById('userConfigView_95dc47e83fc9dbf90ba3515dc1ee637c');\n",
       "                var button = document.getElementById('toggleButton_95dc47e83fc9dbf90ba3515dc1ee637c');\n",
       "\n",
       "                if (diffView.style.display === 'none' && userConfigView.style.display === 'none') {\n",
       "                    diffView.style.display = 'block';\n",
       "                    userConfigView.style.display = 'none';\n",
       "                    button.textContent = 'Show User Config';\n",
       "                } else if (diffView.style.display === 'block') {\n",
       "                    diffView.style.display = 'none';\n",
       "                    userConfigView.style.display = 'block';\n",
       "                    button.textContent = 'Hide';\n",
       "                } else {\n",
       "                    diffView.style.display = 'none';\n",
       "                    userConfigView.style.display = 'none';\n",
       "                    button.textContent = 'Show Diff';\n",
       "                }\n",
       "            }\n",
       "            </script>\n",
       "            \n",
       "            <div class=\"yaml-diff-container\">\n",
       "            <h3>Configuration Differences</h3>\n",
       "            <button onclick=\"toggleView_95dc47e83fc9dbf90ba3515dc1ee637c()\" id=\"toggleButton_95dc47e83fc9dbf90ba3515dc1ee637c\">Show Diff</button>\n",
       "            \n",
       "            <a href=\"data:text/plain;base64,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\" download=\"user_config.yaml\">\n",
       "                <button style=\"background-color: #4CAF50; border: none; color: white; padding: 10px 20px; text-align: center; text-decoration: none; display: inline-block; font-size: 16px; margin: 4px 2px; cursor: pointer;\">\n",
       "                    Download Config\n",
       "                </button>\n",
       "            </a>\n",
       "            \n",
       "            <div id=\"diffView_95dc47e83fc9dbf90ba3515dc1ee637c\" class=\"yaml-diff\" style=\"display:none;\"><pre class=\"yaml-diff\"><span class=\"diff-added\"></span><br><span class=\"yaml-commented-line\"># ===========================  ahab Configuration template for mimx9352, Revision: latest.  ============================</span><br><br><span class=\"yaml-commented-line\"># ======================================================================================================================</span><br><span class=\"yaml-commented-line\">#                                                 == General Options ==                                                 </span><br><span class=\"yaml-commented-line\"># ======================================================================================================================</span><br><span class=\"yaml-commented-line\"># -------------------------------------===== The chip family name [Required] =====--------------------------------------</span><br><span class=\"yaml-commented-line\"># Description: NXP chip family identifier.</span><br><span class=\"yaml-key\">family</span>: <span class=\"yaml-value\">mimx9352</span><br><span class=\"yaml-commented-line\"># -----------------------------------------===== MCU revision [Optional] =====------------------------------------------</span><br><span class=\"yaml-commented-line\"># Description: Revision of silicon. The 'latest' name, means most current revision.</span><br><span class=\"yaml-commented-line\"># Possible options: <a0, a1, latest></span><br><span class=\"yaml-key\">revision</span>: <span class=\"yaml-value\">latest</span><br><span class=\"yaml-commented-line\"># -----------------------------------------===== Target memory [Optional] =====-----------------------------------------</span><br><span class=\"yaml-commented-line\"># Description: Target memory for AHAB container</span><br><span class=\"yaml-commented-line\"># Possible options: <serial_downloader, standard, nand_2k, nand_4k></span><br><span class=\"yaml-key\">target_memory</span>: <span class=\"yaml-value\">standard</span> <span style=\"background-color: #FFFF00; border-radius: 5px; padding: 2px\n",
       "6px; margin-left: 5px; font-size: 0.8em;\">Change the target memory to serial downloader</span><br><span class=\"yaml-commented-line\"># ---------------------------------------===== Output file name [Required] =====----------------------------------------</span><br><span class=\"yaml-commented-line\"># Description: Output AHAB file name</span><br><span class=\"diff-removed\"><span class=\"yaml-key\">output</span>: <span class=\"yaml-value\">generated_ahab.bin</span> <span style=\"background-color: #FFFF00; border-radius: 5px; padding:\n",
       "2px 6px; margin-left: 5px; font-size: 0.8em;\">Change the output file name</span></span><br><span class=\"diff-added\"><span class=\"yaml-key\">output</span>: <span class=\"yaml-value\">../outputs/os_cntr_signed.bin</span></span><br><span class=\"yaml-commented-line\"># ------------------------------===== List of containers present in AHAB [Required] =====-------------------------------</span><br><span class=\"yaml-commented-line\"># Description: The order of containers in the list defines the order in AHAB.</span><br><span class=\"yaml-key\">containers</span>:<br><span class=\"yaml-key\">  -</span><br>  <span class=\"yaml-commented-line\"># ====================================================================================================================</span><br>  <span class=\"yaml-commented-line\">#                                          == List of possible 2 options. ==                                          </span><br>  <span class=\"yaml-commented-line\">#                                        Options [binary_container, container]                                        </span><br>  <span class=\"yaml-commented-line\"># ====================================================================================================================</span><br><br>  <span class=\"yaml-commented-line\">#  =========================== [Example of possible configuration: #0 , erase if not used] ============================</span><br>    <span class=\"yaml-commented-line\"># -----------------------------------===== Binary AHAB container [Required] =====-----------------------------------</span><br>    <span class=\"yaml-commented-line\"># Description: Binary Container format to add to AHAB image, Typically it could be used to add ELE Firmware.</span><br><span class=\"diff-removed\"><span class=\"yaml-key\">    binary_container</span>:</span><br>      <span class=\"yaml-commented-line\"># -----------------------------===== The AHAB container binary file [Required] =====------------------------------</span><br>      <span class=\"yaml-commented-line\"># Description: The binary file that contains AHAB \"my_binary_container.bin</span><br><span class=\"diff-removed\"><span class=\"yaml-key\">      path</span>: <span class=\"yaml-value\">my_ahab_container.bin</span></span><br><span class=\"diff-removed\"></span><br>  <span class=\"yaml-commented-line\">#  =========================== [Example of possible configuration: #1 , erase if not used] ============================</span><br>    <span class=\"yaml-commented-line\"># --------------------------------------===== AHAB Container [Required] =====---------------------------------------</span><br>    <span class=\"yaml-commented-line\"># Description: Configurable Container format to add to AHAB image. This allow to configure all aspects of the AHAB</span><br>    <span class=\"yaml-commented-line\"># container.</span><br><span class=\"yaml-key\">    container</span>:<br>      <span class=\"yaml-commented-line\"># --------------------------------===== Super Root Key (SRK) set [Required] =====---------------------------------</span><br>      <span class=\"yaml-commented-line\"># Description: Defines which set is used to authenticate the container.</span><br>      <span class=\"yaml-commented-line\"># Possible options: <none, oem, nxp></span><br><span class=\"diff-removed\"><span class=\"yaml-key\">      srk_set</span>: <span class=\"yaml-value\">none</span></span><br><span class=\"diff-added\"><span class=\"yaml-key\">      srk_set</span>: <span class=\"yaml-value\">oem</span></span><br>      <span class=\"yaml-commented-line\"># ---------------------------------===== Used SRK [Conditionally required] =====----------------------------------</span><br>      <span class=\"yaml-commented-line\"># Description: Which key from SRK set is being used.</span><br><span class=\"yaml-key\">      used_srk_id</span>: <span class=\"yaml-value\">0</span><br>      <span class=\"yaml-commented-line\"># -------------------------------------===== SRK revoke mask [Optional] =====-------------------------------------</span><br>      <span class=\"yaml-commented-line\"># Description: Bit-mask to indicate which SRKs to revoke. Bit set to 1 means revoke key. Bit 0 = revoke SRK_0, bit</span><br>      <span class=\"yaml-commented-line\"># 1 = revoke SRK_1 etc. Example of revocation SRK_0 and SRK_1 - the value should be 0x03</span><br><span class=\"diff-removed\"><span class=\"yaml-key\">      srk_revoke_mask</span>: <span class=\"yaml-value\">'0x00'</span></span><br><span class=\"diff-added\"><span class=\"yaml-key\">      srk_revoke_mask</span>: <span class=\"yaml-value\">0</span></span><br>      <span class=\"yaml-commented-line\"># ----------------------------------===== GDET runtime behavior [Optional] =====----------------------------------</span><br>      <span class=\"yaml-commented-line\"># Description: This option defines runtime behavior of Glitch detector. Not supported by all devices and their ELE</span><br>      <span class=\"yaml-commented-line\"># firmware.</span><br>      <span class=\"yaml-commented-line\">#  - disabled:       GDET is disabled after the first OEM container has been authenticated (default behavior)</span><br>      <span class=\"yaml-commented-line\">#  - enabled_eleapi: Automatically enable GDET during all ELE API calls</span><br>      <span class=\"yaml-commented-line\">#  - enabled:        Leave GDET enabled</span><br>      <span class=\"yaml-commented-line\"># Possible options: <disabled, enabled_eleapi, enabled></span><br><span class=\"diff-removed\"><span class=\"yaml-key\">      gdet_runtime_behavior</span>: <span class=\"yaml-value\">disabled</span></span><br>      <span class=\"yaml-commented-line\"># --------------------------------------===== Fuse version [Optional] =====---------------------------------------</span><br>      <span class=\"yaml-commented-line\"># Description: The value must be equal or greater than the version stored in fuses to allow loading this</span><br>      <span class=\"yaml-commented-line\"># container.</span><br><span class=\"yaml-key\">      fuse_version</span>: <span class=\"yaml-value\">0</span><br>      <span class=\"yaml-commented-line\"># ------------------------------------===== Software version [Optional] =====-------------------------------------</span><br>      <span class=\"yaml-commented-line\"># Description: Number used by Privileged Host Boot Companion (PHBC) to select between multiple images with same</span><br>      <span class=\"yaml-commented-line\"># Fuse version field.</span><br><span class=\"yaml-key\">      sw_version</span>: <span class=\"yaml-value\">0</span><br><span class=\"diff-added\"><span class=\"yaml-key\">      signer</span>: <span class=\"yaml-value\">./keys/RoT_key0_secp384r1.pem </span><span class=\"yaml-commented-line\"># [Conditionally required], AHAB container signing key, Private key used for sign the container header. Header can be signed by SRK or by image key that was signed by SRK. If an image key is used, it must be the same algorithm and key size as the SRK. In both cases, the referenced SRK must not have been revoked.</span></span><br>      <span class=\"yaml-commented-line\"># ----------------------------------===== AHAB container signer [Optional] =====----------------------------------</span><br>      <span class=\"yaml-commented-line\"># Description: Signature provider configuration in format 'type=<identifier>;<key1>=<value1>;<key2>=<value2>' or a</span><br>      <span class=\"yaml-commented-line\"># private key used for sign the container header. Header can be signed by SRK. The referenced SRK must not have</span><br>      <span class=\"yaml-commented-line\"># been revoked.</span><br><span class=\"diff-removed\"><span class=\"yaml-key\">      signer</span>: <span class=\"yaml-value\">type=file;file_path=my_prv_key.pem</span></span><br><span class=\"diff-removed\"></span><br>      <span class=\"yaml-commented-line\"># ================================================================================================================</span><br>      <span class=\"yaml-commented-line\">#                     == Configuration of AHAB Container images (array of multiple images) ==                     </span><br>      <span class=\"yaml-commented-line\"># ================================================================================================================</span><br>      <span class=\"yaml-commented-line\"># ---------------------------------------===== Image array [Required] =====---------------------------------------</span><br>      <span class=\"yaml-commented-line\"># Description: Array of image entries.</span><br><span class=\"yaml-key\">      images</span>:<br><span class=\"diff-removed\"><span class=\"yaml-key\">        -</span></span><br>        <span class=\"yaml-commented-line\"># ==============================================================================================================</span><br>        <span class=\"yaml-commented-line\">#                                       == List of possible 7 options. ==                                       </span><br>        <span class=\"yaml-commented-line\">#   Options [SPL with optional DDR tunning images, Uboot ATF, Uboot, TEE Trusted Execution Environment, Linux   </span><br>        <span class=\"yaml-commented-line\">#                              Kernel Image, Device Tree Blob, General Image Entry]                             </span><br>        <span class=\"yaml-commented-line\"># ==============================================================================================================</span><br><span class=\"diff-added\"><span class=\"yaml-key\">        - </span>kernel: <span class=\"yaml-value\">inputs/Image</span></span><br><span class=\"diff-added\"><span class=\"yaml-key\">          hash_type</span>: <span class=\"yaml-value\">sha384</span></span><br><br><span class=\"diff-added\"><span class=\"yaml-key\">        - </span>dtb: <span class=\"yaml-value\">inputs/imx93-9x9-qsb.dtb</span></span><br><span class=\"diff-added\"><span class=\"yaml-key\">          hash_type</span>: <span class=\"yaml-value\">sha384</span></span><br>        <span class=\"yaml-commented-line\">#  ====== [Example of possible configuration: #0 SPL with optional DDR tunning images, erase if not used] =======</span><br>        <span class=\"yaml-commented-line\"># U-Boot SPL with optional DDR PHY tunning images</span><br>        <span class=\"yaml-commented-line\"># Image array default settings. Can be overridden by definitions that are hidden in the template:</span><br>        <span class=\"yaml-commented-line\"># load_address:                  0x000000002049A000</span><br>        <span class=\"yaml-commented-line\"># image_type:                    executable</span><br>        <span class=\"yaml-commented-line\"># core_id:                       cortex-a55</span><br>        <span class=\"yaml-commented-line\"># meta_data_start_cpu_id:        2</span><br>        <span class=\"yaml-commented-line\"># hash_type:                     SHA384</span><br>          <span class=\"yaml-commented-line\"># -----------------------------===== LPDDR memory FW in 1D mode [Required] =====------------------------------</span><br>          <span class=\"yaml-commented-line\"># Description: Firmware for LPDDR4/5 memory in 1D mode.</span><br><span class=\"diff-removed\"><span class=\"yaml-key\">          lpddr_imem_1d</span>: <span class=\"yaml-value\">lpddr_imem_1d.bin</span></span><br>          <span class=\"yaml-commented-line\"># -----------------------------===== LPDDR memory FW in 2D mode [Required] =====------------------------------</span><br>          <span class=\"yaml-commented-line\"># Description: Firmware for LPDDR4/5 memory in 2D mode.</span><br><span class=\"diff-removed\"><span class=\"yaml-key\">          lpddr_imem_2d</span>: <span class=\"yaml-value\">lpddr_imem_2d.bin</span></span><br>          <span class=\"yaml-commented-line\"># ----------------------------===== LPDDR memory data in 1D mode [Required] =====-----------------------------</span><br>          <span class=\"yaml-commented-line\"># Description: Data for LPDDR4/5 memory in 1D mode.</span><br><span class=\"diff-removed\"><span class=\"yaml-key\">          lpddr_dmem_1d</span>: <span class=\"yaml-value\">lpddr_dmem_1d.bin</span></span><br>          <span class=\"yaml-commented-line\"># ----------------------------===== LPDDR memory data in 2D mode [Required] =====-----------------------------</span><br>          <span class=\"yaml-commented-line\"># Description: Data for LPDDR4/5 memory in 2D mode.</span><br><span class=\"diff-removed\"><span class=\"yaml-key\">          lpddr_dmem_2d</span>: <span class=\"yaml-value\">lpddr_dmem_2d.bin</span></span><br>          <span class=\"yaml-commented-line\"># -----------------------------------------===== SPL [Required] =====-----------------------------------------</span><br>          <span class=\"yaml-commented-line\"># Description: SPL firmware</span><br><span class=\"diff-removed\"><span class=\"yaml-key\">          spl_ddr</span>: <span class=\"yaml-value\">spl.bin</span></span><br><br><span class=\"diff-added\"><span class=\"yaml-key\">      srk_table</span>: <span class=\"yaml-commented-line\"># [Conditionally required], SRK Table, SRK (Super Root key) table definition.</span></span><br><span class=\"diff-added\"><span class=\"yaml-key\">        srk_array</span>: <span class=\"yaml-commented-line\"># [Required], Super Root Key (SRK) table, Table containing the used SRK records. All SRKs must be of the same type. Supported signing algorithms are: RSASSA-PSS or ECDSA. Supported hash algorithms: sha256, sha384, sha512. Supported key sizes/curves: prime256v1, sec384r1, sec512r1, rsa2048, rsa4096. Certificate may be of Certificate Authority.</span></span><br><span class=\"diff-added\"><span class=\"yaml-key\">          - </span>./keys/RoT_key0_secp384r1.pub <span class=\"yaml-commented-line\"># SRK key, Path to SRK Key file.</span></span><br><span class=\"diff-added\"><span class=\"yaml-key\">          - </span>./keys/RoT_key1_secp384r1.pub <span class=\"yaml-commented-line\"># SRK key, Path to SRK Key file.</span></span><br><span class=\"diff-added\"><span class=\"yaml-key\">          - </span>./keys/RoT_key2_secp384r1.pub <span class=\"yaml-commented-line\"># SRK key, Path to SRK Key file.</span></span><br><span class=\"diff-added\"><span class=\"yaml-key\">          - </span>./keys/RoT_key3_secp384r1.pem <span class=\"yaml-commented-line\"># SRK key, Path to SRK Key file.</span></span><br>        <span class=\"yaml-commented-line\">#  ==================== [Example of possible configuration: #1 Uboot ATF, erase if not used] ====================</span><br>        <span class=\"yaml-commented-line\"># U-Boot ATF container definition</span><br>        <span class=\"yaml-commented-line\"># Image array default settings. Can be overridden by definitions that are hidden in the template:</span><br>        <span class=\"yaml-commented-line\"># load_address:                  0x00000000204E0000</span><br>        <span class=\"yaml-commented-line\"># image_type:                    executable</span><br>        <span class=\"yaml-commented-line\"># core_id:                       cortex-a55</span><br>        <span class=\"yaml-commented-line\"># meta_data_start_cpu_id:        2</span><br>        <span class=\"yaml-commented-line\"># hash_type:                     SHA384</span><br>          <span class=\"yaml-commented-line\"># -------------------------------------===== ATF binary [Required] =====--------------------------------------</span><br>          <span class=\"yaml-commented-line\"># Description: ARM Trusted Firmware binary file.</span><br><span class=\"diff-removed\"><span class=\"yaml-key\">          atf</span>: <span class=\"yaml-value\">bl31.bin</span></span><br><br>        <span class=\"yaml-commented-line\">#  ====================== [Example of possible configuration: #2 Uboot, erase if not used] ======================</span><br>        <span class=\"yaml-commented-line\"># U-Boot container definition</span><br>        <span class=\"yaml-commented-line\"># Image array default settings. Can be overridden by definitions that are hidden in the template:</span><br>        <span class=\"yaml-commented-line\"># load_address:                  0x0000000080200000</span><br>        <span class=\"yaml-commented-line\"># image_type:                    executable</span><br>        <span class=\"yaml-commented-line\"># core_id:                       cortex-a55</span><br>        <span class=\"yaml-commented-line\"># meta_data_start_cpu_id:        2</span><br>        <span class=\"yaml-commented-line\"># hash_type:                     SHA384</span><br>          <span class=\"yaml-commented-line\"># ------------------------------------===== U-Boot binary [Required] =====------------------------------------</span><br>          <span class=\"yaml-commented-line\"># Description: U-Boot binary file.</span><br><span class=\"diff-removed\"><span class=\"yaml-key\">          uboot</span>: <span class=\"yaml-value\">u-boot.bin</span></span><br><span class=\"diff-removed\"></span><br>        <span class=\"yaml-commented-line\">#  ======== [Example of possible configuration: #3 TEE Trusted Execution Environment, erase if not used] ========</span><br>        <span class=\"yaml-commented-line\"># A TEE (Trusted Execution Environment) is a trusted OS running in some secure environment, for example, TrustZone on ARM CPUs, or a separate secure co-processor etc. A TEE driver handles the details needed to communicate with the TEE.</span><br>        <span class=\"yaml-commented-line\"># Image array default settings. Can be overridden by definitions that are hidden in the template:</span><br>        <span class=\"yaml-commented-line\"># load_address:                  0x0000000096000000</span><br>        <span class=\"yaml-commented-line\"># image_type:                    executable</span><br>        <span class=\"yaml-commented-line\"># core_id:                       cortex-a55</span><br>        <span class=\"yaml-commented-line\"># meta_data_start_cpu_id:        2</span><br>        <span class=\"yaml-commented-line\"># hash_type:                     SHA384</span><br>          <span class=\"yaml-commented-line\"># -----------------------------------------===== TEE [Required] =====-----------------------------------------</span><br>          <span class=\"yaml-commented-line\"># Description: TEE - Trusted Execution Environment binary</span><br><span class=\"diff-removed\"><span class=\"yaml-key\">          tee</span>: <span class=\"yaml-value\">tee.bin</span></span><br><span class=\"diff-removed\"></span><br>        <span class=\"yaml-commented-line\">#  =============== [Example of possible configuration: #4 Linux Kernel Image, erase if not used] ================</span><br>        <span class=\"yaml-commented-line\"># Linux kernel Image container definition</span><br>        <span class=\"yaml-commented-line\"># Image array default settings. Can be overridden by definitions that are hidden in the template:</span><br>        <span class=\"yaml-commented-line\"># load_address:                  0x0000000080400000</span><br>        <span class=\"yaml-commented-line\"># image_type:                    executable</span><br>        <span class=\"yaml-commented-line\"># core_id:                       cortex-a55</span><br>        <span class=\"yaml-commented-line\"># meta_data_start_cpu_id:        2</span><br>        <span class=\"yaml-commented-line\"># hash_type:                     SHA384</span><br>          <span class=\"yaml-commented-line\"># ------------------------------===== Linux Kernel Image Binary [Required] =====------------------------------</span><br>          <span class=\"yaml-commented-line\"># Description: Linux kernel executable Image binary file (typically Image.bin)</span><br><span class=\"diff-removed\"><span class=\"yaml-key\">          kernel</span>: <span class=\"yaml-value\">Image.bin</span> <span style=\"background-color: #FFFF00; border-radius: 5px; padding:\n",
       "2px 6px; margin-left: 5px; font-size: 0.8em;\">Change the kernel path</span></span><br><span class=\"diff-removed\"></span><br>        <span class=\"yaml-commented-line\">#  ================ [Example of possible configuration: #5 Device Tree Blob, erase if not used] =================</span><br>        <span class=\"yaml-commented-line\"># Device Tree Blob (DTB) container definition</span><br>        <span class=\"yaml-commented-line\"># Image array default settings. Can be overridden by definitions that are hidden in the template:</span><br>        <span class=\"yaml-commented-line\"># load_address:                  0x0000000083000000</span><br>        <span class=\"yaml-commented-line\"># entry_point:                   0x0000000000000000</span><br>        <span class=\"yaml-commented-line\"># image_type:                    data</span><br>        <span class=\"yaml-commented-line\"># core_id:                       cortex-a55</span><br>        <span class=\"yaml-commented-line\"># hash_type:                     SHA384</span><br>          <span class=\"yaml-commented-line\"># -------------------------------===== Device Tree Blob Binary [Required] =====-------------------------------</span><br>          <span class=\"yaml-commented-line\"># Description: Device Tree Blob (DTB) binary file containing hardware description</span><br><span class=\"diff-removed\"><span class=\"yaml-key\">          dtb</span>: <span class=\"yaml-value\">device-tree.dtb</span> <span style=\"background-color: #FFFF00; border-radius: 5px;\n",
       "padding: 2px 6px; margin-left: 5px; font-size: 0.8em;\">Change the dtb path</span></span><br><span class=\"diff-removed\"></span><br>        <span class=\"yaml-commented-line\">#  =============== [Example of possible configuration: #6 General Image Entry, erase if not used] ===============</span><br>        <span class=\"yaml-commented-line\"># General Image Entry</span><br>          <span class=\"yaml-commented-line\"># -------------------------------------===== Image path [Optional] =====--------------------------------------</span><br>          <span class=\"yaml-commented-line\"># Description: Path to image binary (absolute/relative). In case that only Image Array entry without any data</span><br>          <span class=\"yaml-commented-line\"># image is needed, Just do not use the image path. In case that the image size in container should be aligned</span><br>          <span class=\"yaml-commented-line\"># differently then SPSDK do (4 bytes for ELE images, 1 byte otherwise), there is hidden option</span><br>          <span class=\"yaml-commented-line\"># 'image_size_alignment' where could be override image size by any custom value.</span><br><span class=\"diff-removed\"><span class=\"yaml-key\">          image_path</span>: <span class=\"yaml-value\">my_image.bin</span></span><br>          <span class=\"yaml-commented-line\"># ---------------------------===== Image offset in AHAB container [Optional] =====----------------------------</span><br>          <span class=\"yaml-commented-line\"># Description: Offset in bytes from start of container header to beginning of the image. Zero value means</span><br>          <span class=\"yaml-commented-line\"># automatic placing the image with proper alignment after previous one, this is recommended for</span><br>          <span class=\"yaml-commented-line\"># serial_downloader mode. In case of XiP type of AHAB image, the load_address and entry_point must correspond</span><br>          <span class=\"yaml-commented-line\"># to this values. Example of setting of load_address - AHAB_IMAGE_ADDRESS+IMAGE_OFFSET=LOAD_ADDRESS. The</span><br>          <span class=\"yaml-commented-line\"># Booting core images must be located after the other ones</span><br><span class=\"diff-removed\"><span class=\"yaml-key\">          image_offset</span>: <span class=\"yaml-value\">0</span></span><br>          <span class=\"yaml-commented-line\"># ------------------------------===== Image destination address [Required] =====------------------------------</span><br>          <span class=\"yaml-commented-line\"># Description: Address the image is written to in memory (absolute address in system memory).</span><br><span class=\"diff-removed\"><span class=\"yaml-key\">          load_address</span>: <span class=\"yaml-value\">'0x1FFC_0000'</span></span><br>          <span class=\"yaml-commented-line\"># ----------------------------------===== Image entry point [Required] =====----------------------------------</span><br>          <span class=\"yaml-commented-line\"># Description: Image entry point (absolute address). Valid only for executable image types.</span><br><span class=\"diff-removed\"><span class=\"yaml-key\">          entry_point</span>: <span class=\"yaml-value\">'0x1FFC_0000'</span></span><br>          <span class=\"yaml-commented-line\"># -------------------------------------===== Image type [Required] =====--------------------------------------</span><br>          <span class=\"yaml-commented-line\"># Description: Kind of image.</span><br>          <span class=\"yaml-commented-line\"># Possible options: <executable, data, provisioning_image, provisioning_data, v2x_dummy, ele, v2x_primary,</span><br>          <span class=\"yaml-commented-line\"># v2x_secondary, v2x_rom_patch></span><br><span class=\"diff-removed\"><span class=\"yaml-key\">          image_type</span>: <span class=\"yaml-value\">executable</span></span><br>          <span class=\"yaml-commented-line\"># ---------------------------------------===== Core ID [Required] =====---------------------------------------</span><br>          <span class=\"yaml-commented-line\"># Description: Defines the core the image is dedicated for. Not all cores are supported for all families.</span><br>          <span class=\"yaml-commented-line\"># Possible options: <cortex-m33, cortex-a55, ele, v2x-1, v2x-2></span><br><span class=\"diff-removed\"><span class=\"yaml-key\">          core_id</span>: <span class=\"yaml-value\">cortex-m33</span></span><br>          <span class=\"yaml-commented-line\"># ----------------------------------===== Image encryption [Optional] =====-----------------------------------</span><br>          <span class=\"yaml-commented-line\"># Description: Determines, whether image is encrypted or not.</span><br><span class=\"diff-removed\"><span class=\"yaml-key\">          is_encrypted</span>: <span class=\"yaml-value\">false</span></span><br>          <span class=\"yaml-commented-line\"># -------------------------------------===== Boot flags [Optional] =====--------------------------------------</span><br>          <span class=\"yaml-commented-line\"># Description: Boot flags controlling SCFW boot.</span><br><span class=\"diff-removed\"><span class=\"yaml-key\">          boot_flags</span>: <span class=\"yaml-value\">0</span></span><br>          <span class=\"yaml-commented-line\"># ------------------------------------===== Start CPU ID [Optional] =====-------------------------------------</span><br>          <span class=\"yaml-commented-line\"># Description: Resource ID of CPU to be started</span><br><span class=\"diff-removed\"><span class=\"yaml-key\">          meta_data_start_cpu_id</span>: <span class=\"yaml-value\">0</span></span><br>          <span class=\"yaml-commented-line\"># ------------------------------===== CPU memory unit start ID [Optional] =====-------------------------------</span><br>          <span class=\"yaml-commented-line\"># Description: Resource ID of the MU associated with the CPU</span><br><span class=\"diff-removed\"><span class=\"yaml-key\">          meta_data_mu_cpu_id</span>: <span class=\"yaml-value\">0</span></span><br>          <span class=\"yaml-commented-line\"># ---------------------------------===== Start partition ID [Optional] =====----------------------------------</span><br>          <span class=\"yaml-commented-line\"># Description: Partition ID of the partition to start</span><br><span class=\"diff-removed\"><span class=\"yaml-key\">          meta_data_start_partition_id</span>: <span class=\"yaml-value\">0</span></span><br>          <span class=\"yaml-commented-line\"># ----------------------------------===== Images HASH type [Optional] =====-----------------------------------</span><br>          <span class=\"yaml-commented-line\"># Description: HASH type of image.</span><br>          <span class=\"yaml-commented-line\"># Possible options: <sha256, sha384, sha512, sm3></span><br><span class=\"diff-removed\"><span class=\"yaml-key\">          hash_type</span>: <span class=\"yaml-value\">sha512</span></span><br><span class=\"diff-removed\"></span><br>      <span class=\"yaml-commented-line\"># ================================================================================================================</span><br>      <span class=\"yaml-commented-line\">#                                      == Configuration of AHAB SRK table ==                                      </span><br>      <span class=\"yaml-commented-line\"># ================================================================================================================</span><br>      <span class=\"yaml-commented-line\"># ---------------------------------===== SRK Table [Conditionally required] =====---------------------------------</span><br>      <span class=\"yaml-commented-line\"># Description: SRK (Super Root key) table definition.</span><br><span class=\"diff-removed\"><span class=\"yaml-key\">      srk_table</span>: <span style=\"background-color: #FFFF00; border-radius: 5px; padding: 2px 6px; margin-left: 5px; font-size:\n",
       "0.8em;\">Set your own srk table</span></span><br>        <span class=\"yaml-commented-line\"># ----------------------------------------===== CA Flag [Optional] =====----------------------------------------</span><br>        <span class=\"yaml-commented-line\"># Description: CA Flag is used by HAB to indicate if the SRK is allowed to sign other keys. In AHAB CA Flag only</span><br>        <span class=\"yaml-commented-line\"># affects the final SRKH (Super Root Key Hash) value burned into chip fuses. It is not used in the AHAB signing</span><br>        <span class=\"yaml-commented-line\"># process itself. This option exists only for compatibility with systems where fuses are already programmed. In</span><br>        <span class=\"yaml-commented-line\"># most cases, this should remain false.</span><br><span class=\"diff-removed\"><span class=\"yaml-key\">        flag_ca</span>: <span class=\"yaml-value\">false</span></span><br>        <span class=\"yaml-commented-line\"># ------------------------------------===== Hash Algorithm [Optional] =====-------------------------------------</span><br>        <span class=\"yaml-commented-line\"># Description: Hash algorithm used for SRK records. If not specified, default algorithm based on key type will</span><br>        <span class=\"yaml-commented-line\"># be used.</span><br>        <span class=\"yaml-commented-line\"># Possible options: <default, sha256, sha384, sha512, sha3_256, sha3_384, sha3_512, shake_128_256,</span><br>        <span class=\"yaml-commented-line\"># shake_256_512, sm3></span><br><span class=\"diff-removed\"><span class=\"yaml-key\">        hash_algorithm</span>: <span class=\"yaml-value\">default</span></span><br>        <span class=\"yaml-commented-line\"># ------------------------------===== Super Root Key (SRK) table [Required] =====-------------------------------</span><br>        <span class=\"yaml-commented-line\"># Description: Table containing the used SRK records. All SRKs must be of the same type. Supported signing</span><br>        <span class=\"yaml-commented-line\"># algorithms are: RSA-PSS, ECDSA, Dilithium or SM2. Supported hash algorithms: sha256, sha384, sha512, sha3_256,</span><br>        <span class=\"yaml-commented-line\"># sha3_384, sha3_512, sm3. Supported key sizes/curves: prime256v1, sec384r1, sec512r1, rsa2048, rsa4096,</span><br>        <span class=\"yaml-commented-line\"># dilithium3, sm2. Certificate may be of Certificate Authority. Dilithium algorithms are supported just in new</span><br>        <span class=\"yaml-commented-line\"># type of AHAB container</span><br><span class=\"diff-removed\"><span class=\"yaml-key\">        srk_array</span>:</span><br><span class=\"diff-removed\"><span class=\"yaml-key\">          - </span>my_srk_public_key0.pub</span><br><span class=\"diff-removed\"><span class=\"yaml-key\">          - </span>my_srk_public_key1.pub</span><br><span class=\"diff-removed\"><span class=\"yaml-key\">          - </span>my_srk_public_key2.pub</span><br><span class=\"diff-removed\"><span class=\"yaml-key\">          - </span>my_srk_public_key3.pub</span><br><span class=\"diff-removed\"></span><br>      <span class=\"yaml-commented-line\"># ================================================================================================================</span><br>      <span class=\"yaml-commented-line\">#         == Optional configuration of AHAB Container Encryption blob (if not used, erase the section) ==         </span><br>      <span class=\"yaml-commented-line\"># ================================================================================================================</span><br>      <span class=\"yaml-commented-line\"># -------------------------------------===== Encryption blob [Optional] =====-------------------------------------</span><br>      <span class=\"yaml-commented-line\"># Description: Encryption blob container definition</span><br><span class=\"diff-removed\"><span class=\"yaml-key\">      blob</span>: <span style=\"background-color: #FFFF00; border-radius: 5px; padding: 2px 6px; margin-left: 5px; font-size: 0.8em;\">And\n",
       "finally remove unused parts for AHAB Certificate and Encryption blob</span></span><br>        <span class=\"yaml-commented-line\"># ------------------------------------===== Key identifier [Required] =====-------------------------------------</span><br>        <span class=\"yaml-commented-line\"># Description: The key identifier that has been used to generate DEK keyblob.</span><br><span class=\"diff-removed\"><span class=\"yaml-key\">        key_identifier</span>: <span class=\"yaml-value\">0</span></span><br>        <span class=\"yaml-commented-line\"># -------------------------------------===== DEK key size [Required] =====--------------------------------------</span><br>        <span class=\"yaml-commented-line\"># Description: Data Encryption key size. Used for AES CBC-MAC (128/192/256 size)</span><br>        <span class=\"yaml-commented-line\"># Possible options: <128, 192, 256></span><br><span class=\"diff-removed\"><span class=\"yaml-key\">        dek_key_size</span>: <span class=\"yaml-value\">128</span></span><br>        <span class=\"yaml-commented-line\"># ----------------------------------------===== DEK key [Required] =====----------------------------------------</span><br>        <span class=\"yaml-commented-line\"># Description: Data Encryption key. Used for AES CBC-MAC (128/192/256 size). The HEX format is accepted</span><br><span class=\"diff-removed\"><span class=\"yaml-key\">        dek_key</span>: <span class=\"yaml-value\">my_dek_key.txt</span></span><br>        <span class=\"yaml-commented-line\"># --------------------------------------===== DEK keyblob [Optional] =====--------------------------------------</span><br>        <span class=\"yaml-commented-line\"># Description: Wrapped Data Encryption key. Used for AES CBC-MAC (128/192/256 size). The HEX format is accepted.</span><br>        <span class=\"yaml-commented-line\"># If NOT used, the empty keyblob is inserted into container and need to be updated later.</span><br><span class=\"diff-removed\"><span class=\"yaml-key\">        dek_keyblob</span>: <span class=\"yaml-value\">my_wrapped_key.txt</span> <span style=\"background-color: #FFFF00; border-radius:\n",
       "5px; padding: 2px 6px; margin-left: 5px; font-size: 0.8em;\">And finally remove unused parts for AHAB Certificate and Encryption blob</span></span><br><span class=\"diff-removed\"></span></pre></div>\n",
       "            <div id=\"userConfigView_95dc47e83fc9dbf90ba3515dc1ee637c\" class=\"yaml-diff\" style=\"display:none;\"><pre class=\"yaml-diff\"><span class=\"yaml-commented-line\"># Copyright 2025 NXP</span><br><span class=\"yaml-commented-line\">#</span><br><span class=\"yaml-commented-line\"># SPDX-License-Identifier: BSD-3-Clause</span><br><br><span class=\"yaml-commented-line\"># ===========================  ahab Configuration template for mimx9352, Revision: latest.  ============================</span><br><br><span class=\"yaml-commented-line\"># ======================================================================================================================</span><br><span class=\"yaml-commented-line\">#                                                 == General Options ==</span><br><span class=\"yaml-commented-line\"># ======================================================================================================================</span><br><span class=\"yaml-commented-line\"># -------------------------------------===== The chip family name [Required] =====--------------------------------------</span><br><span class=\"yaml-commented-line\"># Description: NXP chip family identifier.</span><br><span class=\"yaml-key\">family</span>: <span class=\"yaml-value\">mimx9352</span><br><span class=\"yaml-commented-line\"># -----------------------------------------===== MCU revision [Optional] =====------------------------------------------</span><br><span class=\"yaml-commented-line\"># Description: Revision of silicon. The 'latest' name, means most current revision.</span><br><span class=\"yaml-commented-line\"># Possible options: <a0, a1, latest></span><br><span class=\"yaml-key\">revision</span>: <span class=\"yaml-value\">latest</span><br><span class=\"yaml-commented-line\"># -----------------------------------------===== Target memory [Optional] =====-----------------------------------------</span><br><span class=\"yaml-commented-line\"># Description: Target memory for AHAB container</span><br><span class=\"yaml-commented-line\"># Possible options: <serial_downloader, standard, nand_2k, nand_4k></span><br><span class=\"yaml-key\">target_memory</span>: <span class=\"yaml-value\">standard</span> <span style=\"background-color: #FFFF00; border-radius: 5px; padding: 2px\n",
       "6px; margin-left: 5px; font-size: 0.8em;\">Change the target memory to serial downloader</span><br><span class=\"yaml-commented-line\"># ---------------------------------------===== Output file name [Required] =====----------------------------------------</span><br><span class=\"yaml-commented-line\"># Description: Output AHAB file name</span><br><span class=\"yaml-key\">output</span>: <span class=\"yaml-value\">../outputs/os_cntr_signed.bin</span> <span style=\"background-color: #FFFF00; border-radius: 5px;\n",
       "padding: 2px 6px; margin-left: 5px; font-size: 0.8em;\">Change the output file name</span><br><span class=\"yaml-commented-line\"># ------------------------------===== List of containers present in AHAB [Required] =====-------------------------------</span><br><span class=\"yaml-commented-line\"># Description: The order of containers in the list defines the order in AHAB.</span><br><span class=\"yaml-key\">containers</span>:<br><span class=\"yaml-key\">  -</span><br>  <span class=\"yaml-commented-line\"># ====================================================================================================================</span><br>  <span class=\"yaml-commented-line\">#                                          == AHAB Container Configuration ==</span><br>  <span class=\"yaml-commented-line\"># ====================================================================================================================</span><br><br>    <span class=\"yaml-commented-line\"># --------------------------------------===== AHAB Container [Required] =====---------------------------------------</span><br>    <span class=\"yaml-commented-line\"># Description: Configurable Container format to add to AHAB image. This allow to configure all aspects of the AHAB</span><br>    <span class=\"yaml-commented-line\"># container.</span><br><span class=\"yaml-key\">    container</span>:<br>      <span class=\"yaml-commented-line\"># --------------------------------===== Super Root Key (SRK) set [Required] =====---------------------------------</span><br>      <span class=\"yaml-commented-line\"># Description: Defines which set is used to authenticate the container.</span><br>      <span class=\"yaml-commented-line\"># Possible options: <none, oem, nxp></span><br><span class=\"yaml-key\">      srk_set</span>: <span class=\"yaml-value\">oem</span><br>      <span class=\"yaml-commented-line\"># ---------------------------------===== Used SRK [Conditionally required] =====----------------------------------</span><br>      <span class=\"yaml-commented-line\"># Description: Which key from SRK set is being used.</span><br><span class=\"yaml-key\">      used_srk_id</span>: <span class=\"yaml-value\">0</span><br>      <span class=\"yaml-commented-line\"># -------------------------------------===== SRK revoke mask [Optional] =====-------------------------------------</span><br>      <span class=\"yaml-commented-line\"># Description: Bit-mask to indicate which SRKs to revoke. Bit set to 1 means revoke key. Bit 0 = revoke SRK_0, bit</span><br>      <span class=\"yaml-commented-line\"># 1 = revoke SRK_1 etc. Example of revocation SRK_0 and SRK_1 - the value should be 0x03</span><br><span class=\"yaml-key\">      srk_revoke_mask</span>: <span class=\"yaml-value\">0</span><br>      <span class=\"yaml-commented-line\"># --------------------------------------===== Fuse version [Optional] =====---------------------------------------</span><br>      <span class=\"yaml-commented-line\"># Description: The value must be equal or greater than the version stored in fuses to allow loading this</span><br>      <span class=\"yaml-commented-line\"># container.</span><br><span class=\"yaml-key\">      fuse_version</span>: <span class=\"yaml-value\">0</span><br>      <span class=\"yaml-commented-line\"># ------------------------------------===== Software version [Optional] =====-------------------------------------</span><br>      <span class=\"yaml-commented-line\"># Description: Number used by Privileged Host Boot Companion (PHBC) to select between multiple images with same</span><br>      <span class=\"yaml-commented-line\"># Fuse version field.</span><br><span class=\"yaml-key\">      sw_version</span>: <span class=\"yaml-value\">0</span><br><span class=\"yaml-key\">      signer</span>: <span class=\"yaml-value\">./keys/RoT_key0_secp384r1.pem </span><span class=\"yaml-commented-line\"># [Conditionally required], AHAB container signing key, Private key used for sign the container header. Header can be signed by SRK or by image key that was signed by SRK. If an image key is used, it must be the same algorithm and key size as the SRK. In both cases, the referenced SRK must not have been revoked.</span><br>      <span class=\"yaml-commented-line\"># ================================================================================================================</span><br>      <span class=\"yaml-commented-line\">#                     == Configuration of AHAB Container images (array of multiple images) ==</span><br>      <span class=\"yaml-commented-line\"># ================================================================================================================</span><br>      <span class=\"yaml-commented-line\"># ---------------------------------------===== Image array [Required] =====---------------------------------------</span><br>      <span class=\"yaml-commented-line\"># Description: Array of image entries.</span><br><span class=\"yaml-key\">      images</span>:<br>        <span class=\"yaml-commented-line\"># ===============================================================================================</span><br>        <span class=\"yaml-commented-line\">#                              == Linux Kernel Image Entry ==</span><br>        <span class=\"yaml-commented-line\"># ===============================================================================================</span><br><span class=\"yaml-key\">        - </span>kernel: <span class=\"yaml-value\">inputs/Image</span> <span style=\"background-color: #FFFF00; border-radius: 5px;\n",
       "padding: 2px 6px; margin-left: 5px; font-size: 0.8em;\">Change the kernel path</span><br><span class=\"yaml-key\">          hash_type</span>: <span class=\"yaml-value\">sha384</span><br><br>        <span class=\"yaml-commented-line\"># ===============================================================================================</span><br>        <span class=\"yaml-commented-line\">#                              == Device Tree Blob Entry ==</span><br>        <span class=\"yaml-commented-line\"># ===============================================================================================</span><br><span class=\"yaml-key\">        - </span>dtb: <span class=\"yaml-value\">inputs/imx93-9x9-qsb.dtb</span> <span style=\"background-color: #FFFF00; border-radius:\n",
       "5px; padding: 2px 6px; margin-left: 5px; font-size: 0.8em;\">Change the dtb path</span><br><span class=\"yaml-key\">          hash_type</span>: <span class=\"yaml-value\">sha384</span><br><br>        <span class=\"yaml-commented-line\"># ----------------------------------------------------------------------------------------------------</span><br>        <span class=\"yaml-commented-line\">#                                == Configuration of AHAB SRK table ==</span><br>        <span class=\"yaml-commented-line\"># ----------------------------------------------------------------------------------------------------</span><br><span class=\"yaml-key\">      srk_table</span>: <span class=\"yaml-commented-line\"># [Conditionally required], SRK Table, SRK (Super Root key) table definition.</span><br><span class=\"yaml-key\">        srk_array</span>: <span class=\"yaml-commented-line\"># [Required], Super Root Key (SRK) table, Table containing the used SRK records. All SRKs must be of the same type. Supported signing algorithms are: RSASSA-PSS or ECDSA. Supported hash algorithms: sha256, sha384, sha512. Supported key sizes/curves: prime256v1, sec384r1, sec512r1, rsa2048, rsa4096. Certificate may be of Certificate Authority.</span><br><span class=\"yaml-key\">          - </span>./keys/RoT_key0_secp384r1.pub <span class=\"yaml-commented-line\"># SRK key, Path to SRK Key file.</span><br><span class=\"yaml-key\">          - </span>./keys/RoT_key1_secp384r1.pub <span class=\"yaml-commented-line\"># SRK key, Path to SRK Key file.</span><br><span class=\"yaml-key\">          - </span>./keys/RoT_key2_secp384r1.pub <span class=\"yaml-commented-line\"># SRK key, Path to SRK Key file.</span><br><span class=\"yaml-key\">          - </span>./keys/RoT_key3_secp384r1.pem <span class=\"yaml-commented-line\"># SRK key, Path to SRK Key file.</span><br></pre></div>\n",
       "            </div>\n",
       "            "
      ],
      "text/plain": [
       "<IPython.core.display.HTML object>"
      ]
     },
     "execution_count": null,
     "metadata": {},
     "output_type": "execute_result"
    }
   ],
   "source": [
    "KERNEL_CONTAINER_CONFIG = \"./inputs/imx93_signed_ahab_kernel_dtb.yaml\"\n",
    "KERNEL_CONTAINER = \"./outputs/os_cntr_signed.bin\"\n",
    "YamlDiffWidget(\"./inputs/imx93_signed_ahab_kernel_dtb.diffc\").html"
   ]
  },
  {
   "cell_type": "code",
   "execution_count": 5,
   "id": "af5251be",
   "metadata": {},
   "outputs": [
    {
     "name": "stdout",
     "output_type": "stream",
     "text": [
      "nxpimage -v ahab export -c ./inputs/imx93_signed_ahab_kernel_dtb.yaml \n",
      "\u001b[37m\u001b[1mINFO:spsdk.apps.nxpimage_apps.nxpimage_ahab:Created AHAB Image:\n",
      "Name:      AHAB Image\n",
      "Starts:    0x0\n",
      "Ends:      0x21f7bff\n",
      "Size:      Size: 34.0 MiB; 35,617,792 B\n",
      "Alignment: 512 B\n",
      "Execution Start Address: Not defined\n",
      "Pattern:zeros\n",
      "AHAB Image for mimx9352, Revision: latest\n",
      "\u001b[39m\u001b[0m\n",
      "\u001b[37m\u001b[1mINFO:spsdk.apps.nxpimage_apps.nxpimage_ahab:Created AHAB Image memory map:\n",
      "\n",
      "\u001b[90m+==0x0000_0000= AHAB Image ============+\n",
      "\u001b[90m|     Size: 34.0 MiB; 35,617,792 B     |\n",
      "\u001b[90m|  AHAB Image for mimx9352, Revision:  |\n",
      "\u001b[90m|                latest                |\n",
      "\u001b[90m|            Pattern: zeros            |\n",
      "\u001b[90m|\u001b[34m+==0x0000_0000= AHAB Containers =====+\u001b[90m|\n",
      "\u001b[90m|\u001b[34m|       Size: 8.0 kiB; 8,192 B       |\u001b[90m|\n",
      "\u001b[90m|\u001b[34m|       AHAB Containers block        |\u001b[90m|\n",
      "\u001b[90m|\u001b[34m|           Pattern: zeros           |\u001b[90m|\n",
      "\u001b[90m|\u001b[34m|\u001b[90m+==0x0000_0000= AHAB Container 0 ==+\u001b[34m|\u001b[90m|\n",
      "\u001b[90m|\u001b[34m|\u001b[90m|           Size: 832 B            |\u001b[34m|\u001b[90m|\n",
      "\u001b[90m|\u001b[34m|\u001b[90m|  AHAB Container for oem_SWver:0  |\u001b[34m|\u001b[90m|\n",
      "\u001b[90m|\u001b[34m|\u001b[90m+==0x0000_033f=====================+\u001b[34m|\u001b[90m|\n",
      "\u001b[90m|\u001b[34m+==0x0000_1fff=======================+\u001b[90m|\n",
      "\u001b[90m|\u001b[32m+==0x0000_2000= Linux Kernel Image ==+\u001b[90m|\n",
      "\u001b[90m|\u001b[32m|    Size: 33.9 MiB; 35,564,032 B    |\u001b[90m|\n",
      "\u001b[90m|\u001b[32m|AHAB data block for cortex-a55 core |\u001b[90m|\n",
      "\u001b[90m|\u001b[32m|     and executable Image Type.     |\u001b[90m|\n",
      "\u001b[90m|\u001b[32m+==0x021e_c9ff=======================+\u001b[90m|\n",
      "\u001b[90m|              Gap: 512 B              |\n",
      "\u001b[90m|\u001b[36m+==0x021e_cc00= Device Tree Blob ====+\u001b[90m|\n",
      "\u001b[90m|\u001b[36m|      Size: 44.0 kiB; 45,056 B      |\u001b[90m|\n",
      "\u001b[90m|\u001b[36m|AHAB data block for cortex-a55 core |\u001b[90m|\n",
      "\u001b[90m|\u001b[36m|        and data Image Type.        |\u001b[90m|\n",
      "\u001b[90m|\u001b[36m+==0x021f_7bff=======================+\u001b[90m|\n",
      "\u001b[90m+==0x021f_7bff=========================+\n",
      "\u001b[39m\u001b[39m\u001b[0m\n",
      "Success. (AHAB: outputs/os_cntr_signed.bin created.)\n",
      "\u001b[37m\u001b[1mINFO:spsdk.image.ahab.ahab_container:Generated file containing SRK hash: outputs/ahab_oem0_srk0_hash.txt\u001b[39m\u001b[0m\n",
      "\u001b[37m\u001b[1mINFO:spsdk.image.ahab.ahab_container:\n",
      "Fuses info:\n",
      "\n",
      " --== Grouped register name: SRKH ==-- \n",
      "OTP ID: 128, Value: 0xA69C79E7\n",
      "OTP ID: 129, Value: 0x578B8D35\n",
      "OTP ID: 130, Value: 0x5DF512B9\n",
      "OTP ID: 131, Value: 0x5C13EE65\n",
      "OTP ID: 132, Value: 0x2F06222F\n",
      "OTP ID: 133, Value: 0xEA8799AB\n",
      "OTP ID: 134, Value: 0x2A25A34B\n",
      "OTP ID: 135, Value: 0x3AB3699A\n",
      "\u001b[39m\u001b[0m\n",
      "\u001b[37m\u001b[1mINFO:spsdk.image.ahab.ahab_container:Generated script for writing fuses for container 0: outputs/ahab_oem0_srk0_hash_nxpele.bcf\u001b[39m\u001b[0m\n",
      "Exporting AHAB fuses to the output directory.\n",
      "outputs/ahab_oem0_srk0_hash.txt\n",
      "outputs/ahab_oem0_srk0_hash_nxpele.bcf\n"
     ]
    }
   ],
   "source": [
    "%! nxpimage -v ahab export -c $KERNEL_CONTAINER_CONFIG"
   ]
  },
  {
   "cell_type": "markdown",
   "id": "c1414db9",
   "metadata": {},
   "source": [
    "## 3 Image Download\n",
    "\n",
    "First we will download the WIC image onto the board, which by default comes with an unsigned bootloader and Linux kernel (amongst other things like root filesystem, software, etc.)\n",
    "\n",
    "It is possible to replace U-Boot with a signed one in the `.wic` file, but the issue with that is that once we do that, the system wont boot, because the signed bootloader will also expect a signed kernel image with device tree blob.\n",
    "\n",
    "For completeness the script below would replace the old U-Boot with the new signed one:\n",
    "\n",
    "WIC = \"./dist/imx-image-full-imx93evk.wic\"\n",
    "\n",
    "%! nxpimage bootable-image wic update-uboot -b $WIC -u $U_BOOT_FLASH_BOOT\n",
    "\n",
    "To download the WIC image onto the board we can use the SPSDK utility `nxpuuu`. As the WIC image often has size of several gigabytes, this process can take several minutes.\n",
    "\n",
    "First we set our iMX93 board into serial download mode, then use the following command:"
   ]
  },
  {
   "cell_type": "code",
   "execution_count": 6,
   "id": "a946d3f6",
   "metadata": {},
   "outputs": [
    {
     "name": "stdout",
     "output_type": "stream",
     "text": [
      "nxpuuu write -f mimx9352 -b emmc_all ./dist/imx-image-full-imx93evk.wic \n",
      "SDPS: boot -scanterm -f ./dist/imx-image-full-imx93evk.wic -scanlimited 0x800000\n",
      "\n",
      "\n",
      "FB: flash -raw2sparse all ./dist/imx-image-full-imx93evk.wic\n",
      "\n",
      "\n",
      "Success\n"
     ]
    }
   ],
   "source": [
    "WIC = \"./dist/imx-image-full-imx93evk.wic\"\n",
    "%! nxpuuu write -f mimx9352 -b emmc_all $WIC"
   ]
  },
  {
   "cell_type": "markdown",
   "id": "7e3acdfe",
   "metadata": {},
   "source": [
    "## 4 Bootloader replacement\n",
    "Now that we have uploaded the `.wic` image onto the board, we can proceed with replacing the bootloader with the signed one, as we did not modify the `.wic` image.\n",
    "\n",
    "Since we just uploaded the `.wic` image onto the board, we should still be in serial download mode.\n",
    "\n",
    "Following command writes the new bootloader onto the emmc:"
   ]
  },
  {
   "cell_type": "code",
   "execution_count": 7,
   "id": "a1a5c9b8",
   "metadata": {},
   "outputs": [
    {
     "name": "stdout",
     "output_type": "stream",
     "text": [
      "nxpuuu write -f mimx9352 -b emmc ./outputs/imx93-ahab-uboot-signed.bin \n",
      "SDPS: boot -f ./outputs/imx93-ahab-uboot-signed.bin\n",
      "\n",
      "\n",
      "Success\n"
     ]
    }
   ],
   "source": [
    "%! nxpuuu write -f mimx9352 -b emmc $U_BOOT_FLASH_BOOT"
   ]
  },
  {
   "cell_type": "markdown",
   "id": "60075d88",
   "metadata": {},
   "source": [
    "## 5 Kernel replacement\n",
    "\n",
    "Now that we uploaded signed bootloader, namely U-Boot which now expects a signed kernel image named `os_cntr_signed.bin` in the FAT partition, which is why we need to upload it."
   ]
  },
  {
   "cell_type": "code",
   "execution_count": 8,
   "id": "c941127d",
   "metadata": {},
   "outputs": [],
   "source": [
    "import os\n",
    "\n",
    "KERNEL_SIZE = hex(os.path.getsize(KERNEL_CONTAINER))\n",
    "FASTBOOT_BUFFER_ADDRESS = hex(0x98000000)\n",
    "MMCDEV = 0\n",
    "MMCPART = 1"
   ]
  },
  {
   "cell_type": "code",
   "execution_count": 9,
   "id": "8c3baaad",
   "metadata": {},
   "outputs": [
    {
     "name": "stdout",
     "output_type": "stream",
     "text": [
      "nxpuuu run \"FB: ucmd setenv stdout serial,fastboot\" \n",
      "Success\n",
      "nxpuuu run \"FB: ucmd setenv fastboot_buffer 0x98000000\" \n",
      "Success\n",
      "nxpuuu run \"FB: download -f ./outputs/os_cntr_signed.bin\" \n",
      "Response: Starting download of 35617792 bytes\n",
      "..........................................................................\n",
      "..........................................................................\n",
      "..........................................................................\n",
      ".................................................\n",
      "downloading of 35617792 bytes finished\n",
      "\n",
      "Success\n",
      "nxpuuu run \"FB: ucmd fatwrite mmc 0:1 0x98000000 Image 0x21f7c00\" \n",
      "Response: 35617792 bytes written in 195 ms (174.2 MiB/s)\n",
      "\n",
      "Success\n"
     ]
    }
   ],
   "source": [
    "# We turn on the u-boot console multiplexing into terminal so that we are able to see the output\n",
    "%! nxpuuu run \"FB: ucmd setenv stdout serial,fastboot\"\n",
    "# We set fastboot buffer to a known address we have access to, in this case 0x98000000\n",
    "%! nxpuuu run \"FB: ucmd setenv fastboot_buffer $FASTBOOT_BUFFER_ADDRESS\"\n",
    "# Download the kernel\n",
    "%! nxpuuu run \"FB: download -f $KERNEL_CONTAINER\"\n",
    "# Write the kernel to FAT partition, these parameters may vary if we use SD card etc.\n",
    "%! nxpuuu run \"FB: ucmd fatwrite mmc $MMCDEV:$MMCPART $FASTBOOT_BUFFER_ADDRESS Image $KERNEL_SIZE\""
   ]
  },
  {
   "cell_type": "markdown",
   "id": "33ca8922",
   "metadata": {},
   "source": [
    "We can now delete the old unsigned kernel, note that this step is optional, but the signed bootloader should not be loading unsigned kernel by default."
   ]
  },
  {
   "cell_type": "code",
   "execution_count": 10,
   "id": "08675244",
   "metadata": {},
   "outputs": [
    {
     "name": "stdout",
     "output_type": "stream",
     "text": [
      "nxpuuu -v run \"FB: ucmd fatrm mmc 0:1 Image\" \n",
      "Success\n"
     ]
    }
   ],
   "source": [
    "%! nxpuuu -v run \"FB: ucmd fatrm mmc 0:1 Image\""
   ]
  },
  {
   "cell_type": "markdown",
   "id": "12b71ea0",
   "metadata": {},
   "source": [
    "We can list the fat partition and see the various device tree blobs, other binaries, and most importantly our `os_cntr_signed.bin` file."
   ]
  },
  {
   "cell_type": "code",
   "execution_count": 11,
   "id": "d6545de6",
   "metadata": {},
   "outputs": [
    {
     "name": "stdout",
     "output_type": "stream",
     "text": [
      "nxpuuu -v run \"FB: ucmd fatls mmc 0:1\" \n",
      "Response:  35617792   Image\n",
      "    69501   imx93-11x11-evk-aud-hat.dtb\n",
      "    66805   imx93-11x11-evk-boe-wxga-lvds-panel.dtb\n",
      "    65761   imx93-11x11-evk-flexio-i2c.dtb\n",
      "    66065   imx93-11x11-evk-flexspi-m2.dtb\n",
      "    66855   imx93-11x11-evk-i2c-spi-slave.dtb\n",
      "    65118   imx93-11x11-evk-i3c.dtb\n",
      "     2725   imx93-11x11-evk-inmate.dtb\n",
      "    51206   imx93-11x11-evk-iw612-otbr.dtb\n",
      "    65418   imx93-11x11-evk-ld.dtb\n",
      "    65576   imx93-11x11-evk-lpuart.dtb\n",
      "    66039   imx93-11x11-evk-mqs.dtb\n",
      "    68870   imx93-11x11-evk-mt9m114.dtb\n",
      "    70541   imx93-11x11-evk-pmic-pf0900-aud-hat.dtb\n",
      "    67845   imx93-11x11-evk-pmic-pf0900-boe-wxga-lvds-panel.dtb\n",
      "    66801   imx93-11x11-evk-pmic-pf0900-flexio-i2c.dtb\n",
      "    67105   imx93-11x11-evk-pmic-pf0900-flexspi-m2.dtb\n",
      "    67895   imx93-11x11-evk-pmic-pf0900-i2c-spi-slave.dtb\n",
      "    66158   imx93-11x11-evk-pmic-pf0900-i3c.dtb\n",
      "    66458   imx93-11x11-evk-pmic-pf0900-ld.dtb\n",
      "    66616   imx93-11x11-evk-pmic-pf0900-lpuart.dtb\n",
      "    67079   imx93-11x11-evk-pmic-pf0900-mqs.dtb\n",
      "    69910   imx93-11x11-evk-pmic-pf0900-mt9m114.dtb\n",
      "    66915   imx93-11x11-evk-pmic-pf0900-rm67199.dtb\n",
      "    66669   imx93-11x11-evk-pmic-pf0900-root.dtb\n",
      "    67204   imx93-11x11-evk-pmic-pf0900-rpmsg-lpv.dtb\n",
      "    67228   imx93-11x11-evk-pmic-pf0900-rpmsg.dtb\n",
      "    66414   imx93-11x11-evk-pmic-pf0900.dtb\n",
      "    65875   imx93-11x11-evk-rm67199.dtb\n",
      "    65629   imx93-11x11-evk-root.dtb\n",
      "    66164   imx93-11x11-evk-rpmsg-lpv.dtb\n",
      "    66188   imx93-11x11-evk-rpmsg.dtb\n",
      "    65374   imx93-11x11-evk.dtb\n",
      "    49548   imx93-14x14-evk-aud-hat.dtb\n",
      "    46985   imx93-14x14-evk-dsi-serdes.dtb\n",
      "    46290   imx93-14x14-evk-flexspi-m2.dtb\n",
      "    45470   imx93-14x14-evk-i3c.dtb\n",
      "    46050   imx93-14x14-evk-lvds-it6263.dtb\n",
      "    46474   imx93-14x14-evk-mqs.dtb\n",
      "    46294   imx93-14x14-evk-rm67199.dtb\n",
      "    48085   imx93-14x14-evk-sja1105.dtb\n",
      "    46367   imx93-14x14-evk-tja1103.dtb\n",
      "    45772   imx93-14x14-evk.dtb\n",
      "    47890   imx93-9x9-qsb-aud-hat.dtb\n",
      "    45350   imx93-9x9-qsb-can1.dtb\n",
      "    45511   imx93-9x9-qsb-flexspi-m2.dtb\n",
      "    44511   imx93-9x9-qsb-i3c.dtb\n",
      "    45025   imx93-9x9-qsb-ld.dtb\n",
      "    45271   imx93-9x9-qsb-lpspi-slave.dtb\n",
      "    45384   imx93-9x9-qsb-lpspi.dtb\n",
      "    47807   imx93-9x9-qsb-mt9m114.dtb\n",
      "    45467   imx93-9x9-qsb-ontat-wvga-panel.dtb\n",
      "    45364   imx93-9x9-qsb-rpmsg-lpv.dtb\n",
      "    45388   imx93-9x9-qsb-rpmsg.dtb\n",
      "    45555   imx93-9x9-qsb-tianma-wvga-panel.dtb\n",
      "    44981   imx93-9x9-qsb.dtb\n",
      "            mcore-demos/\n",
      "   593744   tee.bin\n",
      "  1185792   u-boot-atf-container.img\n",
      " 35355200   uImage\n",
      "    77661   imx93-11x11-evk-falcon.dtb\n",
      " 35617792   os_cntr_signed.bin\n",
      "\n",
      "61 file(s), 1 dir(s)\n",
      "\n",
      "\n",
      "Success\n"
     ]
    }
   ],
   "source": [
    "%! nxpuuu -v run \"FB: ucmd fatls mmc 0:1\""
   ]
  },
  {
   "cell_type": "markdown",
   "id": "1def1cad",
   "metadata": {},
   "source": [
    "## 6 Boot of authenticated container\n",
    "\n",
    "Now that everything is done, we can change the boot mode to EMMC and see that the authenicated container is booting. \n",
    "\n",
    "\n",
    "To check if the authenticated container is being booted, we deleted the original unsigned kernel `Image`.\n",
    "\n",
    "And during the boot we should see the following message in the console:\n",
    "\n",
    "```\n",
    "Running BSP bootcmd ...\n",
    "switch to partitions #0, OK\n",
    "mmc0(part 0) is current device\n",
    "Failed to load 'boot.scr'\n",
    "35807506 bytes read in 132 ms (258.7 MiB/s)\n",
    "Booting from mmc ...\n",
    "Authenticate OS container at 0x98000000\n",
    "mu receive msg wait 1s\n",
    "mu receive msg wait 2s\n",
    "## Flattened Device Tree blob at 83000000\n",
    "   Booting using the fdt blob at 0x83000000\n",
    "Working FDT set to 83000000\n",
    "   Using Device Tree in place at 0000000083000000, end 000000008300dfbc\n",
    "Working FDT set to 83000000\n",
    "\n",
    "Starting kernel ...\n",
    "\n",
    "[    0.000000] Booting Linux on physical CPU 0x0000000000 [0x412fd050]\n",
    "```\n"
   ]
  }
 ],
 "metadata": {
  "kernelspec": {
   "display_name": "venv (3.12.10)",
   "language": "python",
   "name": "python3"
  },
  "language_info": {
   "codemirror_mode": {
    "name": "ipython",
    "version": 3
   },
   "file_extension": ".py",
   "mimetype": "text/x-python",
   "name": "python",
   "nbconvert_exporter": "python",
   "pygments_lexer": "ipython3",
   "version": "3.12.10"
  }
 },
 "nbformat": 4,
 "nbformat_minor": 5
}
