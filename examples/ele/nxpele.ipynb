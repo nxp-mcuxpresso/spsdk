{
 "cells": [
  {
   "cell_type": "markdown",
   "id": "b7a25511",
   "metadata": {},
   "source": [
    "# EdgeLock Secure Enclave (nxpele utility)\n",
    "\n",
    "EdgeLock Secure Enclave (ELE) is NXP's hardware-based security subsystem designed to provide robust protection for sensitive operations and data in embedded systems. It serves as a dedicated security processor that handles cryptographic operations, secure key storage, authentication, and trusted execution environments, effectively isolating critical security functions from the main application processor.\n",
    "\n",
    "## Nxpele tool\n",
    "\n",
    "Nxpele is a utility for communicating with the ELE on target devices over blhost (mboot) or U-Boot. See `nxpele --help` for details. \n",
    "It provides three communication options with ELE, specified using the `--device (-d)` parameter:\n",
    "\n",
    "1. **Blhost (mboot)**\n",
    "   - For i.MX RT1180 MCU, you can communicate with the EdgeLock Enclave via the blhost (mboot) interface.\n",
    "\n",
    "2. **U-Boot serial**\n",
    "   - For MPUs like i.MX 8x or i.MX 9x series, you can communicate with EdgeLock Enclave using the U-Boot serial interface. Once U-Boot is booted, find its serial port to establish a connection and send commands to the ELE subsystem.\n",
    "\n",
    "3. **U-Boot fastboot**\n",
    "   - An alternative method for communicating with ELE on MPU platforms with U-Boot is through the fastboot protocol. In this case, U-Boot also needs to be running, but communication happens through the fastboot interface, which can provide faster and more reliable data transfer compared to serial connection. Fastboot must be started before communication. You can start fastboot directly in the U-Boot console using the `fastboot` command, or by sending an `nxpele` command with the appropriate U-Boot console COM port and `-d uboot_fastboot` parameter, for example:\n",
    "\n",
    "   ```bash\n",
    "   nxpele --port COM3 --device uboot_fastboot --family mimx9596 get-info\n",
    "   ```\n",
    "\n",
    "   > **NOTE**: To use the nxpele app over fastboot, you need to build U-Boot with the flag `CONFIG_CONSOLE_MUX=y`.\n"
   ]
  },
  {
   "cell_type": "markdown",
   "id": "3002eccd",
   "metadata": {},
   "source": [
    "## Nxpele commands\n",
    "\n",
    "Nxpele provides several commands to interact with the EdgeLock Secure Enclave (ELE). Below are examples demonstrating common usage scenarios. \n",
    "These examples are used on i.MX95 devices, but you can specify your own family to run these commands."
   ]
  },
  {
   "cell_type": "code",
   "execution_count": 1,
   "id": "7d25b00d",
   "metadata": {},
   "outputs": [
    {
     "name": "stdout",
     "output_type": "stream",
     "text": [
      "env: JUPYTER_SPSDK=1\n",
      "Created `%!` as an alias for `%execute`.\n"
     ]
    }
   ],
   "source": [
    "# This env variable sets colored logger output to STDOUT\n",
    "# Execute this cell to enable execution of the ! line magic\n",
    "%env JUPYTER_SPSDK=1\n",
    "%alias execute echo %l && %l\n",
    "%alias_magic ! execute\n",
    "\n",
    "FAMILY = \"mimx9596\"\n",
    "PORT = \"com266\""
   ]
  },
  {
   "cell_type": "markdown",
   "id": "e1e9feef",
   "metadata": {},
   "source": [
    "### U-Boot serial interface\n",
    "Nxpele provides some commands to get information about currently connected device, for example `get-info`, `get-ele-fw-status`, `get-events`, etc."
   ]
  },
  {
   "cell_type": "code",
   "execution_count": 2,
   "id": "fb955058",
   "metadata": {},
   "outputs": [
    {
     "name": "stdout",
     "output_type": "stream",
     "text": [
      "nxpele --family mimx9596 --port com266 --device uboot_serial get-info \n",
      "ELE get info ends successfully:\n",
      "Command:              0xda\n",
      "Version:              3\n",
      "Length:               256\n",
      "SoC ID:               MX95 - 0x9500\n",
      "SoC version:          B000\n",
      "Life Cycle:           OEM_CLSD - 0x0040\n",
      "SSSM state:           4\n",
      "Attest API version:   0\n",
      "UUID:                 c9d88ddf5ace444da168dd2a520630e1\n",
      "SHA256 ROM PATCH:     72d02b666a524aca0a3162accb4c8de7af33083fc2faefb249d87c7de1437c81\n",
      "SHA256 FW:            9fdfd92f6f1a6e222362b4a9b5110a964df304a66f91e343d25c3be6a88b75c9\n",
      "Advanced information:\n",
      "  OEM SRKH:           41a3ab5e956ff6649e843f2686ada51840415d2fa2b6508960098d5bf6f41f27eafeff21a88f3c4b2ccf08895c1440f4b2675fb0bfe5675333b5fcbb3fba9a45\n",
      "  CSAL state:         EdgeLock secure enclave random context initialization succeed - 0x02\n",
      "  TRNG state:         TRNG entropy is valid and ready to be read - 0x03\n",
      "  OEM PQC SRKH:       643dcc626197897115d7cce1ec079c479399af59cd46b9b45b6578fabe86d20e788683151239d8128c4f8ccc871ea86c9d8ee58b6e03e9bf8fdbde6b21b5bd09\n",
      "\n"
     ]
    }
   ],
   "source": [
    "%! nxpele --family $FAMILY --port $PORT --device uboot_serial get-info"
   ]
  },
  {
   "cell_type": "markdown",
   "id": "30301fa0",
   "metadata": {},
   "source": [
    "Other important functionality of nxpele is writing/reading fuses using `read-common-fuse` and `write-fuse` commands. "
   ]
  },
  {
   "cell_type": "code",
   "execution_count": 3,
   "id": "e26dd814",
   "metadata": {},
   "outputs": [
    {
     "name": "stdout",
     "output_type": "stream",
     "text": [
      "nxpele --family mimx9596 --port com266 --device uboot_serial read-common-fuse --index 128 \n",
      "Read common fuse ends successfully.\n",
      "Fuse ID_128: 0x5EABA341\n",
      "\n"
     ]
    }
   ],
   "source": [
    "%! nxpele --family $FAMILY --port $PORT --device uboot_serial read-common-fuse --index 128"
   ]
  },
  {
   "cell_type": "code",
   "execution_count": 4,
   "id": "d0ab8f6d",
   "metadata": {},
   "outputs": [],
   "source": [
    "INDEX = \"\"  # specify index of the fuse to write\n",
    "DATA = \"\"  # specify data to write to the fuse"
   ]
  },
  {
   "cell_type": "markdown",
   "id": "8dbd5c8b",
   "metadata": {},
   "source": [
    "```bash\n",
    "%! nxpele --family $FAMILY --port $PORT --device uboot_serial write-fuse --index $INDEX --data $DATA\n",
    "```"
   ]
  },
  {
   "cell_type": "markdown",
   "id": "9059fb93",
   "metadata": {},
   "source": [
    "> **NOTE**: Writing fuses is one-time operation and cannot be reversed. Be very careful when programming fuses."
   ]
  },
  {
   "cell_type": "markdown",
   "id": "91d7ba17",
   "metadata": {},
   "source": [
    "Other important functionality of nxpele is generating keyblob used for encryption of the images. For more infomation about encrypted boot please refer to [i.MX 95 Encrypted Boot](../ahab/imx95/imx95_encrypted_signed_ahab_uboot.ipynb) documentation."
   ]
  },
  {
   "cell_type": "code",
   "execution_count": 5,
   "id": "10342602",
   "metadata": {},
   "outputs": [
    {
     "name": "stdout",
     "output_type": "stream",
     "text": [
      "nxpele --family mimx9596 --port com266 generate-keyblob DEK --algorithm AES_CBC --key-id 0 --key ../_data/keys/dek_key.txt --key-size 128 \n",
      "ELE generate DEK key blob ends successfully:\n",
      "0048008101100300dd05d479565080a1859f828a959d6b5f2d94620c1bf9ea2b0287da42c9b46bb51eb302e7b541370dcbbe6d904531e33c29d4df2bb42cd8c4f96b703f6274a33b\n"
     ]
    }
   ],
   "source": [
    "DEK_KEY = \"../_data/keys/dek_key.txt\"\n",
    "\n",
    "%! nxpele --family $FAMILY --port $PORT generate-keyblob DEK --algorithm AES_CBC --key-id 0 --key $DEK_KEY --key-size 128"
   ]
  },
  {
   "cell_type": "markdown",
   "id": "9cb387e2",
   "metadata": {},
   "source": [
    "### U-Boot fastboot interface\n",
    "\n",
    "All the functionalities shown before can also be performed using U-Boot's fastboot interface. As mentioned before, fastboot needs to be started directly in the U-Boot console using the `fastboot` command or with the `-d` parameter on the nxpele command:"
   ]
  },
  {
   "cell_type": "code",
   "execution_count": 6,
   "id": "30d443db",
   "metadata": {},
   "outputs": [
    {
     "name": "stdout",
     "output_type": "stream",
     "text": [
      "nxpele --family mimx9596 --port com266 --device uboot_fastboot get-info \n",
      "ELE get info ends successfully:\n",
      "Command:              0xda\n",
      "Version:              3\n",
      "Length:               256\n",
      "SoC ID:               MX95 - 0x9500\n",
      "SoC version:          B000\n",
      "Life Cycle:           OEM_CLSD - 0x0040\n",
      "SSSM state:           4\n",
      "Attest API version:   0\n",
      "UUID:                 c9d88ddf5ace444da168dd2a520630e1\n",
      "SHA256 ROM PATCH:     72d02b666a524aca0a3162accb4c8de7af33083fc2faefb249d87c7de1437c81\n",
      "SHA256 FW:            9fdfd92f6f1a6e222362b4a9b5110a964df304a66f91e343d25c3be6a88b75c9\n",
      "Advanced information:\n",
      "  OEM SRKH:           41a3ab5e956ff6649e843f2686ada51840415d2fa2b6508960098d5bf6f41f27eafeff21a88f3c4b2ccf08895c1440f4b2675fb0bfe5675333b5fcbb3fba9a45\n",
      "  CSAL state:         EdgeLock secure enclave random context initialization succeed - 0x02\n",
      "  TRNG state:         TRNG entropy is valid and ready to be read - 0x03\n",
      "  OEM PQC SRKH:       643dcc626197897115d7cce1ec079c479399af59cd46b9b45b6578fabe86d20e788683151239d8128c4f8ccc871ea86c9d8ee58b6e03e9bf8fdbde6b21b5bd09\n",
      "\n"
     ]
    }
   ],
   "source": [
    "%! nxpele --family $FAMILY --port $PORT --device uboot_fastboot get-info"
   ]
  },
  {
   "cell_type": "markdown",
   "id": "0602464a",
   "metadata": {},
   "source": [
    "When fastboot is started, the command syntax becomes simpler, because fastboot is the default interface when the `-d` parameter is not specified, so you can communicate with ELE just by defining the family of the target device:"
   ]
  },
  {
   "cell_type": "code",
   "execution_count": 7,
   "id": "42d3e88e",
   "metadata": {},
   "outputs": [
    {
     "name": "stdout",
     "output_type": "stream",
     "text": [
      "nxpele --family mimx9596 get-events \n",
      "ELE get events ends successfully.\n",
      "Event count:     0\n"
     ]
    }
   ],
   "source": [
    "%! nxpele --family $FAMILY get-events"
   ]
  }
 ],
 "metadata": {
  "kernelspec": {
   "display_name": "venv312",
   "language": "python",
   "name": "python3"
  },
  "language_info": {
   "codemirror_mode": {
    "name": "ipython",
    "version": 3
   },
   "file_extension": ".py",
   "mimetype": "text/x-python",
   "name": "python",
   "nbconvert_exporter": "python",
   "pygments_lexer": "ipython3",
   "version": "3.12.4"
  }
 },
 "nbformat": 4,
 "nbformat_minor": 5
}
