{
 "cells": [
  {
   "cell_type": "markdown",
   "metadata": {},
   "source": [
    "# MCXE247 Secure Boot with SHE\n",
    "\n",
    "This notebook demonstrates how to set up secure boot on MCXE247 devices using the Secure Hardware Extension (SHE) module. The process includes:\n",
    "1. Initial setup and loading of the flashloader\n",
    "2. Loading of the master key and MAC key\n",
    "3. BOOT_MAC configuration\n",
    "4. Loading of the application\n",
    "5. Secure boot verification\n",
    "\n",
    "## 1. Introduction\n",
    "The Secure Hardware Extension (SHE) is an on-chip extension to any given microcontroller. It is intended\n",
    "to move the control over cryptographic keys from the software domain into the hardware domain\n",
    "and therefore protect those keys from software attacks.\n",
    "\n",
    "### Key Types and Their Functions\n",
    "\n",
    "The SHE specification defines the following key types:\n",
    "\n",
    "1. **MASTER_ECU_KEY**: The highest privilege key that serves as the \"root of trust\" for the component. It can:\n",
    "   - Reset the SHE module\n",
    "   - Update any other key in the system\n",
    "   - Only be updated with knowledge of the current MASTER_ECU_KEY\n",
    "\n",
    "2. **BOOT_MAC_KEY**: Used by the secure boot mechanism to:\n",
    "   - Verify software authenticity\n",
    "   - Verify Message Authentication Codes (MACs)\n",
    "   - Can be updated with knowledge of either the MASTER_ECU_KEY or current BOOT_MAC_KEY\n",
    "\n",
    "3. **BOOT_MAC**: Stores the MAC of the bootloader for the secure boot mechanism. While not considered secret information, it's treated like other keys for consistency and:\n",
    "   - Is only accessible to the SHE booting mechanism\n",
    "   - Can be updated with knowledge of either the MASTER_ECU_KEY or BOOT_MAC_KEY\n",
    "\n",
    "4. **KEY_\\<n\\>**: General-purpose keys (minimum of 3, maximum of 17) that can be used for:\n",
    "   - Encryption/decryption operations\n",
    "   - MAC generation/verification\n",
    "   - The specific function is determined at programming time via key usage flags\n",
    "   - Can be updated with knowledge of either the MASTER_ECU_KEY or the current KEY_<n>\n",
    "\n",
    "\n",
    "### Initial State\n",
    "\n",
    "An important security requirement is that all keys (MASTER_ECU_KEY, BOOT_MAC_KEY, BOOT_MAC, and KEY_<n>) must be empty after production, allowing for proper secure initialization by authorized parties.\n"
   ]
  },
  {
   "cell_type": "code",
   "execution_count": 1,
   "metadata": {},
   "outputs": [
    {
     "name": "stdout",
     "output_type": "stream",
     "text": [
      "env: JUPYTER_SPSDK=1\n",
      "Created `%!` as an alias for `%execute`.\n"
     ]
    }
   ],
   "source": [
    "# Initialization cell\n",
    "\n",
    "import os\n",
    "\n",
    "from spsdk.utils.jupyter_utils import YamlDiffWidget\n",
    "from spsdk.utils.misc import write_file\n",
    "\n",
    "FAMILY = \"mcxe247\"\n",
    "CONNECTION = \"-p COM6\"\n",
    "\n",
    "WORKSPACE = \"workspace/\"  # change this to path to your workspace\n",
    "INPUTS = \"inputs/\"\n",
    "KEYS = \"keys/\"\n",
    "\n",
    "FLASHLOADER = INPUTS + \"flashloader.bin\"\n",
    "MASTER_KEY_PATH = KEYS + \"master_key.hex\"\n",
    "MAC_KEY_PATH = KEYS + \"mac_key.hex\"\n",
    "\n",
    "# This env variable sets colored logger output to STDOUT\n",
    "%env JUPYTER_SPSDK=1\n",
    "# Set a magic for command execution and echo\n",
    "%alias execute echo %l && %l\n",
    "%alias_magic ! execute\n",
    "\n",
    "os.makedirs(WORKSPACE, exist_ok=True)\n",
    "os.makedirs(KEYS, exist_ok=True)"
   ]
  },
  {
   "cell_type": "markdown",
   "metadata": {},
   "source": [
    "## 2. Device Preparation\n",
    "In this demo, we will be using FRDM-MCXE247 board: compact and scalable development board for rapid prototyping of MCX E245/246/247 MCUs.\n",
    "\n",
    "<img src=\"../../_data/img/boards/mcxe247-frdm.png\" alt=\"mcxe247-frdm\" height=\"300\">\n",
    "\n",
    "Connect the debug probe (like J-Link or MCU Link) to the FRDM-MCXE247 board and ensure proper USB connection. In this example I will be using on-board MCU Link debug probe."
   ]
  },
  {
   "cell_type": "markdown",
   "metadata": {},
   "source": [
    "## 3. Flashloader Setup\n",
    "\n",
    "Before we can program the device, we need to start the MCU flashloader: a configurable flash programming utility that operates over a serial connection on MCUs. It enables quick and easy programming of MCUs through the entire product life cycle."
   ]
  },
  {
   "cell_type": "code",
   "execution_count": 2,
   "metadata": {},
   "outputs": [
    {
     "name": "stdout",
     "output_type": "stream",
     "text": [
      "LinkServer.exe run --exit-timeout 0  MCXE247 -a 0x1FFFE000 inputs/flashloader.bin \n"
     ]
    },
    {
     "name": "stderr",
     "output_type": "stream",
     "text": [
      "INFO: Exact match for MCXE247 found\n",
      "INFO: Selected device MCXE247:\n",
      "INFO: Getting available probes\n",
      "INFO: Selected probe #1 LXQGWZJCWHMAC (MCU-LINK on-board (r2E4) CMSIS-DAP V3.156)\n"
     ]
    }
   ],
   "source": [
    "%! LinkServer.exe run --exit-timeout 0  MCXE247 -a 0x1FFFE000 $FLASHLOADER"
   ]
  },
  {
   "cell_type": "markdown",
   "metadata": {},
   "source": [
    "Let's check if the MCXE247 device is connected to the PC. We'll use `nxpdevscan` to detect the device."
   ]
  },
  {
   "cell_type": "code",
   "execution_count": 3,
   "metadata": {},
   "outputs": [
    {
     "name": "stdout",
     "output_type": "stream",
     "text": [
      "nxpdevscan -p \n",
      "-------- Connected NXP UART Devices --------\n",
      "\n",
      "Port: COM6\n",
      "Type: mboot device\n",
      "\n"
     ]
    }
   ],
   "source": [
    "# Check if the device is connected and detected by PC\n",
    "%! nxpdevscan -p"
   ]
  },
  {
   "cell_type": "markdown",
   "metadata": {},
   "source": [
    "## 4. Key Generation\n",
    "\n",
    "Required AES-128 Keys\n",
    "The secure boot process requires two specific AES-128 keys:\n",
    "\n",
    " - MASTER_ECU_KEY: Primary key\n",
    " - BOOT_MAC_KEY: Key used checking the application integrity during secure boot\n",
    "\n",
    "### About AES-128\n",
    "AES-128 (Advanced Encryption Standard with 128-bit key length) is a robust symmetric encryption algorithm commonly implemented in security-critical applications. Each key consists of 16 bytes (128 bits) of data.\n",
    "\n",
    "For implementation purposes, we'll be utilizing pre-generated keys rather than generating them dynamically."
   ]
  },
  {
   "cell_type": "code",
   "execution_count": 4,
   "metadata": {},
   "outputs": [
    {
     "name": "stdout",
     "output_type": "stream",
     "text": [
      "Master Key exists: True\n",
      "BOOT_MAC Key exists: True\n"
     ]
    }
   ],
   "source": [
    "print(f\"Master Key exists: {os.path.exists(MASTER_KEY_PATH)}\")\n",
    "print(f\"BOOT_MAC Key exists: {os.path.exists(MAC_KEY_PATH)}\")"
   ]
  },
  {
   "cell_type": "markdown",
   "metadata": {},
   "source": [
    "## 5. Preparing the Master Boot Image (MBI)"
   ]
  },
  {
   "cell_type": "code",
   "execution_count": 5,
   "metadata": {},
   "outputs": [
    {
     "name": "stdout",
     "output_type": "stream",
     "text": [
      "nxpimage mbi get-templates -f mcxe247 -o workspace/ --force \n",
      "Creating workspace/mcxe247_xip_plain.yaml template file.\n"
     ]
    },
    {
     "data": {
      "text/html": [
       "\n",
       "            \n",
       "            <style>\n",
       "                .yaml-diff { font-family: monospace; background-color: #f0f0f0; padding: 1em; border: 1px solid #c0c0c0; }\n",
       "                .yaml-key { color: #0000CC; font-weight: bold; }\n",
       "                .yaml-value { color: #006600; }\n",
       "                .yaml-commented-line { color: #008800; }\n",
       "                .yaml-list-item { color: #660066; }\n",
       "                .diff-removed { background-color: #ffaaaa; }\n",
       "                .diff-added { background-color: #aaffaa; }\n",
       "                .yaml-comment {\n",
       "                    background-color: #FF8C00;\n",
       "                    color: #000000;\n",
       "                    border-radius: 50%;\n",
       "                    padding: 0 0.3em;\n",
       "                    margin-left: 0.5em;\n",
       "                    font-size: 0.8em;\n",
       "                    cursor: help;\n",
       "                    font-weight: bold;\n",
       "                    text-shadow: 1px 1px 1px rgba(255, 255, 255, 0.7);\n",
       "                }\n",
       "                #toggleButton_73e0f6a4af0e6c14d847cac84cecd77f {\n",
       "                    background-color: #4CAF50;\n",
       "                    border: none;\n",
       "                    color: white;\n",
       "                    padding: 10px 20px;\n",
       "                    text-align: center;\n",
       "                    text-decoration: none;\n",
       "                    display: inline-block;\n",
       "                    font-size: 16px;\n",
       "                    margin: 4px 2px;\n",
       "                    cursor: pointer;\n",
       "                }\n",
       "            </style>\n",
       "            \n",
       "            \n",
       "            <script>\n",
       "            function toggleView_73e0f6a4af0e6c14d847cac84cecd77f() {\n",
       "                var diffView = document.getElementById('diffView_73e0f6a4af0e6c14d847cac84cecd77f');\n",
       "                var userConfigView = document.getElementById('userConfigView_73e0f6a4af0e6c14d847cac84cecd77f');\n",
       "                var button = document.getElementById('toggleButton_73e0f6a4af0e6c14d847cac84cecd77f');\n",
       "\n",
       "                if (diffView.style.display === 'none' && userConfigView.style.display === 'none') {\n",
       "                    diffView.style.display = 'block';\n",
       "                    userConfigView.style.display = 'none';\n",
       "                    button.textContent = 'Show User Config';\n",
       "                } else if (diffView.style.display === 'block') {\n",
       "                    diffView.style.display = 'none';\n",
       "                    userConfigView.style.display = 'block';\n",
       "                    button.textContent = 'Hide';\n",
       "                } else {\n",
       "                    diffView.style.display = 'none';\n",
       "                    userConfigView.style.display = 'none';\n",
       "                    button.textContent = 'Show Diff';\n",
       "                }\n",
       "            }\n",
       "            </script>\n",
       "            \n",
       "            <div class=\"yaml-diff-container\">\n",
       "            <h3>Configuration Differences</h3>\n",
       "            <button onclick=\"toggleView_73e0f6a4af0e6c14d847cac84cecd77f()\" id=\"toggleButton_73e0f6a4af0e6c14d847cac84cecd77f\">Show Diff</button>\n",
       "            \n",
       "            <a href=\"data:text/plain;base64,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\" download=\"user_config.yaml\">\n",
       "                <button style=\"background-color: #4CAF50; border: none; color: white; padding: 10px 20px; text-align: center; text-decoration: none; display: inline-block; font-size: 16px; margin: 4px 2px; cursor: pointer;\">\n",
       "                    Download Config\n",
       "                </button>\n",
       "            </a>\n",
       "            \n",
       "            <div id=\"diffView_73e0f6a4af0e6c14d847cac84cecd77f\" class=\"yaml-diff\" style=\"display:none;\"><pre class=\"yaml-diff\"><span class=\"yaml-commented-line\"># ============================  mbi Configuration template for mcxe247, Revision: latest.  =============================</span><br><br><span class=\"yaml-commented-line\"># ======================================================================================================================</span><br><span class=\"yaml-commented-line\">#                                                 == General Options ==                                                 </span><br><span class=\"yaml-commented-line\"># ======================================================================================================================</span><br><span class=\"yaml-commented-line\"># -------------------------------------===== The chip family name [Required] =====--------------------------------------</span><br><span class=\"yaml-commented-line\"># Description: NXP chip family identifier.</span><br><span class=\"yaml-key\">family</span>: <span class=\"yaml-value\">mcxe247</span><br><span class=\"yaml-commented-line\"># -----------------------------------------===== MCU revision [Optional] =====------------------------------------------</span><br><span class=\"yaml-commented-line\"># Description: Revision of silicon. The 'latest' name, means most current revision.</span><br><span class=\"yaml-commented-line\"># Possible options: <a0, latest></span><br><span class=\"yaml-key\">revision</span>: <span class=\"yaml-value\">latest</span><br><span class=\"yaml-commented-line\"># ======================================================================================================================</span><br><span class=\"yaml-commented-line\">#                                                  == Basic Settings ==                                                 </span><br><span class=\"yaml-commented-line\"># ======================================================================================================================</span><br><span class=\"yaml-commented-line\"># --------------------------------------===== Application target [Required] =====---------------------------------------</span><br><span class=\"yaml-commented-line\"># Description: Definition if application is Execute in Place(XiP) or loaded to RAM during reset sequence.</span><br><span class=\"yaml-commented-line\"># Possible options: <xip></span><br><span class=\"yaml-key\">outputImageExecutionTarget</span>: <span class=\"yaml-value\">xip</span><br><span class=\"yaml-commented-line\"># -------------------------------===== Type of boot image authentication [Required] =====-------------------------------</span><br><span class=\"yaml-commented-line\"># Description: Specification of final master boot image authentication.</span><br><span class=\"yaml-commented-line\"># Possible options: <plain></span><br><span class=\"yaml-key\">outputImageAuthenticationType</span>: <span class=\"yaml-value\">plain</span><br><span class=\"yaml-commented-line\"># ---------------------------------------===== Output Image name [Required] =====---------------------------------------</span><br><span class=\"yaml-commented-line\"># Description: The path for result binary file.</span><br><span class=\"diff-removed\"><span class=\"yaml-key\">masterBootOutputFile</span>: <span class=\"yaml-value\">my_mbi.bin</span></span><br><span class=\"diff-added\"><span class=\"yaml-key\">masterBootOutputFile</span>: <span class=\"yaml-value\">../workspace/mcxe247_mbi_led_blinky.bin</span></span><br><span class=\"yaml-commented-line\"># ------------------------------------===== Plain application image [Required] =====------------------------------------</span><br><span class=\"yaml-commented-line\"># Description: The input application image to by modified to Master Boot Image.</span><br><span class=\"diff-removed\"><span class=\"yaml-key\">inputImageFile</span>: <span class=\"yaml-value\">my_application.bin</span></span><br><span class=\"diff-added\"><span class=\"yaml-key\">inputImageFile</span>: <span class=\"yaml-value\">led_blinky.bin</span></span><br><span class=\"yaml-commented-line\"># ======================================================================================================================</span><br><span class=\"yaml-commented-line\">#                                  == FCF Configuration (Flash Configuration Field) ==                                  </span><br><span class=\"yaml-commented-line\">#              Flash Configuration Field settings. Default values are always loaded from application first.             </span><br><span class=\"yaml-commented-line\">#                                       FCF can be provided in one of three ways:                                       </span><br><span class=\"yaml-commented-line\">#            1. As a nested dictionary under the 'fcf' key - copy values directly from the FCF.YAML template            </span><br><span class=\"yaml-commented-line\">#                 2. As a path to a YAML file containing FCF configuration - use 'fcf: path/to/fcf.yaml'                </span><br><span class=\"yaml-commented-line\">#                             3. As a path to a binary FCF file - use 'fcf: path/to/fcf.bin'                            </span><br><span class=\"yaml-commented-line\">#                                                                                                                       </span><br><span class=\"yaml-commented-line\"># If any FCF configuration is provided, it will update the application values accordingly. The binary option completely </span><br><span class=\"yaml-commented-line\">#        replaces the FCF content, while the YAML and dictionary options selectively update FCF register values.        </span><br><span class=\"yaml-commented-line\"># ======================================================================================================================</span><br><span class=\"diff-removed\"><span class=\"yaml-key\">fcf</span>: <span class=\"yaml-value\">path/to/fcf.yaml</span> <span style=\"background-color: #FFFF00; border-radius: 5px; padding: 2px\n",
       "6px; margin-left: 5px; font-size: 0.8em;\">Not used</span></span><br></pre></div>\n",
       "            <div id=\"userConfigView_73e0f6a4af0e6c14d847cac84cecd77f\" class=\"yaml-diff\" style=\"display:none;\"><pre class=\"yaml-diff\"><span class=\"yaml-commented-line\"># ============================  mbi Configuration template for mcxe247, Revision: latest.  =============================</span><br><br><span class=\"yaml-commented-line\"># ======================================================================================================================</span><br><span class=\"yaml-commented-line\">#                                                 == General Options ==</span><br><span class=\"yaml-commented-line\"># ======================================================================================================================</span><br><span class=\"yaml-commented-line\"># -------------------------------------===== The chip family name [Required] =====--------------------------------------</span><br><span class=\"yaml-commented-line\"># Description: NXP chip family identifier.</span><br><span class=\"yaml-key\">family</span>: <span class=\"yaml-value\">mcxe247</span><br><span class=\"yaml-commented-line\"># -----------------------------------------===== MCU revision [Optional] =====------------------------------------------</span><br><span class=\"yaml-commented-line\"># Description: Revision of silicon. The 'latest' name, means most current revision.</span><br><span class=\"yaml-commented-line\"># Possible options: <a0, latest></span><br><span class=\"yaml-key\">revision</span>: <span class=\"yaml-value\">latest</span><br><span class=\"yaml-commented-line\"># ======================================================================================================================</span><br><span class=\"yaml-commented-line\">#                                                  == Basic Settings ==</span><br><span class=\"yaml-commented-line\"># ======================================================================================================================</span><br><span class=\"yaml-commented-line\"># --------------------------------------===== Application target [Required] =====---------------------------------------</span><br><span class=\"yaml-commented-line\"># Description: Definition if application is Execute in Place(XiP) or loaded to RAM during reset sequence.</span><br><span class=\"yaml-commented-line\"># Possible options: <xip></span><br><span class=\"yaml-key\">outputImageExecutionTarget</span>: <span class=\"yaml-value\">xip</span><br><span class=\"yaml-commented-line\"># -------------------------------===== Type of boot image authentication [Required] =====-------------------------------</span><br><span class=\"yaml-commented-line\"># Description: Specification of final master boot image authentication.</span><br><span class=\"yaml-commented-line\"># Possible options: <plain></span><br><span class=\"yaml-key\">outputImageAuthenticationType</span>: <span class=\"yaml-value\">plain</span><br><span class=\"yaml-commented-line\"># ---------------------------------------===== Output Image name [Required] =====---------------------------------------</span><br><span class=\"yaml-commented-line\"># Description: The path for result binary file.</span><br><span class=\"yaml-key\">masterBootOutputFile</span>: <span class=\"yaml-value\">../workspace/mcxe247_mbi_led_blinky.bin</span><br><span class=\"yaml-commented-line\"># ------------------------------------===== Plain application image [Required] =====------------------------------------</span><br><span class=\"yaml-commented-line\"># Description: The input application image to by modified to Master Boot Image.</span><br><span class=\"yaml-key\">inputImageFile</span>: <span class=\"yaml-value\">led_blinky.bin</span><br></pre></div>\n",
       "            </div>\n",
       "            "
      ],
      "text/plain": [
       "<IPython.core.display.HTML object>"
      ]
     },
     "execution_count": 23,
     "metadata": {},
     "output_type": "execute_result"
    }
   ],
   "source": [
    "# Get difference of template and user YAML configuration\n",
    "YamlDiffWidget(\"inputs/mcxe247_mbi.diffc\").html"
   ]
  },
  {
   "cell_type": "markdown",
   "metadata": {},
   "source": [
    "### 5.1 Programming the Application"
   ]
  },
  {
   "cell_type": "code",
   "execution_count": 6,
   "metadata": {},
   "outputs": [
    {
     "name": "stdout",
     "output_type": "stream",
     "text": [
      "nxpimage mbi export -c inputs/mcxe247_xip_plain.yaml \n",
      "Success. (Master Boot Image: workspace/mcxe247_mbi_led_blinky.bin created.)\n",
      "blhost -p COM6 flash-erase-region 0 8192 \n",
      "Response status = 0 (0x0) Success.\n",
      "blhost -p COM6 -j -- write-memory 0x00000000 workspace/mcxe247_mbi_led_blinky.bin \n",
      "{\n",
      "   \"command\": \"write-memory\",\n",
      "   \"response\": [\n",
      "      5552\n",
      "   ],\n",
      "   \"status\": {\n",
      "      \"description\": \"0 (0x0) Success.\",\n",
      "      \"value\": 0\n",
      "   }\n",
      "}\n"
     ]
    }
   ],
   "source": [
    "%! nxpimage mbi export -c inputs/mcxe247_xip_plain.yaml\n",
    "%! blhost $CONNECTION flash-erase-region 0 8192\n",
    "%! blhost $CONNECTION -j -- write-memory 0x00000000 workspace/mcxe247_mbi_led_blinky.bin"
   ]
  },
  {
   "cell_type": "markdown",
   "metadata": {},
   "source": [
    "## 6. SHE Module Configuration\n",
    "\n",
    "Now we'll configure the SHE module with our pre-generated keys. This includes loading the Master Key, MEC Key, and setting up the MAC configuration."
   ]
  },
  {
   "cell_type": "markdown",
   "metadata": {},
   "source": [
    "### 6.1 Setup\n",
    "Setup SHE key storage configuration for secure boot."
   ]
  },
  {
   "cell_type": "code",
   "execution_count": 7,
   "metadata": {},
   "outputs": [
    {
     "name": "stdout",
     "output_type": "stream",
     "text": [
      "LinkServer.exe run --exit-timeout 0  MCXE247 -a 0x1FFFE000 inputs/flashloader.bin \n"
     ]
    },
    {
     "name": "stderr",
     "output_type": "stream",
     "text": [
      "INFO: Exact match for MCXE247 found\n",
      "INFO: Selected device MCXE247:\n",
      "INFO: Getting available probes\n",
      "INFO: Selected probe #1 LXQGWZJCWHMAC (MCU-LINK on-board (r2E4) CMSIS-DAP V3.156)\n"
     ]
    },
    {
     "name": "stdout",
     "output_type": "stream",
     "text": [
      "nxpshe setup -k 20 -p COM6 -f mcxe247 \n",
      "Configuring SHE key storage with max keys: 20\n",
      "Setting SHE flash partition property\n",
      "Enrolling SHE key storage\n",
      "Resetting the device\n",
      "SHE key storage configuration setup completed successfully.\n"
     ]
    }
   ],
   "source": [
    "%! LinkServer.exe run --exit-timeout 0  MCXE247 -a 0x1FFFE000 $FLASHLOADER\n",
    "%! nxpshe setup -k 20 $CONNECTION -f mcxe247"
   ]
  },
  {
   "cell_type": "markdown",
   "metadata": {},
   "source": [
    "### 6.2 Master ECU key\n",
    "\n",
    "The MASTER_ECU_KEY is intended to be populated by the \"owner\" of the component using SHE and it can be used to reset SHE or change any of the other keys.\n",
    "The MASTER_ECU_KEY is only used for updating other memory slots inside of SHE.\n",
    "\n",
    "A new MASTER_ECU_KEY can be written with the knowledge of the current MASTER_ECU_KEY and is protected by the common lock mechanisms.\n",
    "\n",
    "The MASTER_ECU_KEY must be empty after production."
   ]
  },
  {
   "cell_type": "code",
   "execution_count": 8,
   "metadata": {},
   "outputs": [
    {
     "name": "stdout",
     "output_type": "stream",
     "text": [
      "nxpshe get-template -f mcxe247 -o workspace/mcxe247_she_template.yaml --force \n",
      "Generating workspace/mcxe247_she_template.yaml template file.\n"
     ]
    },
    {
     "data": {
      "text/html": [
       "\n",
       "            \n",
       "            <style>\n",
       "                .yaml-diff { font-family: monospace; background-color: #f0f0f0; padding: 1em; border: 1px solid #c0c0c0; }\n",
       "                .yaml-key { color: #0000CC; font-weight: bold; }\n",
       "                .yaml-value { color: #006600; }\n",
       "                .yaml-commented-line { color: #008800; }\n",
       "                .yaml-list-item { color: #660066; }\n",
       "                .diff-removed { background-color: #ffaaaa; }\n",
       "                .diff-added { background-color: #aaffaa; }\n",
       "                .yaml-comment {\n",
       "                    background-color: #FF8C00;\n",
       "                    color: #000000;\n",
       "                    border-radius: 50%;\n",
       "                    padding: 0 0.3em;\n",
       "                    margin-left: 0.5em;\n",
       "                    font-size: 0.8em;\n",
       "                    cursor: help;\n",
       "                    font-weight: bold;\n",
       "                    text-shadow: 1px 1px 1px rgba(255, 255, 255, 0.7);\n",
       "                }\n",
       "                #toggleButton_c83817dd1355132e1e2dc11ce0b9048b {\n",
       "                    background-color: #4CAF50;\n",
       "                    border: none;\n",
       "                    color: white;\n",
       "                    padding: 10px 20px;\n",
       "                    text-align: center;\n",
       "                    text-decoration: none;\n",
       "                    display: inline-block;\n",
       "                    font-size: 16px;\n",
       "                    margin: 4px 2px;\n",
       "                    cursor: pointer;\n",
       "                }\n",
       "            </style>\n",
       "            \n",
       "            \n",
       "            <script>\n",
       "            function toggleView_c83817dd1355132e1e2dc11ce0b9048b() {\n",
       "                var diffView = document.getElementById('diffView_c83817dd1355132e1e2dc11ce0b9048b');\n",
       "                var userConfigView = document.getElementById('userConfigView_c83817dd1355132e1e2dc11ce0b9048b');\n",
       "                var button = document.getElementById('toggleButton_c83817dd1355132e1e2dc11ce0b9048b');\n",
       "\n",
       "                if (diffView.style.display === 'none' && userConfigView.style.display === 'none') {\n",
       "                    diffView.style.display = 'block';\n",
       "                    userConfigView.style.display = 'none';\n",
       "                    button.textContent = 'Show User Config';\n",
       "                } else if (diffView.style.display === 'block') {\n",
       "                    diffView.style.display = 'none';\n",
       "                    userConfigView.style.display = 'block';\n",
       "                    button.textContent = 'Hide';\n",
       "                } else {\n",
       "                    diffView.style.display = 'none';\n",
       "                    userConfigView.style.display = 'none';\n",
       "                    button.textContent = 'Show Diff';\n",
       "                }\n",
       "            }\n",
       "            </script>\n",
       "            \n",
       "            <div class=\"yaml-diff-container\">\n",
       "            <h3>Configuration Differences</h3>\n",
       "            <button onclick=\"toggleView_c83817dd1355132e1e2dc11ce0b9048b()\" id=\"toggleButton_c83817dd1355132e1e2dc11ce0b9048b\">Show Diff</button>\n",
       "            \n",
       "            <a href=\"data:text/plain;base64,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\" download=\"user_config.yaml\">\n",
       "                <button style=\"background-color: #4CAF50; border: none; color: white; padding: 10px 20px; text-align: center; text-decoration: none; display: inline-block; font-size: 16px; margin: 4px 2px; cursor: pointer;\">\n",
       "                    Download Config\n",
       "                </button>\n",
       "            </a>\n",
       "            \n",
       "            <div id=\"diffView_c83817dd1355132e1e2dc11ce0b9048b\" class=\"yaml-diff\" style=\"display:none;\"><pre class=\"yaml-diff\"><span class=\"yaml-commented-line\"># ==========================  she_scec Configuration template for mcxe247, Revision: latest.  ==========================</span><br><br><span class=\"yaml-commented-line\"># ======================================================================================================================</span><br><span class=\"yaml-commented-line\">#                                                 == General Options ==                                                 </span><br><span class=\"yaml-commented-line\"># ======================================================================================================================</span><br><span class=\"yaml-commented-line\"># -------------------------------------===== The chip family name [Required] =====--------------------------------------</span><br><span class=\"yaml-commented-line\"># Description: NXP chip family identifier.</span><br><span class=\"yaml-key\">family</span>: <span class=\"yaml-value\">mcxe247</span><br><span class=\"yaml-commented-line\"># -----------------------------------------===== MCU revision [Optional] =====------------------------------------------</span><br><span class=\"yaml-commented-line\"># Description: Revision of silicon. The 'latest' name, means most current revision.</span><br><span class=\"yaml-commented-line\"># Possible options: <a0, latest></span><br><span class=\"yaml-key\">revision</span>: <span class=\"yaml-value\">latest</span><br><span class=\"yaml-commented-line\"># ======================================================================================================================</span><br><span class=\"yaml-commented-line\">#                                         == SHE Configuration for using SCEc ==                                        </span><br><span class=\"yaml-commented-line\"># ======================================================================================================================</span><br><span class=\"yaml-commented-line\"># ------------------------------------===== Key for SCEc operation [Required] =====-------------------------------------</span><br><span class=\"yaml-commented-line\"># Description: AES-128 key used in SHE (Secure Hardware Extension) SCEc operation</span><br><span class=\"diff-removed\"><span class=\"yaml-key\">key</span>: <span class=\"yaml-value\">~/keys/new_key.txt</span></span><br><span class=\"diff-added\"><span class=\"yaml-key\">key</span>: <span class=\"yaml-value\">../keys/master_key.hex</span></span><br><span class=\"yaml-commented-line\"># ----------------------------------------===== Key Identifier [Required] =====-----------------------------------------</span><br><span class=\"yaml-commented-line\"># Description: Unique identifier for the SCEc key slot</span><br><span class=\"yaml-commented-line\"># Possible options: <MASTER_ECU_KEY, BOOT_MAC_KEY, BOOT_MAC, RAM_KEY, USER_KEY_1, USER_KEY_2, USER_KEY_3, USER_KEY_4,</span><br><span class=\"yaml-commented-line\"># USER_KEY_5, USER_KEY_6, USER_KEY_7, USER_KEY_8, USER_KEY_9, USER_KEY_10></span><br><span class=\"diff-removed\"><span class=\"yaml-key\">key_id</span>: <span class=\"yaml-value\">USER_KEY_1</span> <span style=\"background-color: #FFFF00; border-radius: 5px; padding: 2px 6px;\n",
       "margin-left: 5px; font-size: 0.8em;\">Key slot</span></span><br><span class=\"diff-added\"><span class=\"yaml-key\">key_id</span>: <span class=\"yaml-value\">MASTER_ECU_KEY</span></span><br><span class=\"yaml-commented-line\"># -------------------------------------===== SHE Unique Identifier [Optional] =====-------------------------------------</span><br><span class=\"yaml-commented-line\"># Description: Unique identifier for the SHE device</span><br><span class=\"diff-removed\"><span class=\"yaml-key\">uid</span>: <span class=\"yaml-value\">305419896</span> <span style=\"background-color: #FFFF00; border-radius: 5px; padding: 2px 6px;\n",
       "margin-left: 5px; font-size: 0.8em;\">Not used in this example</span></span><br><span class=\"yaml-commented-line\"># --------------------------------------===== Authentication Key [Optional] =====---------------------------------------</span><br><span class=\"yaml-commented-line\"># Description: Authentication AES-128 key for SHE (Secure Hardware Extension) SCEc operation</span><br><span class=\"diff-removed\"><span class=\"yaml-key\">auth_key</span>: <span class=\"yaml-value\">~/keys/auth_key.txt</span> <span style=\"background-color: #FFFF00; border-radius: 5px; padding:\n",
       "2px 6px; margin-left: 5px; font-size: 0.8em;\">Authentication key if not needed as we are updating master ecu key for first time</span></span><br><span class=\"yaml-commented-line\"># ---------------------------------===== Authentication Key Identifier [Optional] =====---------------------------------</span><br><span class=\"yaml-commented-line\"># Description: Unique identifier for the authentication key in SHE SCEc operation</span><br><span class=\"yaml-commented-line\"># Possible options: <MASTER_ECU_KEY, BOOT_MAC_KEY></span><br><span class=\"diff-removed\"><span class=\"yaml-key\">auth_key_id</span>: <span class=\"yaml-value\">MASTER_ECU_KEY</span> <span style=\"background-color: #FFFF00; border-radius: 5px; padding:\n",
       "2px 6px; margin-left: 5px; font-size: 0.8em;\">Key slot</span></span><br><span class=\"yaml-commented-line\"># -----------------------------------------===== Counter Value [Optional] =====-----------------------------------------</span><br><span class=\"yaml-commented-line\"># Description: Counter used in SHE (Secure Hardware Extension) SCEc operation</span><br><span class=\"yaml-key\">counter</span>: <span class=\"yaml-value\">1</span> <span style=\"background-color: #FFFF00; border-radius: 5px; padding: 2px 6px; margin-\n",
       "left: 5px; font-size: 0.8em;\">Counter must be incremented with every update of a key</span><br><span class=\"yaml-commented-line\"># ======================================================================================================================</span><br><span class=\"yaml-commented-line\">#                                                == SHE-SCEc key flags ==                                               </span><br><span class=\"yaml-commented-line\"># ======================================================================================================================</span><br><span class=\"yaml-commented-line\"># -------------------------------------===== Write Protection Flag [Optional] =====-------------------------------------</span><br><span class=\"yaml-commented-line\"># Description: Enable or disable write protection for the SHE-SCEc key</span><br><span class=\"diff-removed\"><span class=\"yaml-key\">write_protection</span>: <span class=\"yaml-value\">false</span> <span style=\"background-color: #FFFF00; border-radius: 5px; padding: 2px\n",
       "6px; margin-left: 5px; font-size: 0.8em;\">Not used in this example</span></span><br><span class=\"yaml-commented-line\"># -------------------------------------===== Boot Protection Flag [Optional] =====--------------------------------------</span><br><span class=\"yaml-commented-line\"># Description: Enable or disable boot protection for the SHE-SCEc key</span><br><span class=\"diff-removed\"><span class=\"yaml-key\">boot_protection</span>: <span class=\"yaml-value\">false</span> <span style=\"background-color: #FFFF00; border-radius: 5px; padding: 2px\n",
       "6px; margin-left: 5px; font-size: 0.8em;\">Not used in this example</span></span><br><span class=\"yaml-commented-line\"># -----------------------------------===== Debugger Protection Flag [Optional] =====------------------------------------</span><br><span class=\"yaml-commented-line\"># Description: Enable or disable debugger protection for the SHE-SCEc key</span><br><span class=\"diff-removed\"><span class=\"yaml-key\">debugger_protection</span>: <span class=\"yaml-value\">false</span> <span style=\"background-color: #FFFF00; border-radius: 5px; padding:\n",
       "2px 6px; margin-left: 5px; font-size: 0.8em;\">Not used in this example</span></span><br><span class=\"yaml-commented-line\"># ----------------------------------------===== Key Usage Flag [Optional] =====-----------------------------------------</span><br><span class=\"yaml-commented-line\"># Description: Enable or disable key usage permissions for the SHE-SCEc key</span><br><span class=\"diff-removed\"><span class=\"yaml-key\">key_usage</span>: <span class=\"yaml-value\">false</span> <span style=\"background-color: #FFFF00; border-radius: 5px; padding: 2px 6px;\n",
       "margin-left: 5px; font-size: 0.8em;\">Not used in this example</span></span><br><span class=\"yaml-commented-line\"># ---------------------------------------===== Wildcard Key Flag [Optional] =====---------------------------------------</span><br><span class=\"yaml-commented-line\"># Description: Enable or disable wildcard key usage for the SHE-SCEc key</span><br><span class=\"diff-removed\"><span class=\"yaml-key\">wildcard</span>: <span class=\"yaml-value\">false</span> <span style=\"background-color: #FFFF00; border-radius: 5px; padding: 2px 6px;\n",
       "margin-left: 5px; font-size: 0.8em;\">Not used in this example</span></span><br></pre></div>\n",
       "            <div id=\"userConfigView_c83817dd1355132e1e2dc11ce0b9048b\" class=\"yaml-diff\" style=\"display:none;\"><pre class=\"yaml-diff\"><span class=\"yaml-commented-line\"># ==========================  she_scec Configuration template for mcxe247, Revision: latest.  ==========================</span><br><br><span class=\"yaml-commented-line\"># ======================================================================================================================</span><br><span class=\"yaml-commented-line\">#                                                 == General Options ==</span><br><span class=\"yaml-commented-line\"># ======================================================================================================================</span><br><span class=\"yaml-commented-line\"># -------------------------------------===== The chip family name [Required] =====--------------------------------------</span><br><span class=\"yaml-commented-line\"># Description: NXP chip family identifier.</span><br><span class=\"yaml-commented-line\"># Possible options: <mcxe245, mcxe246, mcxe247></span><br><span class=\"yaml-key\">family</span>: <span class=\"yaml-value\">mcxe247</span><br><span class=\"yaml-commented-line\"># -----------------------------------------===== MCU revision [Optional] =====------------------------------------------</span><br><span class=\"yaml-commented-line\"># Description: Revision of silicon. The 'latest' name, means most current revision.</span><br><span class=\"yaml-key\">revision</span>: <span class=\"yaml-value\">latest</span><br><span class=\"yaml-commented-line\"># ======================================================================================================================</span><br><span class=\"yaml-commented-line\">#                                         == SHE Configuration for using SCEc ==</span><br><span class=\"yaml-commented-line\"># ======================================================================================================================</span><br><span class=\"yaml-commented-line\"># ------------------------------------===== Key for SCEc operation [Required] =====-------------------------------------</span><br><span class=\"yaml-commented-line\"># Description: Cryptographic key used in SHE (Secure Hardware Extension) SCEc operation</span><br><span class=\"yaml-key\">key</span>: <span class=\"yaml-value\">../keys/master_key.hex</span><br><span class=\"yaml-commented-line\"># ----------------------------------------===== Key Identifier [Required] =====-----------------------------------------</span><br><span class=\"yaml-commented-line\"># Description: Unique identifier for the SCEc key slot</span><br><span class=\"yaml-commented-line\"># Possible options: <MASTER_ECU_KEY, BOOT_MAC_KEY, BOOT_MAC, RAM_KEY, USER_KEY_1, USER_KEY_2, USER_KEY_3, USER_KEY_4,</span><br><span class=\"yaml-commented-line\"># USER_KEY_5, USER_KEY_6, USER_KEY_7, USER_KEY_8, USER_KEY_9, USER_KEY_10></span><br><span class=\"yaml-key\">key_id</span>: <span class=\"yaml-value\">MASTER_ECU_KEY</span> <span style=\"background-color: #FFFF00; border-radius: 5px; padding: 2px\n",
       "6px; margin-left: 5px; font-size: 0.8em;\">Key slot</span><br><span class=\"yaml-commented-line\"># # -------------------------------------===== SHE Unique Identifier [Optional] =====-------------------------------------</span><br><span class=\"yaml-commented-line\"># # Description: Unique identifier for the SHE device</span><br><span class=\"yaml-commented-line\"># uid: 305419896</span><br><span class=\"yaml-commented-line\"># # --------------------------------------===== Authentication Key [Optional] =====---------------------------------------</span><br><span class=\"yaml-commented-line\"># # Description: Authentication key for SHE (Secure Hardware Extension) SCEc operation</span><br><span class=\"yaml-commented-line\"># auth_key: ~/keys/auth_key.txt</span><br><span class=\"yaml-commented-line\"># # ---------------------------------===== Authentication Key Identifier [Optional] =====---------------------------------</span><br><span class=\"yaml-commented-line\"># # Description: Unique identifier for the authentication key in SHE SCEc operation</span><br><span class=\"yaml-commented-line\"># # Possible options: <MASTER_ECU_KEY, BOOT_MAC_KEY></span><br><span class=\"yaml-commented-line\"># auth_key_id: MASTER_ECU_KEY</span><br><span class=\"yaml-commented-line\"># # -----------------------------------------===== Counter Value [Optional] =====-----------------------------------------</span><br><span class=\"yaml-commented-line\"># # Description: Counter used in SHE (Secure Hardware Extension) SCEc operation</span><br><span class=\"yaml-key\">counter</span>: <span class=\"yaml-value\">1</span> <span style=\"background-color: #FFFF00; border-radius: 5px; padding: 2px 6px; margin-\n",
       "left: 5px; font-size: 0.8em;\">Counter must be incremented with every update of a key</span><br></pre></div>\n",
       "            </div>\n",
       "            "
      ],
      "text/plain": [
       "<IPython.core.display.HTML object>"
      ]
     },
     "execution_count": 28,
     "metadata": {},
     "output_type": "execute_result"
    }
   ],
   "source": [
    "# Get difference of template and user YAML configuration\n",
    "YamlDiffWidget(\"inputs/mcxe247_master_ecu_key.diffc\").html"
   ]
  },
  {
   "cell_type": "code",
   "execution_count": 9,
   "metadata": {},
   "outputs": [
    {
     "name": "stdout",
     "output_type": "stream",
     "text": [
      "LinkServer.exe run --exit-timeout 0  MCXE247 -a 0x1FFFE000 inputs/flashloader.bin \n"
     ]
    },
    {
     "name": "stderr",
     "output_type": "stream",
     "text": [
      "INFO: Exact match for MCXE247 found\n",
      "INFO: Selected device MCXE247:\n",
      "INFO: Getting available probes\n",
      "INFO: Selected probe #1 LXQGWZJCWHMAC (MCU-LINK on-board (r2E4) CMSIS-DAP V3.156)\n"
     ]
    },
    {
     "name": "stdout",
     "output_type": "stream",
     "text": [
      "nxpshe update -p COM6 -c inputs/master_ecu_key_config.yaml \n",
      "Sending update message to device\n",
      "Response status = 0 (0x0) Success.\n",
      "Updating key ID: 1 was successful.\n"
     ]
    }
   ],
   "source": [
    "%! LinkServer.exe run --exit-timeout 0  MCXE247 -a 0x1FFFE000 $FLASHLOADER\n",
    "%! nxpshe update $CONNECTION -c inputs/master_ecu_key_config.yaml"
   ]
  },
  {
   "cell_type": "markdown",
   "metadata": {},
   "source": [
    "### 6.3 Boot MAC key\n",
    "\n",
    "The BOOT_MAC_KEY is used by the secure booting mechanism to verify the authenticity of the software.\n",
    "The BOOT_MAC_KEY may also be used to verify a MAC."
   ]
  },
  {
   "cell_type": "code",
   "execution_count": 10,
   "metadata": {},
   "outputs": [
    {
     "name": "stdout",
     "output_type": "stream",
     "text": [
      "nxpshe get-template -f mcxe247 -o workspace/mcxe247_she_template.yaml --force \n",
      "Generating workspace/mcxe247_she_template.yaml template file.\n"
     ]
    },
    {
     "data": {
      "text/html": [
       "\n",
       "            \n",
       "            <style>\n",
       "                .yaml-diff { font-family: monospace; background-color: #f0f0f0; padding: 1em; border: 1px solid #c0c0c0; }\n",
       "                .yaml-key { color: #0000CC; font-weight: bold; }\n",
       "                .yaml-value { color: #006600; }\n",
       "                .yaml-commented-line { color: #008800; }\n",
       "                .yaml-list-item { color: #660066; }\n",
       "                .diff-removed { background-color: #ffaaaa; }\n",
       "                .diff-added { background-color: #aaffaa; }\n",
       "                .yaml-comment {\n",
       "                    background-color: #FF8C00;\n",
       "                    color: #000000;\n",
       "                    border-radius: 50%;\n",
       "                    padding: 0 0.3em;\n",
       "                    margin-left: 0.5em;\n",
       "                    font-size: 0.8em;\n",
       "                    cursor: help;\n",
       "                    font-weight: bold;\n",
       "                    text-shadow: 1px 1px 1px rgba(255, 255, 255, 0.7);\n",
       "                }\n",
       "                #toggleButton_4077951cac9e0318096788eb5641eb00 {\n",
       "                    background-color: #4CAF50;\n",
       "                    border: none;\n",
       "                    color: white;\n",
       "                    padding: 10px 20px;\n",
       "                    text-align: center;\n",
       "                    text-decoration: none;\n",
       "                    display: inline-block;\n",
       "                    font-size: 16px;\n",
       "                    margin: 4px 2px;\n",
       "                    cursor: pointer;\n",
       "                }\n",
       "            </style>\n",
       "            \n",
       "            \n",
       "            <script>\n",
       "            function toggleView_4077951cac9e0318096788eb5641eb00() {\n",
       "                var diffView = document.getElementById('diffView_4077951cac9e0318096788eb5641eb00');\n",
       "                var userConfigView = document.getElementById('userConfigView_4077951cac9e0318096788eb5641eb00');\n",
       "                var button = document.getElementById('toggleButton_4077951cac9e0318096788eb5641eb00');\n",
       "\n",
       "                if (diffView.style.display === 'none' && userConfigView.style.display === 'none') {\n",
       "                    diffView.style.display = 'block';\n",
       "                    userConfigView.style.display = 'none';\n",
       "                    button.textContent = 'Show User Config';\n",
       "                } else if (diffView.style.display === 'block') {\n",
       "                    diffView.style.display = 'none';\n",
       "                    userConfigView.style.display = 'block';\n",
       "                    button.textContent = 'Hide';\n",
       "                } else {\n",
       "                    diffView.style.display = 'none';\n",
       "                    userConfigView.style.display = 'none';\n",
       "                    button.textContent = 'Show Diff';\n",
       "                }\n",
       "            }\n",
       "            </script>\n",
       "            \n",
       "            <div class=\"yaml-diff-container\">\n",
       "            <h3>Configuration Differences</h3>\n",
       "            <button onclick=\"toggleView_4077951cac9e0318096788eb5641eb00()\" id=\"toggleButton_4077951cac9e0318096788eb5641eb00\">Show Diff</button>\n",
       "            \n",
       "            <a href=\"data:text/plain;base64,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\" download=\"user_config.yaml\">\n",
       "                <button style=\"background-color: #4CAF50; border: none; color: white; padding: 10px 20px; text-align: center; text-decoration: none; display: inline-block; font-size: 16px; margin: 4px 2px; cursor: pointer;\">\n",
       "                    Download Config\n",
       "                </button>\n",
       "            </a>\n",
       "            \n",
       "            <div id=\"diffView_4077951cac9e0318096788eb5641eb00\" class=\"yaml-diff\" style=\"display:none;\"><pre class=\"yaml-diff\"><span class=\"yaml-commented-line\"># ==========================  she_scec Configuration template for mcxe247, Revision: latest.  ==========================</span><br><br><span class=\"yaml-commented-line\"># ======================================================================================================================</span><br><span class=\"yaml-commented-line\">#                                                 == General Options ==                                                 </span><br><span class=\"yaml-commented-line\"># ======================================================================================================================</span><br><span class=\"yaml-commented-line\"># -------------------------------------===== The chip family name [Required] =====--------------------------------------</span><br><span class=\"yaml-commented-line\"># Description: NXP chip family identifier.</span><br><span class=\"yaml-key\">family</span>: <span class=\"yaml-value\">mcxe247</span><br><span class=\"yaml-commented-line\"># -----------------------------------------===== MCU revision [Optional] =====------------------------------------------</span><br><span class=\"yaml-commented-line\"># Description: Revision of silicon. The 'latest' name, means most current revision.</span><br><span class=\"yaml-commented-line\"># Possible options: <a0, latest></span><br><span class=\"yaml-key\">revision</span>: <span class=\"yaml-value\">latest</span><br><span class=\"yaml-commented-line\"># ======================================================================================================================</span><br><span class=\"yaml-commented-line\">#                                         == SHE Configuration for using SCEc ==                                        </span><br><span class=\"yaml-commented-line\"># ======================================================================================================================</span><br><span class=\"yaml-commented-line\"># ------------------------------------===== Key for SCEc operation [Required] =====-------------------------------------</span><br><span class=\"yaml-commented-line\"># Description: AES-128 key used in SHE (Secure Hardware Extension) SCEc operation</span><br><span class=\"diff-removed\"><span class=\"yaml-key\">key</span>: <span class=\"yaml-value\">~/keys/new_key.txt</span></span><br><span class=\"diff-added\"><span class=\"yaml-key\">key</span>: <span class=\"yaml-value\">../keys/mac_key.hex</span></span><br><span class=\"yaml-commented-line\"># ----------------------------------------===== Key Identifier [Required] =====-----------------------------------------</span><br><span class=\"yaml-commented-line\"># Description: Unique identifier for the SCEc key slot</span><br><span class=\"yaml-commented-line\"># Possible options: <MASTER_ECU_KEY, BOOT_MAC_KEY, BOOT_MAC, RAM_KEY, USER_KEY_1, USER_KEY_2, USER_KEY_3, USER_KEY_4,</span><br><span class=\"yaml-commented-line\"># USER_KEY_5, USER_KEY_6, USER_KEY_7, USER_KEY_8, USER_KEY_9, USER_KEY_10></span><br><span class=\"diff-removed\"><span class=\"yaml-key\">key_id</span>: <span class=\"yaml-value\">USER_KEY_1</span> <span style=\"background-color: #FFFF00; border-radius: 5px; padding: 2px 6px;\n",
       "margin-left: 5px; font-size: 0.8em;\">Key slot</span></span><br><span class=\"diff-added\"><span class=\"yaml-key\">key_id</span>: <span class=\"yaml-value\">BOOT_MAC_KEY</span></span><br><span class=\"yaml-commented-line\"># -------------------------------------===== SHE Unique Identifier [Optional] =====-------------------------------------</span><br><span class=\"yaml-commented-line\"># Description: Unique identifier for the SHE device</span><br><span class=\"diff-removed\"><span class=\"yaml-key\">uid</span>: <span class=\"yaml-value\">305419896</span> <span style=\"background-color: #FFFF00; border-radius: 5px; padding: 2px 6px;\n",
       "margin-left: 5px; font-size: 0.8em;\">Not used in this example</span></span><br><span class=\"yaml-commented-line\"># --------------------------------------===== Authentication Key [Optional] =====---------------------------------------</span><br><span class=\"yaml-commented-line\"># Description: Authentication AES-128 key for SHE (Secure Hardware Extension) SCEc operation</span><br><span class=\"diff-removed\"><span class=\"yaml-key\">auth_key</span>: <span class=\"yaml-value\">~/keys/auth_key.txt</span> <span style=\"background-color: #FFFF00; border-radius: 5px; padding:\n",
       "2px 6px; margin-left: 5px; font-size: 0.8em;\">Use the master ecu key</span></span><br><span class=\"diff-added\"><span class=\"yaml-key\">auth_key</span>: <span class=\"yaml-value\">../keys/master_key.hex</span></span><br><span class=\"yaml-commented-line\"># ---------------------------------===== Authentication Key Identifier [Optional] =====---------------------------------</span><br><span class=\"yaml-commented-line\"># Description: Unique identifier for the authentication key in SHE SCEc operation</span><br><span class=\"yaml-commented-line\"># Possible options: <MASTER_ECU_KEY, BOOT_MAC_KEY></span><br><span class=\"yaml-key\">auth_key_id</span>: <span class=\"yaml-value\">MASTER_ECU_KEY</span> <span style=\"background-color: #FFFF00; border-radius: 5px; padding:\n",
       "2px 6px; margin-left: 5px; font-size: 0.8em;\">Id of authentication key</span><br><span class=\"yaml-commented-line\"># -----------------------------------------===== Counter Value [Optional] =====-----------------------------------------</span><br><span class=\"yaml-commented-line\"># Description: Counter used in SHE (Secure Hardware Extension) SCEc operation</span><br><span class=\"yaml-key\">counter</span>: <span class=\"yaml-value\">1</span> <span style=\"background-color: #FFFF00; border-radius: 5px; padding: 2px 6px; margin-\n",
       "left: 5px; font-size: 0.8em;\">Counter must be incremented with every update of a key</span><br><span class=\"yaml-commented-line\"># ======================================================================================================================</span><br><span class=\"yaml-commented-line\">#                                                == SHE-SCEc key flags ==                                               </span><br><span class=\"yaml-commented-line\"># ======================================================================================================================</span><br><span class=\"yaml-commented-line\"># -------------------------------------===== Write Protection Flag [Optional] =====-------------------------------------</span><br><span class=\"yaml-commented-line\"># Description: Enable or disable write protection for the SHE-SCEc key</span><br><span class=\"diff-removed\"><span class=\"yaml-key\">write_protection</span>: <span class=\"yaml-value\">false</span> <span style=\"background-color: #FFFF00; border-radius: 5px; padding: 2px\n",
       "6px; margin-left: 5px; font-size: 0.8em;\">Not used in this example</span></span><br><span class=\"yaml-commented-line\"># -------------------------------------===== Boot Protection Flag [Optional] =====--------------------------------------</span><br><span class=\"yaml-commented-line\"># Description: Enable or disable boot protection for the SHE-SCEc key</span><br><span class=\"diff-removed\"><span class=\"yaml-key\">boot_protection</span>: <span class=\"yaml-value\">false</span> <span style=\"background-color: #FFFF00; border-radius: 5px; padding: 2px\n",
       "6px; margin-left: 5px; font-size: 0.8em;\">Not used in this example</span></span><br><span class=\"yaml-commented-line\"># -----------------------------------===== Debugger Protection Flag [Optional] =====------------------------------------</span><br><span class=\"yaml-commented-line\"># Description: Enable or disable debugger protection for the SHE-SCEc key</span><br><span class=\"diff-removed\"><span class=\"yaml-key\">debugger_protection</span>: <span class=\"yaml-value\">false</span> <span style=\"background-color: #FFFF00; border-radius: 5px; padding:\n",
       "2px 6px; margin-left: 5px; font-size: 0.8em;\">Not used in this example</span></span><br><span class=\"yaml-commented-line\"># ----------------------------------------===== Key Usage Flag [Optional] =====-----------------------------------------</span><br><span class=\"yaml-commented-line\"># Description: Enable or disable key usage permissions for the SHE-SCEc key</span><br><span class=\"diff-removed\"><span class=\"yaml-key\">key_usage</span>: <span class=\"yaml-value\">false</span> <span style=\"background-color: #FFFF00; border-radius: 5px; padding: 2px 6px;\n",
       "margin-left: 5px; font-size: 0.8em;\">Not used in this example</span></span><br><span class=\"yaml-commented-line\"># ---------------------------------------===== Wildcard Key Flag [Optional] =====---------------------------------------</span><br><span class=\"yaml-commented-line\"># Description: Enable or disable wildcard key usage for the SHE-SCEc key</span><br><span class=\"diff-removed\"><span class=\"yaml-key\">wildcard</span>: <span class=\"yaml-value\">false</span> <span style=\"background-color: #FFFF00; border-radius: 5px; padding: 2px 6px;\n",
       "margin-left: 5px; font-size: 0.8em;\">Not used in this example</span></span><br></pre></div>\n",
       "            <div id=\"userConfigView_4077951cac9e0318096788eb5641eb00\" class=\"yaml-diff\" style=\"display:none;\"><pre class=\"yaml-diff\"><span class=\"yaml-commented-line\"># ==========================  she_scec Configuration template for mcxe247, Revision: latest.  ==========================</span><br><br><span class=\"yaml-commented-line\"># ======================================================================================================================</span><br><span class=\"yaml-commented-line\">#                                                 == General Options ==</span><br><span class=\"yaml-commented-line\"># ======================================================================================================================</span><br><span class=\"yaml-commented-line\"># -------------------------------------===== The chip family name [Required] =====--------------------------------------</span><br><span class=\"yaml-commented-line\"># Description: NXP chip family identifier.</span><br><span class=\"yaml-commented-line\"># Possible options: <mcxe245, mcxe246, mcxe247></span><br><span class=\"yaml-key\">family</span>: <span class=\"yaml-value\">mcxe247</span><br><span class=\"yaml-commented-line\"># -----------------------------------------===== MCU revision [Optional] =====------------------------------------------</span><br><span class=\"yaml-commented-line\"># Description: Revision of silicon. The 'latest' name, means most current revision.</span><br><span class=\"yaml-key\">revision</span>: <span class=\"yaml-value\">latest</span><br><span class=\"yaml-commented-line\"># ======================================================================================================================</span><br><span class=\"yaml-commented-line\">#                                         == SHE Configuration for using SCEc ==</span><br><span class=\"yaml-commented-line\"># ======================================================================================================================</span><br><span class=\"yaml-commented-line\"># ------------------------------------===== Key for SCEc operation [Required] =====-------------------------------------</span><br><span class=\"yaml-commented-line\"># Description: Cryptographic key used in SHE (Secure Hardware Extension) SCEc operation</span><br><span class=\"yaml-key\">key</span>: <span class=\"yaml-value\">../keys/mac_key.hex</span><br><span class=\"yaml-commented-line\"># ----------------------------------------===== Key Identifier [Required] =====-----------------------------------------</span><br><span class=\"yaml-commented-line\"># Description: Unique identifier for the SCEc key slot</span><br><span class=\"yaml-commented-line\"># Possible options: <MASTER_ECU_KEY, BOOT_MAC_KEY, BOOT_MAC, RAM_KEY, USER_KEY_1, USER_KEY_2, USER_KEY_3, USER_KEY_4,</span><br><span class=\"yaml-commented-line\"># USER_KEY_5, USER_KEY_6, USER_KEY_7, USER_KEY_8, USER_KEY_9, USER_KEY_10></span><br><span class=\"yaml-key\">key_id</span>: <span class=\"yaml-value\">BOOT_MAC_KEY</span> <span style=\"background-color: #FFFF00; border-radius: 5px; padding: 2px 6px;\n",
       "margin-left: 5px; font-size: 0.8em;\">Key slot</span><br><span class=\"yaml-commented-line\"># # -------------------------------------===== SHE Unique Identifier [Optional] =====-------------------------------------</span><br><span class=\"yaml-commented-line\"># # Description: Unique identifier for the SHE device</span><br><span class=\"yaml-commented-line\"># uid: 305419896</span><br><span class=\"yaml-commented-line\"># # --------------------------------------===== Authentication Key [Optional] =====---------------------------------------</span><br><span class=\"yaml-commented-line\"># # Description: Authentication key for SHE (Secure Hardware Extension) SCEc operation</span><br><span class=\"yaml-key\">auth_key</span>: <span class=\"yaml-value\">../keys/master_key.hex</span> <span style=\"background-color: #FFFF00; border-radius: 5px;\n",
       "padding: 2px 6px; margin-left: 5px; font-size: 0.8em;\">Use the master ecu key</span><br><span class=\"yaml-commented-line\"># # ---------------------------------===== Authentication Key Identifier [Optional] =====---------------------------------</span><br><span class=\"yaml-commented-line\"># # Description: Unique identifier for the authentication key in SHE SCEc operation</span><br><span class=\"yaml-commented-line\"># # Possible options: <MASTER_ECU_KEY, BOOT_MAC_KEY></span><br><span class=\"yaml-key\">auth_key_id</span>: <span class=\"yaml-value\">MASTER_ECU_KEY</span> <span style=\"background-color: #FFFF00; border-radius: 5px; padding:\n",
       "2px 6px; margin-left: 5px; font-size: 0.8em;\">Id of authentication key</span><br><span class=\"yaml-commented-line\"># # -----------------------------------------===== Counter Value [Optional] =====-----------------------------------------</span><br><span class=\"yaml-commented-line\"># # Description: Counter used in SHE (Secure Hardware Extension) SCEc operation</span><br><span class=\"yaml-key\">counter</span>: <span class=\"yaml-value\">1</span> <span style=\"background-color: #FFFF00; border-radius: 5px; padding: 2px 6px; margin-\n",
       "left: 5px; font-size: 0.8em;\">Counter must be incremented with every update of a key</span><br></pre></div>\n",
       "            </div>\n",
       "            "
      ],
      "text/plain": [
       "<IPython.core.display.HTML object>"
      ]
     },
     "execution_count": 33,
     "metadata": {},
     "output_type": "execute_result"
    }
   ],
   "source": [
    "# Get difference of template and user YAML configuration\n",
    "YamlDiffWidget(\"inputs/mcxe247_boot_mac_key.diffc\").html"
   ]
  },
  {
   "cell_type": "code",
   "execution_count": 11,
   "metadata": {},
   "outputs": [
    {
     "name": "stdout",
     "output_type": "stream",
     "text": [
      "nxpshe update -p COM6 -c inputs/boot_mac_key_config.yaml \n",
      "Sending update message to device\n",
      "Response status = 0 (0x0) Success.\n",
      "Updating key ID: 2 was successful.\n"
     ]
    }
   ],
   "source": [
    "%! nxpshe update $CONNECTION -c inputs/boot_mac_key_config.yaml"
   ]
  },
  {
   "cell_type": "markdown",
   "metadata": {},
   "source": [
    "## 7. BOOT_MAC calculation\n",
    "\n",
    "The BOOT_MAC is required for the secure boot mechanism and is therefore stored inside of\n",
    "SHE. It is not considered to be a secret information, however, it is treated like any other key inside of SHE for the ease of use.\n",
    "The BOOT_MAC is used to store the MAC of the Bootloader of the secure booting mechanism and may only be accessible to the booting mechanism of SHE.\n",
    "\n",
    "\n",
    "The BOOT_MAC can be written with the knowledge of the MASTER_ECU_KEY or BOOT_MAC_KEY and is protected by the common lock mechanism. The BOOT_MAC must be empty after production.\n",
    "\n",
    "### 7.1 Boot modes\n",
    "MCX E24x devices support three secure boot modes.\n",
    "\n",
    " - Sequential Boot Mode: In this mode, after RESET, the flash system comes out of RESET and the core stays in RESET or can execute. The secure boot process verifies the application firmware block. If secure boot is successful then the keys will be made available for security tasks, otherwise keys marked as boot protected will be blocked for all tasks. Lastly, the core starts executing application firmware.\n",
    "\n",
    " -  Strict Sequential Boot Mode: In this mode, after RESET, the flash system comes out of RESET and the core stays in RESET or can execute from ROM code. The secure boot process verifies the application firmware block. If secure boot is successful then the keys will be made available for security tasks. Otherwise, if CMAC comparison fails then main core stays in RESET (hence no application firmware is executed) or may execute ROM code.\n",
    "\n",
    "        NOTE\n",
    "\n",
    "        This boot mode is irreversible; that means once set, boot mode cannot be changed to the other boot modes.\n",
    "        Before setting this mode BOOT_MAC must be calculated and stored, otherwise the device will remain in RESET. (Automatic BOOT_MAC calculation does not run in this mode.)\n",
    "\n",
    " -  Parallel Boot Mode: In this mode, after RESET, the flash system and the main core come out of RESET and main core starts executing application firmware. In parallel to the main core execution, CSEC verifies the application firmware block using the secure boot process. If secure boot is successful then the keys will be made available for security tasks, otherwise keys marked as boot protected will be blocked for all tasks. Main core can still execute the firmware "
   ]
  },
  {
   "cell_type": "code",
   "execution_count": 12,
   "metadata": {},
   "outputs": [
    {
     "name": "stdout",
     "output_type": "stream",
     "text": [
      "nxpshe calc-boot-mac -p COM6 -k keys/mac_key.hex -d workspace/mcxe247_mbi_led_blinky.bin \n",
      "Calculated Boot MAC: 2a71b6517a932c0dfd52f64652ddaea4\n",
      "Boot MAC updated successfully.\n",
      "nxpshe set-boot-mode -p COM6 -bm serial -d workspace/mcxe247_mbi_led_blinky.bin \n",
      "Boot Mode updated successfully.\n"
     ]
    }
   ],
   "source": [
    "%! nxpshe calc-boot-mac $CONNECTION -k keys/mac_key.hex -d workspace/mcxe247_mbi_led_blinky.bin\n",
    "%! nxpshe set-boot-mode -p COM6 -bm serial -d workspace/mcxe247_mbi_led_blinky.bin"
   ]
  },
  {
   "cell_type": "markdown",
   "metadata": {},
   "source": [
    "## 8. Reset and Boot\n",
    "\n",
    "Finally, reset the device to boot the secure application."
   ]
  },
  {
   "cell_type": "code",
   "execution_count": 13,
   "metadata": {},
   "outputs": [
    {
     "name": "stdout",
     "output_type": "stream",
     "text": [
      "blhost -p COM6 reset \n",
      "Response status = 0 (0x0) Success.\n",
      "Device has been reset and should now boot securely.\n",
      "If the MAC verification passes, the application will run and sets the bitfield in Flash EdgeLock Accelerator (CSEC) Status Register (FCSE_STAT) on offset 0x4002002C.\n"
     ]
    }
   ],
   "source": [
    "# Reset the device\n",
    "%! blhost $CONNECTION reset\n",
    "\n",
    "print(\"Device has been reset and should now boot securely.\")\n",
    "print(\n",
    "    \"If the MAC verification passes, the application will run and sets the bitfield in Flash EdgeLock Accelerator (CSEC) Status Register (FCSE_STAT) on offset 0x4002002C.\"\n",
    ")"
   ]
  },
  {
   "cell_type": "markdown",
   "metadata": {},
   "source": [
    "## Conclusion\n",
    "\n",
    "This notebook has demonstrated the process of setting up secure boot on an MCXE247 device using the SHE module. The process includes:\n",
    "\n",
    "1. Loading the flashloader\n",
    "2. Preparing and programming the secure application\n",
    "3. Generating and loading the MASTER_ECU_KEY, BOOT_MAC_KEY, and BOOT_MAC\n",
    "4. Configuring the device for secure boot\n",
    "\n",
    "With this configuration, the device will verify the integrity and authenticity of the firmware during boot, providing protection against unauthorized modifications."
   ]
  }
 ],
 "metadata": {
  "kernelspec": {
   "display_name": "venv",
   "language": "python",
   "name": "python3"
  },
  "language_info": {
   "codemirror_mode": {
    "name": "ipython",
    "version": 3
   },
   "file_extension": ".py",
   "mimetype": "text/x-python",
   "name": "python",
   "nbconvert_exporter": "python",
   "pygments_lexer": "ipython3",
   "version": "3.10.6"
  }
 },
 "nbformat": 4,
 "nbformat_minor": 4
}
