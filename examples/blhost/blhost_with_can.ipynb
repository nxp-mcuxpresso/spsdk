{
 "cells": [
  {
   "attachments": {},
   "cell_type": "markdown",
   "metadata": {},
   "source": [
    "# Blhost with CAN Bus Interface\n",
    "This example demonstrates how to use the blhost tool to communicate with NXP microcontrollers over a CAN (Controller Area Network) bus interface."
   ]
  },
  {
   "cell_type": "markdown",
   "metadata": {},
   "source": [
    "## 1. Prerequisites\n",
    "  - SPSDK is needed with examples extension. `pip install spsdk[examples]` (Please refer to the [installation](../_knowledge_base/installation_guide.rst) documentation.)\n",
    "  - Install the CAN extension for CAN bus communication: `pip install spsdk[can]`\n",
    "  - Ensure CAN adapter drivers (e.g., PCAN-USB) are properly installed and configured on your system\n",
    "  - Connect your target board via CAN interface. In this example, we will be using a `KW45xx-EVK` board connected with a PCAN-USB adapter."
   ]
  },
  {
   "cell_type": "code",
   "execution_count": 1,
   "metadata": {
    "tags": [
     "remove-cell"
    ]
   },
   "outputs": [
    {
     "name": "stdout",
     "output_type": "stream",
     "text": [
      "env: JUPYTER_SPSDK=1\n",
      "Created `%!` as an alias for `%execute`.\n"
     ]
    }
   ],
   "source": [
    "# Initialization cell\n",
    "# This env variable sets colored logger output to STDOUT\n",
    "%env JUPYTER_SPSDK=1\n",
    "# Set a magic for command execution and echo\n",
    "%alias execute echo %l && %l\n",
    "%alias_magic ! execute"
   ]
  },
  {
   "cell_type": "markdown",
   "metadata": {},
   "source": [
    "## 2. CAN bus connection\n",
    "Use the blhost command with the `-cb` or `--can` parameter to communicate with devices connected via the CAN bus. This example uses the chip's default configuration. The arbitration ID and other CAN bus settings can be modified using the `pfr` command (refer to `pfr --help` and your chip's reference manual for details).\n",
    "\n",
    "> **Note**: Refer to the python-can library documentation for more information about supported interfaces."
   ]
  },
  {
   "cell_type": "code",
   "execution_count": 2,
   "metadata": {},
   "outputs": [
    {
     "name": "stdout",
     "output_type": "stream",
     "text": [
      "blhost --can pcan get-property 1 \n",
      "Response status = 0 (0x0) Success.\n",
      "Response word 1 = 1258488064 (0x4b030100)\n",
      "Current Version = K3.1.0\n"
     ]
    },
    {
     "name": "stderr",
     "output_type": "stream",
     "text": [
      "uptime library not available, timestamps are relative to boot time and not to Epoch UTC\n"
     ]
    }
   ],
   "source": [
    "CAN_INTERFACE = \"pcan\"\n",
    "%! blhost --can $CAN_INTERFACE get-property 1"
   ]
  }
 ],
 "metadata": {
  "kernelspec": {
   "display_name": "venv312",
   "language": "python",
   "name": "python3"
  },
  "language_info": {
   "codemirror_mode": {
    "name": "ipython",
    "version": 3
   },
   "file_extension": ".py",
   "mimetype": "text/x-python",
   "name": "python",
   "nbconvert_exporter": "python",
   "pygments_lexer": "ipython3",
   "version": "3.12.4"
  }
 },
 "nbformat": 4,
 "nbformat_minor": 2
}
