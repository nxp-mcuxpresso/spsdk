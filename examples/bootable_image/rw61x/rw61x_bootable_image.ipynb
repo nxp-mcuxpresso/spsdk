{
 "cells": [
  {
   "cell_type": "markdown",
   "id": "67234d8f",
   "metadata": {},
   "source": [
    "# RW61x Bootable Image"
   ]
  },
  {
   "cell_type": "markdown",
   "id": "b12ba169",
   "metadata": {},
   "source": []
  },
  {
   "cell_type": "markdown",
   "id": "255bfb0f",
   "metadata": {},
   "source": [
    "Bootable image is primarily intended for booting from the external memories. Bootable image encapsulates the executable application images and adds additional data processed by the bootROM that are needed for boot, like for example configuration of the flash memories.\n",
    "The bootable image might consists of:\n",
    "\n",
    "- Keyblob for data decryption\n",
    "- Keystore\n",
    "- FlexSPI Configuration Block (FCB)\n",
    "- Application Image - It might contain plain application image or MBI.\n",
    "\n",
    "## 1. Prerequisites\n",
    "- SPSDK is needed with examples extension. `pip install spsdk[examples]` (Please refer to the [installation](../../_knowledge_base/installation_guide.rst) documentation.)"
   ]
  },
  {
   "cell_type": "code",
   "execution_count": 1,
   "id": "071d29a3",
   "metadata": {},
   "outputs": [
    {
     "name": "stdout",
     "output_type": "stream",
     "text": [
      "env: JUPYTER_SPSDK=1\n",
      "Created `%!` as an alias for `%execute`.\n"
     ]
    }
   ],
   "source": [
    "# Initialization cell\n",
    "from spsdk.utils.jupyter_utils import YamlDiffWidget\n",
    "\n",
    "# This env variable sets colored logger output to STDOUT\n",
    "%env JUPYTER_SPSDK=1\n",
    "# Set a magic for command execution and echo\n",
    "%alias execute echo %l && %l\n",
    "%alias_magic ! execute\n",
    "\n",
    "WORKSPACE = \"workspace/\"  # change this to path to your workspace\n",
    "INPUTS = \"inputs/\"\n",
    "INTERFACE = \"pyocd\"  # choose debug interface\n",
    "FAMILY = \"rw612\"  # choose family"
   ]
  },
  {
   "cell_type": "markdown",
   "id": "0239be3a",
   "metadata": {},
   "source": [
    "## 2. Master Boot Image (MBI)\n",
    "\n",
    "We will need Master Boot Image (MBI) as a one part of bootable image. \n",
    "\n",
    "We use the *nxpimage* tool for image conversion. Plain binary file can be used directly for the unsecure boot. To ensure security, we need to generate (MBI). MBI can in addtion to raw binary contain CRC checksum, certificates and ARM TrustZone configuration.\n",
    "\n",
    "There are three types of MBI based on the authentication type: Plain, CRC and Signed and two variants of CRC and Signed images based on the execution target, either XIP (Executed in place) or in RAM.\n",
    "\n",
    "In this example we will use plain MBI.\n",
    "\n",
    "### 2.1 Prepare MBI Configuration file\n",
    "\n",
    "Generation of MBI is done with the *nxpimage* tool. First, we need to get the configuration template that will be used as a starting point.\n",
    "\n",
    "Let's begin by creating a template configuration file using the `nxpimage mbi get-templates` command. To simplify this example, we have already prepared configuration, which can be found in the [rw612_xip_plain.yaml](inputs/rw612_xip_plain.yaml) file. Below, we'll compare the differences between the template and our customized example to highlight the additions we've made.\n"
   ]
  },
  {
   "cell_type": "code",
   "execution_count": 4,
   "id": "1c112a4a",
   "metadata": {},
   "outputs": [
    {
     "name": "stdout",
     "output_type": "stream",
     "text": [
      "nxpimage mbi get-templates -f rw612 -o workspace/ --force \n",
      "Creating workspace/rw612_xip_plain.yaml template file.\n",
      "Creating workspace/rw612_xip_crc.yaml template file.\n",
      "Creating workspace/rw612_xip_signed.yaml template file.\n",
      "Creating workspace/rw612_load_to_ram_plain.yaml template file.\n",
      "Creating workspace/rw612_load_to_ram_crc.yaml template file.\n",
      "Creating workspace/rw612_load_to_ram_signed.yaml template file.\n"
     ]
    },
    {
     "data": {
      "text/html": [
       "\n",
       "            \n",
       "            <style>\n",
       "                .yaml-diff { font-family: monospace; background-color: #f0f0f0; padding: 1em; border: 1px solid #c0c0c0; }\n",
       "                .yaml-key { color: #0000CC; font-weight: bold; }\n",
       "                .yaml-value { color: #006600; }\n",
       "                .yaml-commented-line { color: #008800; }\n",
       "                .yaml-list-item { color: #660066; }\n",
       "                .diff-removed { background-color: #ffaaaa; }\n",
       "                .diff-added { background-color: #aaffaa; }\n",
       "                .yaml-comment {\n",
       "                    background-color: #FF8C00;\n",
       "                    color: #000000;\n",
       "                    border-radius: 50%;\n",
       "                    padding: 0 0.3em;\n",
       "                    margin-left: 0.5em;\n",
       "                    font-size: 0.8em;\n",
       "                    cursor: help;\n",
       "                    font-weight: bold;\n",
       "                    text-shadow: 1px 1px 1px rgba(255, 255, 255, 0.7);\n",
       "                }\n",
       "                #toggleButton_6f31eb5d7538826af4d68fa1ed1b692f {\n",
       "                    background-color: #4CAF50;\n",
       "                    border: none;\n",
       "                    color: white;\n",
       "                    padding: 10px 20px;\n",
       "                    text-align: center;\n",
       "                    text-decoration: none;\n",
       "                    display: inline-block;\n",
       "                    font-size: 16px;\n",
       "                    margin: 4px 2px;\n",
       "                    cursor: pointer;\n",
       "                }\n",
       "            </style>\n",
       "            \n",
       "            \n",
       "            <script>\n",
       "            function toggleView_6f31eb5d7538826af4d68fa1ed1b692f() {\n",
       "                var diffView = document.getElementById('diffView_6f31eb5d7538826af4d68fa1ed1b692f');\n",
       "                var userConfigView = document.getElementById('userConfigView_6f31eb5d7538826af4d68fa1ed1b692f');\n",
       "                var button = document.getElementById('toggleButton_6f31eb5d7538826af4d68fa1ed1b692f');\n",
       "\n",
       "                if (diffView.style.display === 'none' && userConfigView.style.display === 'none') {\n",
       "                    diffView.style.display = 'block';\n",
       "                    userConfigView.style.display = 'none';\n",
       "                    button.textContent = 'Show User Config';\n",
       "                } else if (diffView.style.display === 'block') {\n",
       "                    diffView.style.display = 'none';\n",
       "                    userConfigView.style.display = 'block';\n",
       "                    button.textContent = 'Hide';\n",
       "                } else {\n",
       "                    diffView.style.display = 'none';\n",
       "                    userConfigView.style.display = 'none';\n",
       "                    button.textContent = 'Show Diff';\n",
       "                }\n",
       "            }\n",
       "            </script>\n",
       "            \n",
       "            <div class=\"yaml-diff-container\">\n",
       "            <h3>Configuration Differences</h3>\n",
       "            <button onclick=\"toggleView_6f31eb5d7538826af4d68fa1ed1b692f()\" id=\"toggleButton_6f31eb5d7538826af4d68fa1ed1b692f\">Show Diff</button>\n",
       "            \n",
       "            <a href=\"data:text/plain;base64,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\" download=\"user_config.yaml\">\n",
       "                <button style=\"background-color: #4CAF50; border: none; color: white; padding: 10px 20px; text-align: center; text-decoration: none; display: inline-block; font-size: 16px; margin: 4px 2px; cursor: pointer;\">\n",
       "                    Download Config\n",
       "                </button>\n",
       "            </a>\n",
       "            \n",
       "            <div id=\"diffView_6f31eb5d7538826af4d68fa1ed1b692f\" class=\"yaml-diff\" style=\"display:none;\"><pre class=\"yaml-diff\"><span class=\"yaml-commented-line\"># =============================  mbi Configuration template for rw612, Revision: latest.  ==============================</span><br><br><span class=\"yaml-commented-line\"># ======================================================================================================================</span><br><span class=\"yaml-commented-line\">#                                                 == General Options ==                                                 </span><br><span class=\"yaml-commented-line\"># ======================================================================================================================</span><br><span class=\"yaml-commented-line\"># -------------------------------------===== The chip family name [Required] =====--------------------------------------</span><br><span class=\"yaml-commented-line\"># Description: NXP chip family identifier.</span><br><span class=\"yaml-key\">family</span>: <span class=\"yaml-value\">rw612</span><br><span class=\"yaml-commented-line\"># -----------------------------------------===== MCU revision [Optional] =====------------------------------------------</span><br><span class=\"yaml-commented-line\"># Description: Revision of silicon. The 'latest' name, means most current revision.</span><br><span class=\"yaml-commented-line\"># Possible options: <a1, a2, latest></span><br><span class=\"yaml-key\">revision</span>: <span class=\"yaml-value\">latest</span><br><span class=\"yaml-commented-line\"># ======================================================================================================================</span><br><span class=\"yaml-commented-line\">#                                                  == Basic Settings ==                                                 </span><br><span class=\"yaml-commented-line\"># ======================================================================================================================</span><br><span class=\"yaml-commented-line\"># --------------------------------------===== Application target [Required] =====---------------------------------------</span><br><span class=\"yaml-commented-line\"># Description: Definition if application is Execute in Place(XiP) or loaded to RAM during reset sequence.</span><br><span class=\"yaml-commented-line\"># Possible options: <xip, load-to-ram></span><br><span class=\"yaml-key\">outputImageExecutionTarget</span>: <span class=\"yaml-value\">xip</span><br><span class=\"yaml-commented-line\"># -------------------------------===== Type of boot image authentication [Required] =====-------------------------------</span><br><span class=\"yaml-commented-line\"># Description: Specification of final master boot image authentication.</span><br><span class=\"yaml-commented-line\"># Possible options: <crc, signed, plain></span><br><span class=\"yaml-key\">outputImageAuthenticationType</span>: <span class=\"yaml-value\">plain</span><br><span class=\"yaml-commented-line\"># ---------------------------------------===== Output Image name [Required] =====---------------------------------------</span><br><span class=\"yaml-commented-line\"># Description: The path for result binary file.</span><br><span class=\"diff-removed\"><span class=\"yaml-key\">masterBootOutputFile</span>: <span class=\"yaml-value\">my_mbi.bin</span> <span style=\"background-color: #FFFF00; border-radius: 5px;\n",
       "padding: 2px 6px; margin-left: 5px; font-size: 0.8em;\">Add path for result binary file</span></span><br><span class=\"diff-added\"><span class=\"yaml-key\">masterBootOutputFile</span>: <span class=\"yaml-value\">../workspace/mbi.bin</span></span><br><span class=\"yaml-commented-line\"># ------------------------------------===== Plain application image [Required] =====------------------------------------</span><br><span class=\"yaml-commented-line\"># Description: The input application image to by modified to Master Boot Image.</span><br><span class=\"diff-removed\"><span class=\"yaml-key\">inputImageFile</span>: <span class=\"yaml-value\">my_application.bin</span> <span style=\"background-color: #FFFF00; border-radius: 5px;\n",
       "padding: 2px 6px; margin-left: 5px; font-size: 0.8em;\">Add path to the input application image to by modified to Master Boot Image</span></span><br><span class=\"diff-added\"><span class=\"yaml-key\">inputImageFile</span>: <span class=\"yaml-value\">../inputs/rw612_xip_blinky.bin</span></span><br><span class=\"yaml-commented-line\"># --------------------------------===== Loading address of application [Required] =====---------------------------------</span><br><span class=\"yaml-commented-line\"># Description: Application loading address in RAM if not XiP, otherwise address of load in XiP.</span><br><span class=\"yaml-key\">outputImageExecutionAddress</span>: <span class=\"yaml-value\">0</span><br><span class=\"yaml-commented-line\"># ----------------------------------------===== Image version. [Optional] =====-----------------------------------------</span><br><span class=\"yaml-commented-line\"># Description: Image version is used for dual boot. The boot ROM decides which image to boot first based on the image</span><br><span class=\"yaml-commented-line\"># version. It boots the one with the newer image version first, and in case of a failure, it boots the older one.</span><br><span class=\"yaml-key\">imageVersion</span>: <span class=\"yaml-value\">0</span><br><span class=\"yaml-commented-line\"># ======================================================================================================================</span><br><span class=\"yaml-commented-line\">#                                               == Trust Zone Settings ==                                               </span><br><span class=\"yaml-commented-line\"># ======================================================================================================================</span><br><span class=\"yaml-commented-line\"># ---------------------------------===== TrustZone Customization file [Optional] =====----------------------------------</span><br><span class=\"yaml-commented-line\"># Description: If not specified the default values are used.</span><br><span class=\"diff-removed\"><span class=\"yaml-key\">trustZonePresetFile</span>: <span class=\"yaml-value\">my_tz_custom.yaml</span> <span style=\"background-color: #FFFF00; border-radius: 5px;\n",
       "padding: 2px 6px; margin-left: 5px; font-size: 0.8em;\">In our example we do not use trustzone</span></span><br><span class=\"diff-removed\"></span></pre></div>\n",
       "            <div id=\"userConfigView_6f31eb5d7538826af4d68fa1ed1b692f\" class=\"yaml-diff\" style=\"display:none;\"><pre class=\"yaml-diff\"><span class=\"yaml-commented-line\"># Copyright 2024-2025 NXP</span><br><span class=\"yaml-commented-line\">#</span><br><span class=\"yaml-commented-line\"># SPDX-License-Identifier: BSD-3-Clause</span><br><span class=\"yaml-commented-line\"># =============================  mbi Configuration template for rw612, Revision: latest.  ==============================</span><br><br><span class=\"yaml-commented-line\"># ======================================================================================================================</span><br><span class=\"yaml-commented-line\">#                                                 == General Options ==                                                 </span><br><span class=\"yaml-commented-line\"># ======================================================================================================================</span><br><span class=\"yaml-commented-line\"># -------------------------------------===== The chip family name [Required] =====--------------------------------------</span><br><span class=\"yaml-commented-line\"># Description: NXP chip family identifier.</span><br><span class=\"yaml-key\">family</span>: <span class=\"yaml-value\">rw612</span><br><span class=\"yaml-commented-line\"># -----------------------------------------===== MCU revision [Optional] =====------------------------------------------</span><br><span class=\"yaml-commented-line\"># Description: Revision of silicon. The 'latest' name, means most current revision.</span><br><span class=\"yaml-commented-line\"># Possible options: <a1, a2, latest></span><br><span class=\"yaml-key\">revision</span>: <span class=\"yaml-value\">latest</span><br><span class=\"yaml-commented-line\"># ======================================================================================================================</span><br><span class=\"yaml-commented-line\">#                                                  == Basic Settings ==                                                 </span><br><span class=\"yaml-commented-line\"># ======================================================================================================================</span><br><span class=\"yaml-commented-line\"># --------------------------------------===== Application target [Required] =====---------------------------------------</span><br><span class=\"yaml-commented-line\"># Description: Definition if application is Execute in Place(XiP) or loaded to RAM during reset sequence.</span><br><span class=\"yaml-commented-line\"># Possible options: <xip, load-to-ram></span><br><span class=\"yaml-key\">outputImageExecutionTarget</span>: <span class=\"yaml-value\">xip</span><br><span class=\"yaml-commented-line\"># -------------------------------===== Type of boot image authentication [Required] =====-------------------------------</span><br><span class=\"yaml-commented-line\"># Description: Specification of final master boot image authentication.</span><br><span class=\"yaml-commented-line\"># Possible options: <crc, plain, signed></span><br><span class=\"yaml-key\">outputImageAuthenticationType</span>: <span class=\"yaml-value\">plain</span><br><span class=\"yaml-commented-line\"># ---------------------------------------===== Output Image name [Required] =====---------------------------------------</span><br><span class=\"yaml-commented-line\"># Description: The path for result binary file.</span><br><span class=\"yaml-key\">masterBootOutputFile</span>: <span class=\"yaml-value\">../workspace/mbi.bin</span> <span style=\"background-color: #FFFF00; border-radius:\n",
       "5px; padding: 2px 6px; margin-left: 5px; font-size: 0.8em;\">Add path for result binary file</span><br><span class=\"yaml-commented-line\"># ------------------------------------===== Plain application image [Required] =====------------------------------------</span><br><span class=\"yaml-commented-line\"># Description: The input application image to by modified to Master Boot Image.</span><br><span class=\"yaml-key\">inputImageFile</span>: <span class=\"yaml-value\">../inputs/rw612_xip_blinky.bin</span> <span style=\"background-color: #FFFF00; border-\n",
       "radius: 5px; padding: 2px 6px; margin-left: 5px; font-size: 0.8em;\">Add path to the input application image to by modified to Master Boot Image</span><br><span class=\"yaml-commented-line\"># --------------------------------===== Loading address of application [Required] =====---------------------------------</span><br><span class=\"yaml-commented-line\"># Description: Application loading address in RAM if not XiP, otherwise address of load in XiP.</span><br><span class=\"yaml-key\">outputImageExecutionAddress</span>: <span class=\"yaml-value\">0</span><br><span class=\"yaml-commented-line\"># ----------------------------------------===== Image version. [Optional] =====-----------------------------------------</span><br><span class=\"yaml-commented-line\"># Description: Image version is used for dual boot. The boot ROM decides which image to boot first based on the image</span><br><span class=\"yaml-commented-line\"># version. It boots the one with the newer image version first, and in case of a failure, it boots the older one.</span><br><span class=\"yaml-key\">imageVersion</span>: <span class=\"yaml-value\">0</span><br><span class=\"yaml-commented-line\"># ======================================================================================================================</span><br><span class=\"yaml-commented-line\">#                                               == Trust Zone Settings ==                                               </span><br><span class=\"yaml-commented-line\"># ======================================================================================================================</span><br><span class=\"yaml-commented-line\"># ---------------------------------===== TrustZone Customization file [Optional] =====----------------------------------</span><br><span class=\"yaml-commented-line\"># Description: If not specified the default values are used.</span><br><span class=\"yaml-commented-line\"># trustZonePresetFile: my_tz_custom.yaml</span></pre></div>\n",
       "            </div>\n",
       "            "
      ],
      "text/plain": [
       "<IPython.core.display.HTML object>"
      ]
     },
     "execution_count": 4,
     "metadata": {},
     "output_type": "execute_result"
    }
   ],
   "source": [
    "# Get difference of template and user YAML configuration\n",
    "YamlDiffWidget(\"inputs/rw612_mbi.diffc\").html"
   ]
  },
  {
   "cell_type": "markdown",
   "id": "a6ed5d78",
   "metadata": {},
   "source": [
    "### 2.2 MBI generation\n",
    "\n",
    "So now it's time to create an MBI."
   ]
  },
  {
   "cell_type": "code",
   "execution_count": 5,
   "id": "00a429c4",
   "metadata": {},
   "outputs": [
    {
     "name": "stdout",
     "output_type": "stream",
     "text": [
      "nxpimage mbi export -c inputs/rw612_xip_plain.yaml \n",
      "Success. (Master Boot Image: workspace/mbi.bin created.)\n"
     ]
    }
   ],
   "source": [
    "# Generate MBI\n",
    "%! nxpimage mbi export -c inputs/rw612_xip_plain.yaml"
   ]
  },
  {
   "cell_type": "markdown",
   "id": "9d12e4b5",
   "metadata": {},
   "source": [
    "Now we have a working MBI that we will use in next steps"
   ]
  },
  {
   "cell_type": "markdown",
   "id": "f391c805",
   "metadata": {},
   "source": [
    "## 3. Create bootable image"
   ]
  },
  {
   "cell_type": "markdown",
   "id": "0e8572d2",
   "metadata": {},
   "source": [
    "Generation of bootable image is done with the *nxpimage* tool. First, we need to get the configuration template that will be used as a starting point.\n",
    "\n",
    "Let's begin by creating a template configuration file using the `nxpimage bootable-image get-templates` command. To simplify this example, we have already prepared configuration, which can be found in the [bootimg_rw612_flexspi_nor.yaml](inputs/bootimg_rw612_flexspi_nor.yaml) file. Below, we'll compare the differences between the template and our customized example to highlight the additions we've made."
   ]
  },
  {
   "cell_type": "code",
   "execution_count": 6,
   "id": "6ff99f84",
   "metadata": {},
   "outputs": [
    {
     "name": "stdout",
     "output_type": "stream",
     "text": [
      "nxpimage bootable-image get-templates -f rw612 -o workspace/ --force \n",
      "Creating workspace/bootimg_rw612_internal.yaml template file.\n",
      "Creating workspace/bootimg_rw612_flexspi_nor.yaml template file.\n"
     ]
    },
    {
     "data": {
      "text/html": [
       "\n",
       "            \n",
       "            <style>\n",
       "                .yaml-diff { font-family: monospace; background-color: #f0f0f0; padding: 1em; border: 1px solid #c0c0c0; }\n",
       "                .yaml-key { color: #0000CC; font-weight: bold; }\n",
       "                .yaml-value { color: #006600; }\n",
       "                .yaml-commented-line { color: #008800; }\n",
       "                .yaml-list-item { color: #660066; }\n",
       "                .diff-removed { background-color: #ffaaaa; }\n",
       "                .diff-added { background-color: #aaffaa; }\n",
       "                .yaml-comment {\n",
       "                    background-color: #FF8C00;\n",
       "                    color: #000000;\n",
       "                    border-radius: 50%;\n",
       "                    padding: 0 0.3em;\n",
       "                    margin-left: 0.5em;\n",
       "                    font-size: 0.8em;\n",
       "                    cursor: help;\n",
       "                    font-weight: bold;\n",
       "                    text-shadow: 1px 1px 1px rgba(255, 255, 255, 0.7);\n",
       "                }\n",
       "                #toggleButton_a090590069fa4ef93cf1983d0e2945e5 {\n",
       "                    background-color: #4CAF50;\n",
       "                    border: none;\n",
       "                    color: white;\n",
       "                    padding: 10px 20px;\n",
       "                    text-align: center;\n",
       "                    text-decoration: none;\n",
       "                    display: inline-block;\n",
       "                    font-size: 16px;\n",
       "                    margin: 4px 2px;\n",
       "                    cursor: pointer;\n",
       "                }\n",
       "            </style>\n",
       "            \n",
       "            \n",
       "            <script>\n",
       "            function toggleView_a090590069fa4ef93cf1983d0e2945e5() {\n",
       "                var diffView = document.getElementById('diffView_a090590069fa4ef93cf1983d0e2945e5');\n",
       "                var userConfigView = document.getElementById('userConfigView_a090590069fa4ef93cf1983d0e2945e5');\n",
       "                var button = document.getElementById('toggleButton_a090590069fa4ef93cf1983d0e2945e5');\n",
       "\n",
       "                if (diffView.style.display === 'none' && userConfigView.style.display === 'none') {\n",
       "                    diffView.style.display = 'block';\n",
       "                    userConfigView.style.display = 'none';\n",
       "                    button.textContent = 'Show User Config';\n",
       "                } else if (diffView.style.display === 'block') {\n",
       "                    diffView.style.display = 'none';\n",
       "                    userConfigView.style.display = 'block';\n",
       "                    button.textContent = 'Hide';\n",
       "                } else {\n",
       "                    diffView.style.display = 'none';\n",
       "                    userConfigView.style.display = 'none';\n",
       "                    button.textContent = 'Show Diff';\n",
       "                }\n",
       "            }\n",
       "            </script>\n",
       "            \n",
       "            <div class=\"yaml-diff-container\">\n",
       "            <h3>Configuration Differences</h3>\n",
       "            <button onclick=\"toggleView_a090590069fa4ef93cf1983d0e2945e5()\" id=\"toggleButton_a090590069fa4ef93cf1983d0e2945e5\">Show Diff</button>\n",
       "            \n",
       "            <a href=\"data:text/plain;base64,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\" download=\"user_config.yaml\">\n",
       "                <button style=\"background-color: #4CAF50; border: none; color: white; padding: 10px 20px; text-align: center; text-decoration: none; display: inline-block; font-size: 16px; margin: 4px 2px; cursor: pointer;\">\n",
       "                    Download Config\n",
       "                </button>\n",
       "            </a>\n",
       "            \n",
       "            <div id=\"diffView_a090590069fa4ef93cf1983d0e2945e5\" class=\"yaml-diff\" style=\"display:none;\"><pre class=\"yaml-diff\"><span class=\"yaml-commented-line\"># =====================  Bootable Image Configuration for rw612, Revision: latest / Flexspi NOR.  ======================</span><br><br><span class=\"yaml-commented-line\"># ======================================================================================================================</span><br><span class=\"yaml-commented-line\">#                                                 == General Options ==                                                 </span><br><span class=\"yaml-commented-line\"># ======================================================================================================================</span><br><span class=\"yaml-commented-line\"># -------------------------------------===== The chip family name [Required] =====--------------------------------------</span><br><span class=\"yaml-commented-line\"># Description: NXP chip family identifier.</span><br><span class=\"yaml-key\">family</span>: <span class=\"yaml-value\">rw612</span><br><span class=\"yaml-commented-line\"># -----------------------------------------===== MCU revision [Optional] =====------------------------------------------</span><br><span class=\"yaml-commented-line\"># Description: Revision of silicon. The 'latest' name, means most current revision.</span><br><span class=\"yaml-commented-line\"># Possible options: <a1, a2, latest></span><br><span class=\"yaml-key\">revision</span>: <span class=\"yaml-value\">latest</span><br><span class=\"yaml-commented-line\"># ------------------------------------------===== Memory type [Required] =====------------------------------------------</span><br><span class=\"yaml-commented-line\"># Description: Specify type of memory used by bootable image description.</span><br><span class=\"yaml-key\">memory_type</span>: <span class=\"yaml-value\">flexspi_nor</span><br><span class=\"yaml-commented-line\"># ----------------------------------------===== Initial segment [Optional] =====----------------------------------------</span><br><span class=\"yaml-commented-line\"># Description: The segment name or the index of initial segment in exported image</span><br><span class=\"yaml-key\">init_offset</span>: <span class=\"yaml-value\">0</span><br><span class=\"yaml-commented-line\"># -------------------------------===== Path to directory for post export [Optional] =====-------------------------------</span><br><span class=\"yaml-commented-line\"># Description: Path to directory where post export artifacts like fuse scripts, keyblobs etc. will be exported</span><br><span class=\"diff-removed\"><span class=\"yaml-key\">post_export</span>: <span class=\"yaml-value\">output</span></span><br><span class=\"yaml-commented-line\"># ======================================================================================================================</span><br><span class=\"yaml-commented-line\">#                                           == Bootable Segments definition ==                                          </span><br><span class=\"yaml-commented-line\"># ======================================================================================================================</span><br><span class=\"yaml-commented-line\"># ----------------------------------------===== FCB block path [Optional] =====-----------------------------------------</span><br><span class=\"yaml-commented-line\"># Description: Flash Configuration block Image path. It could be used as pre-prepared binary form of FCB and also YAML</span><br><span class=\"yaml-commented-line\"># configuration file for FCB. In case that YAML configuration file is used, the Bootable image tool build the FCB</span><br><span class=\"yaml-commented-line\"># itself.</span><br><span class=\"yaml-key\">fcb</span>: <span class=\"yaml-value\">fcb.bin</span><br><span class=\"yaml-commented-line\"># -----------------------------------------===== Image version [Optional] =====-----------------------------------------</span><br><span class=\"yaml-commented-line\"># Description: Image version</span><br><span class=\"yaml-key\">image_version</span>: <span class=\"yaml-value\">0</span><br><span class=\"yaml-commented-line\"># ======================================================================================================================</span><br><span class=\"yaml-commented-line\">#                                          == Executable Segment definition ==                                          </span><br><span class=\"yaml-commented-line\"># ======================================================================================================================</span><br><span class=\"yaml-commented-line\"># ---------------------------------------===== Master Boot Image [Optional] =====---------------------------------------</span><br><span class=\"yaml-commented-line\"># Description: Master Boot Image path. It could be used as pre-prepared binary form of MBI and also YAML configuration</span><br><span class=\"yaml-commented-line\"># file for MBI. In case that YAML configuration file is used, the Bootable image tool build the MBI itself.</span><br><span class=\"diff-removed\"><span class=\"yaml-key\">mbi</span>: <span class=\"yaml-value\">mbi.bin</span> <span style=\"background-color: #FFFF00; border-radius: 5px; padding: 2px 6px; margin-\n",
       "left: 5px; font-size: 0.8em;\">Add path for Master Boot Image </span></span><br><span class=\"diff-added\"><span class=\"yaml-key\">mbi</span>: <span class=\"yaml-value\">workspace/mbi.bin</span></span><br></pre></div>\n",
       "            <div id=\"userConfigView_a090590069fa4ef93cf1983d0e2945e5\" class=\"yaml-diff\" style=\"display:none;\"><pre class=\"yaml-diff\"><span class=\"yaml-commented-line\"># Copyright 2024 NXP</span><br><span class=\"yaml-commented-line\">#</span><br><span class=\"yaml-commented-line\"># SPDX-License-Identifier: BSD-3-Clause</span><br><span class=\"yaml-commented-line\"># ==========================  Bootable Image Configuration template for rw612 / Flexspi NOR.  ==========================</span><br><br><span class=\"yaml-commented-line\"># ======================================================================================================================</span><br><span class=\"yaml-commented-line\">#                                                 == General Options ==                                                 </span><br><span class=\"yaml-commented-line\"># ======================================================================================================================</span><br><span class=\"yaml-commented-line\"># -------------------------------------===== The chip family name [Required] =====--------------------------------------</span><br><span class=\"yaml-commented-line\"># Description: NXP chip family identifier.</span><br><span class=\"yaml-commented-line\"># Possible options: <k32w148, kw45b41z5, kw45b41z8, lpc5502, lpc5504, lpc5506, lpc5512, lpc5514, lpc5516, lpc5526,</span><br><span class=\"yaml-commented-line\"># lpc5528, lpc5534, lpc5536, lpc55s04, lpc55s06, lpc55s14, lpc55s16, lpc55s26, lpc55s28, lpc55s36, lpc55s66, lpc55s69,</span><br><span class=\"yaml-commented-line\"># mc56f81646, mc56f81648, mc56f81666, mc56f81668, mc56f81746, mc56f81748, mc56f81766, mc56f81768, mcxa132, mcxa133,</span><br><span class=\"yaml-commented-line\"># mcxa142, mcxa143, mcxa144, mcxa145, mcxa146, mcxa152, mcxa153, mcxa154, mcxa155, mcxa156, mcxn235, mcxn236, mcxn546,</span><br><span class=\"yaml-commented-line\"># mcxn547, mcxn946, mcxn947, mcxw716a, mcxw716c, mimx8ulp, mimx9131, mimx9352, mimx9596, mimxrt1010, mimxrt1015,</span><br><span class=\"yaml-commented-line\"># mimxrt1020, mimxrt1024, mimxrt1040, mimxrt1050, mimxrt1060, mimxrt1064, mimxrt1165, mimxrt1166, mimxrt1171,</span><br><span class=\"yaml-commented-line\"># mimxrt1172, mimxrt1173, mimxrt1175, mimxrt1176, mimxrt1181, mimxrt1182, mimxrt1187, mimxrt1189, mimxrt533s,</span><br><span class=\"yaml-commented-line\"># mimxrt555s, mimxrt595s, mimxrt685s, mimxrt798s, mwct2012, mwct2012a, nhs52s04, rw610, rw612></span><br><span class=\"yaml-key\">family</span>: <span class=\"yaml-value\">rw612</span><br><span class=\"yaml-commented-line\"># -----------------------------------------===== MCU revision [Optional] =====------------------------------------------</span><br><span class=\"yaml-commented-line\"># Description: Revision of silicon. The 'latest' name, means most current revision.</span><br><span class=\"yaml-commented-line\"># Possible options: <a1, a2, latest></span><br><span class=\"yaml-key\">revision</span>: <span class=\"yaml-value\">latest</span><br><span class=\"yaml-commented-line\"># ------------------------------------------===== Memory type [Required] =====------------------------------------------</span><br><span class=\"yaml-commented-line\"># Description: Specify type of memory used by bootable image description.</span><br><span class=\"yaml-key\">memory_type</span>: <span class=\"yaml-value\">flexspi_nor</span><br><span class=\"yaml-commented-line\"># ----------------------------------------===== Initial segment [Optional] =====----------------------------------------</span><br><span class=\"yaml-commented-line\"># Description: The segment name or the index of initial segment in exported image</span><br><span class=\"yaml-key\">init_offset</span>: <span class=\"yaml-value\">0</span><br><span class=\"yaml-commented-line\"># ======================================================================================================================</span><br><span class=\"yaml-commented-line\">#                                           == Bootable Segments definition ==</span><br><span class=\"yaml-commented-line\"># ======================================================================================================================</span><br><span class=\"yaml-commented-line\"># ----------------------------------------===== FCB block path [Optional] =====-----------------------------------------</span><br><span class=\"yaml-commented-line\"># Description: Flash Configuration block Image path. It could be used as pre-prepared binary form of FCB and also YAML</span><br><span class=\"yaml-commented-line\"># configuration file for FCB. In case that YAML configuration file is used, the Bootable image tool build the FCB</span><br><span class=\"yaml-commented-line\"># itself.</span><br><span class=\"yaml-key\">fcb</span>: <span class=\"yaml-value\">fcb.bin</span><br><span class=\"yaml-commented-line\"># -----------------------------------------===== Image version [Optional] =====-----------------------------------------</span><br><span class=\"yaml-commented-line\"># Description: Image version</span><br><span class=\"yaml-key\">image_version</span>: <span class=\"yaml-value\">0</span><br><span class=\"yaml-commented-line\"># ======================================================================================================================</span><br><span class=\"yaml-commented-line\">#                                          == Executable Segment definition ==</span><br><span class=\"yaml-commented-line\"># ======================================================================================================================</span><br><span class=\"yaml-commented-line\"># ---------------------------------------===== Master Boot Image [Optional] =====---------------------------------------</span><br><span class=\"yaml-commented-line\"># Description: Master Boot Image path. It could be used as pre-prepared binary form of MBI and also YAML configuration</span><br><span class=\"yaml-commented-line\"># file for MBI. In case that YAML configuration file is used, the Bootable image tool build the MBI itself.</span><br><span class=\"yaml-key\">mbi</span>: <span class=\"yaml-value\">workspace/mbi.bin</span> <span style=\"background-color: #FFFF00; border-radius: 5px; padding: 2px\n",
       "6px; margin-left: 5px; font-size: 0.8em;\">Add path for Master Boot Image </span><br></pre></div>\n",
       "            </div>\n",
       "            "
      ],
      "text/plain": [
       "<IPython.core.display.HTML object>"
      ]
     },
     "execution_count": 6,
     "metadata": {},
     "output_type": "execute_result"
    }
   ],
   "source": [
    "# Get difference of template and user YAML configuration\n",
    "YamlDiffWidget(\"inputs/rw612_bootimg.diffc\").html"
   ]
  },
  {
   "cell_type": "markdown",
   "id": "b05883a2",
   "metadata": {},
   "source": [
    "In order to create the final bootable image, we need to call `nxpimage bootable-image export` command. This command will put together all needed parts such as: MBI, FCB etc."
   ]
  },
  {
   "cell_type": "code",
   "execution_count": 7,
   "id": "a5d82858",
   "metadata": {},
   "outputs": [
    {
     "name": "stdout",
     "output_type": "stream",
     "text": [
      "nxpimage bootable-image export -c inputs/bootimg_rw612_flexspi_nor.yaml -o workspace/bootable_image.bin \n",
      "Success. (Bootable Image: workspace/bootable_image.bin created) \n"
     ]
    }
   ],
   "source": [
    "# Create the bootable image\n",
    "%! nxpimage bootable-image export -c inputs/bootimg_rw612_flexspi_nor.yaml -o workspace/bootable_image.bin"
   ]
  },
  {
   "cell_type": "markdown",
   "id": "686f7946",
   "metadata": {},
   "source": [
    "## 4. Device preparation\n",
    "\n",
    "Now it's time to prepare the device. In this example we will use FRDM-RW612 board.\n",
    "\n",
    "<img src=\"../../_data/img/boards/frdm-rw612.png\" alt=\"FRDM-RW612\" height=\"200\">"
   ]
  },
  {
   "cell_type": "markdown",
   "id": "665e1c12",
   "metadata": {},
   "source": [
    "Prepare device and use app *nxpdevscan* to check if the device is connected to the PC in In-System Programming (ISP) mode. The *nxpdevscan* must shown connected UART device with type \"mboot\" device. In following example the *nxpdebugmbox* is used to force device to ISP mode."
   ]
  },
  {
   "cell_type": "code",
   "execution_count": 7,
   "id": "728167c2",
   "metadata": {},
   "outputs": [
    {
     "name": "stdout",
     "output_type": "stream",
     "text": [
      "nxpdebugmbox -i pyocd cmd -f rw612 ispmode -m 1 \n",
      "  #   Interface   Id           Description             \n",
      "-------------------------------------------------------\n",
      "  0   PyOCD       1069211762   Segger J-Link MCU-Link  \n",
      "Entering into ISP mode succeeded\n",
      "nxpdevscan \n",
      "-------- Connected NXP USB Devices --------\n",
      "\n",
      "-------- Connected NXP UART Devices --------\n",
      "\n",
      "Port: COM119\n",
      "Type: mboot device\n",
      "\n",
      "-------- Connected NXP SIO Devices --------\n",
      "\n",
      "-------- Connected NXP UUU Devices --------\n",
      "\n"
     ]
    }
   ],
   "source": [
    "# force device to ISP mode\n",
    "%! nxpdebugmbox -i $INTERFACE cmd -f $FAMILY ispmode -m 1\n",
    "# check if the device is connected and detected by PC\n",
    "%! nxpdevscan"
   ]
  },
  {
   "cell_type": "code",
   "execution_count": 8,
   "id": "38126c19",
   "metadata": {},
   "outputs": [],
   "source": [
    "# determine the interface connection based on the result from nxpdevscan\n",
    "UART = \"-p COM119\""
   ]
  },
  {
   "cell_type": "markdown",
   "id": "bdae5d64",
   "metadata": {},
   "source": [
    "## 5. Running image"
   ]
  },
  {
   "cell_type": "markdown",
   "id": "64962a69",
   "metadata": {},
   "source": [
    "Run the command `nxpmemcfg blhost-script`, which generates a blhost script for the used chip memory on development board and this script called by `blhost` application configure a external flexSPI NOR memory in MCU."
   ]
  },
  {
   "cell_type": "code",
   "execution_count": 9,
   "id": "673ea43d",
   "metadata": {},
   "outputs": [
    {
     "name": "stdout",
     "output_type": "stream",
     "text": [
      "nxpmemcfg blhost-script -f rw612 -p flexspi_nor -m W25QxxxJV -i quad_spi --output workspace/script.txt --force \n",
      "Loaded option words: Opt0: 0xC0000207\n",
      "Exported blhost script.\n",
      "blhost -p COM119 batch workspace/script.txt \n",
      "Response status = 0 (0x0) Success.\n",
      "Response status = 0 (0x0) Success.\n",
      "blhost -p COM119 list-memory \n",
      "Internal Flash:\n",
      "Internal RAM:\n",
      "    Region 0: 0x10000000 - 0x1012FFFF; Total Size: 1.2 MiB\n",
      "    Region 1: 0x00000000 - 0x0012FFFF; Total Size: 1.2 MiB\n",
      "    Region 2: 0x20000000 - 0x2012FFFF; Total Size: 1.2 MiB\n",
      "    Region 3: 0x30000000 - 0x3012FFFF; Total Size: 1.2 MiB\n",
      "External Memories:\n",
      "FLEX-SPI-NOR:\n",
      "  Start Address = 0x08000000  Total Size = 64.0 MiB  Page Size = 256  Sector Size = 4096  Block Size = 65536 \n",
      "SPI-MEM:\n",
      "  Not Configured\n"
     ]
    }
   ],
   "source": [
    "# Generate memory configuration\n",
    "%! nxpmemcfg blhost-script -f $FAMILY -p flexspi_nor -m W25QxxxJV -i quad_spi --output workspace/script.txt --force\n",
    "# Configure memory\n",
    "%! blhost $UART batch workspace/script.txt\n",
    "# Check the configured memory\n",
    "%! blhost $UART list-memory"
   ]
  },
  {
   "cell_type": "markdown",
   "id": "56f147a0",
   "metadata": {},
   "source": [
    "Next step is to:\n",
    "- Erase flash on used blocks\n",
    "- Write the exported applications on correct place"
   ]
  },
  {
   "cell_type": "code",
   "execution_count": 10,
   "id": "9065a8f2",
   "metadata": {},
   "outputs": [
    {
     "name": "stdout",
     "output_type": "stream",
     "text": [
      "blhost -p COM119 flash-erase-region 0x0800_0000 0x10_000 \n",
      "Response status = 0 (0x0) Success.\n",
      "blhost -p COM119 write-memory 0x0800_0000 workspace/bootable_image.bin \n",
      "Writing memory\n",
      "Response status = 0 (0x0) Success.\n",
      "Response word 1 = 22340 (0x5744)\n"
     ]
    }
   ],
   "source": [
    "# Erase memory\n",
    "%! blhost $UART flash-erase-region 0x0800_0000 0x10_000\n",
    "# Write bootable image\n",
    "%! blhost $UART write-memory 0x0800_0000 workspace/bootable_image.bin"
   ]
  },
  {
   "cell_type": "markdown",
   "id": "160dc797",
   "metadata": {},
   "source": [
    "In this step we load the prepared configuration of shadow registers where the proper boot source is enabled and proper lifecycle."
   ]
  },
  {
   "cell_type": "code",
   "execution_count": 11,
   "id": "72e82846",
   "metadata": {},
   "outputs": [
    {
     "name": "stdout",
     "output_type": "stream",
     "text": [
      "shadowregs -i pyocd -f rw612 loadconfig -c inputs/shadow.yaml \n",
      "  #   Interface   Id           Description             \n",
      "-------------------------------------------------------\n",
      "  0   PyOCD       1069211762   Segger J-Link MCU-Link  \n",
      "\u001b[33mWARNING:spsdk.debuggers.utils:The test address is not specified. The standard address that doesn't fit all devices is used: 0x2000_0000 (3348ms since start, utils.py:138)\u001b[39m\n",
      "\u001b[33mWARNING:spsdk.apps.shadowregs:Verification is not possible on the rw612, it won't be performed. (3393ms since start, shadowregs.py:229)\u001b[39m\n",
      "The Shadow registers has been loaded by configuration in inputs/shadow.yaml YAML file\n",
      "shadowregs -i pyocd -f rw612 reset \n",
      "  #   Interface   Id           Description             \n",
      "-------------------------------------------------------\n",
      "  0   PyOCD       1069211762   Segger J-Link MCU-Link  \n",
      "The target has been reset.\n"
     ]
    }
   ],
   "source": [
    "# Write the shadow registers and reset\n",
    "%! shadowregs -i $INTERFACE -f $FAMILY loadconfig -c inputs/shadow.yaml\n",
    "%! shadowregs -i $INTERFACE -f $FAMILY reset"
   ]
  },
  {
   "cell_type": "markdown",
   "id": "6c0c4d46",
   "metadata": {},
   "source": [
    "## 6. Final result\n",
    "\n",
    "\n",
    "**At the end, the onboard led should be blinking**"
   ]
  }
 ],
 "metadata": {
  "kernelspec": {
   "display_name": "venv",
   "language": "python",
   "name": "python3"
  },
  "language_info": {
   "codemirror_mode": {
    "name": "ipython",
    "version": 3
   },
   "file_extension": ".py",
   "mimetype": "text/x-python",
   "name": "python",
   "nbconvert_exporter": "python",
   "pygments_lexer": "ipython3",
   "version": "3.11.9"
  }
 },
 "nbformat": 4,
 "nbformat_minor": 5
}
